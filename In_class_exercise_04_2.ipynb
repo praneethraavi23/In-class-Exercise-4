{
  "cells": [
    {
      "cell_type": "markdown",
      "metadata": {
        "id": "pPP4ZrGZ2nsr"
      },
      "source": [
        "# **The fourth in-class-exercise (40 points in total, 03/29/2022)**"
      ]
    },
    {
      "cell_type": "markdown",
      "metadata": {
        "id": "1qtxL79H2ntX"
      },
      "source": [
        "Question description: Please use the text corpus you collected in your last in-class-exercise for this exercise. Perform the following tasks:"
      ]
    },
    {
      "cell_type": "markdown",
      "metadata": {
        "id": "1DAUJOSJ2nta"
      },
      "source": [
        "## (1) (10 points) Generate K topics by using LDA, the number of topics K should be decided by the coherence score, then summarize what are the topics. You may refer the code here: \n",
        "\n",
        "https://www.machinelearningplus.com/nlp/topic-modeling-gensim-python/"
      ]
    },
    {
      "cell_type": "code",
      "source": [
        ""
      ],
      "metadata": {
        "id": "IOqGj38JHIf2"
      },
      "execution_count": null,
      "outputs": []
    },
    {
      "cell_type": "code",
      "execution_count": null,
      "metadata": {
        "colab": {
          "base_uri": "https://localhost:8080/"
        },
        "id": "fvHboohF2ntc",
        "outputId": "a0857e63-00cb-4a1a-b9f1-0de85fb55019"
      },
      "outputs": [
        {
          "name": "stdout",
          "output_type": "stream",
          "text": [
            "[nltk_data] Downloading package stopwords to /root/nltk_data...\n",
            "[nltk_data]   Unzipping corpora/stopwords.zip.\n"
          ]
        },
        {
          "data": {
            "text/plain": [
              "True"
            ]
          },
          "execution_count": 1,
          "metadata": {},
          "output_type": "execute_result"
        }
      ],
      "source": [
        "import nltk; nltk.download('stopwords')"
      ]
    },
    {
      "cell_type": "code",
      "execution_count": null,
      "metadata": {
        "id": "1UapZLjx2nti"
      },
      "outputs": [],
      "source": [
        "import re\n",
        "import numpy as np\n",
        "import pandas as pd\n",
        "from pprint import pprint"
      ]
    },
    {
      "cell_type": "code",
      "execution_count": null,
      "metadata": {
        "colab": {
          "base_uri": "https://localhost:8080/"
        },
        "id": "zLS6o8yZ2ntk",
        "outputId": "b7b40e65-5185-45cc-f8aa-107c837d7bec"
      },
      "outputs": [
        {
          "name": "stdout",
          "output_type": "stream",
          "text": [
            "Requirement already satisfied: gensim in /usr/local/lib/python3.7/dist-packages (3.6.0)\n",
            "Requirement already satisfied: scipy>=0.18.1 in /usr/local/lib/python3.7/dist-packages (from gensim) (1.4.1)\n",
            "Requirement already satisfied: six>=1.5.0 in /usr/local/lib/python3.7/dist-packages (from gensim) (1.15.0)\n",
            "Requirement already satisfied: smart-open>=1.2.1 in /usr/local/lib/python3.7/dist-packages (from gensim) (5.2.1)\n",
            "Requirement already satisfied: numpy>=1.11.3 in /usr/local/lib/python3.7/dist-packages (from gensim) (1.21.5)\n"
          ]
        }
      ],
      "source": [
        "!pip install gensim\n",
        "import gensim\n",
        "import gensim.corpora as corpora\n",
        "from gensim.utils import simple_preprocess\n",
        "from gensim.models import CoherenceModel"
      ]
    },
    {
      "cell_type": "code",
      "execution_count": null,
      "metadata": {
        "colab": {
          "base_uri": "https://localhost:8080/"
        },
        "id": "Xq8dEBm42ntm",
        "outputId": "4fec5c75-3c49-41bd-fb46-33d9fda5a5cc"
      },
      "outputs": [
        {
          "name": "stdout",
          "output_type": "stream",
          "text": [
            "Collecting pyLDAvis\n",
            "  Downloading pyLDAvis-3.3.1.tar.gz (1.7 MB)\n",
            "\u001b[K     |████████████████████████████████| 1.7 MB 10.9 MB/s \n",
            "\u001b[?25h  Installing build dependencies ... \u001b[?25l\u001b[?25hdone\n",
            "  Getting requirements to build wheel ... \u001b[?25l\u001b[?25hdone\n",
            "  Installing backend dependencies ... \u001b[?25l\u001b[?25hdone\n",
            "    Preparing wheel metadata ... \u001b[?25l\u001b[?25hdone\n",
            "Requirement already satisfied: sklearn in /usr/local/lib/python3.7/dist-packages (from pyLDAvis) (0.0)\n",
            "Requirement already satisfied: setuptools in /usr/local/lib/python3.7/dist-packages (from pyLDAvis) (57.4.0)\n",
            "Requirement already satisfied: numexpr in /usr/local/lib/python3.7/dist-packages (from pyLDAvis) (2.8.1)\n",
            "Requirement already satisfied: jinja2 in /usr/local/lib/python3.7/dist-packages (from pyLDAvis) (2.11.3)\n",
            "Requirement already satisfied: joblib in /usr/local/lib/python3.7/dist-packages (from pyLDAvis) (1.1.0)\n",
            "Requirement already satisfied: pandas>=1.2.0 in /usr/local/lib/python3.7/dist-packages (from pyLDAvis) (1.3.5)\n",
            "Collecting funcy\n",
            "  Downloading funcy-1.17-py2.py3-none-any.whl (33 kB)\n",
            "Requirement already satisfied: future in /usr/local/lib/python3.7/dist-packages (from pyLDAvis) (0.16.0)\n",
            "Requirement already satisfied: numpy>=1.20.0 in /usr/local/lib/python3.7/dist-packages (from pyLDAvis) (1.21.5)\n",
            "Requirement already satisfied: scipy in /usr/local/lib/python3.7/dist-packages (from pyLDAvis) (1.4.1)\n",
            "Requirement already satisfied: gensim in /usr/local/lib/python3.7/dist-packages (from pyLDAvis) (3.6.0)\n",
            "Requirement already satisfied: scikit-learn in /usr/local/lib/python3.7/dist-packages (from pyLDAvis) (1.0.2)\n",
            "Requirement already satisfied: python-dateutil>=2.7.3 in /usr/local/lib/python3.7/dist-packages (from pandas>=1.2.0->pyLDAvis) (2.8.2)\n",
            "Requirement already satisfied: pytz>=2017.3 in /usr/local/lib/python3.7/dist-packages (from pandas>=1.2.0->pyLDAvis) (2018.9)\n",
            "Requirement already satisfied: six>=1.5 in /usr/local/lib/python3.7/dist-packages (from python-dateutil>=2.7.3->pandas>=1.2.0->pyLDAvis) (1.15.0)\n",
            "Requirement already satisfied: smart-open>=1.2.1 in /usr/local/lib/python3.7/dist-packages (from gensim->pyLDAvis) (5.2.1)\n",
            "Requirement already satisfied: MarkupSafe>=0.23 in /usr/local/lib/python3.7/dist-packages (from jinja2->pyLDAvis) (2.0.1)\n",
            "Requirement already satisfied: packaging in /usr/local/lib/python3.7/dist-packages (from numexpr->pyLDAvis) (21.3)\n",
            "Requirement already satisfied: pyparsing!=3.0.5,>=2.0.2 in /usr/local/lib/python3.7/dist-packages (from packaging->numexpr->pyLDAvis) (3.0.7)\n",
            "Requirement already satisfied: threadpoolctl>=2.0.0 in /usr/local/lib/python3.7/dist-packages (from scikit-learn->pyLDAvis) (3.1.0)\n",
            "Building wheels for collected packages: pyLDAvis\n",
            "  Building wheel for pyLDAvis (PEP 517) ... \u001b[?25l\u001b[?25hdone\n",
            "  Created wheel for pyLDAvis: filename=pyLDAvis-3.3.1-py2.py3-none-any.whl size=136898 sha256=56e64f651fa039362d46bf686017fdc26649c12b94c476a6e87bddcb9d7e7a8f\n",
            "  Stored in directory: /root/.cache/pip/wheels/c9/21/f6/17bcf2667e8a68532ba2fbf6d5c72fdf4c7f7d9abfa4852d2f\n",
            "Successfully built pyLDAvis\n",
            "Installing collected packages: funcy, pyLDAvis\n",
            "Successfully installed funcy-1.17 pyLDAvis-3.3.1\n"
          ]
        },
        {
          "name": "stderr",
          "output_type": "stream",
          "text": [
            "/usr/local/lib/python3.7/dist-packages/past/types/oldstr.py:5: DeprecationWarning: Using or importing the ABCs from 'collections' instead of from 'collections.abc' is deprecated since Python 3.3,and in 3.9 it will stop working\n",
            "  from collections import Iterable\n"
          ]
        }
      ],
      "source": [
        "!pip install pyLDAvis\n",
        "import pyLDAvis\n",
        "import gensim\n",
        "import matplotlib.pyplot as plt\n",
        "%matplotlib inline"
      ]
    },
    {
      "cell_type": "code",
      "execution_count": null,
      "metadata": {
        "colab": {
          "base_uri": "https://localhost:8080/",
          "height": 1000
        },
        "id": "P7HZBgm750Bx",
        "outputId": "72873371-43df-426e-fab6-5049a052a3d5"
      },
      "outputs": [
        {
          "name": "stdout",
          "output_type": "stream",
          "text": [
            "Collecting datasets\n",
            "  Downloading datasets-2.0.0-py3-none-any.whl (325 kB)\n",
            "\u001b[K     |████████████████████████████████| 325 kB 11.8 MB/s \n",
            "\u001b[?25hCollecting fsspec[http]>=2021.05.0\n",
            "  Downloading fsspec-2022.3.0-py3-none-any.whl (136 kB)\n",
            "\u001b[K     |████████████████████████████████| 136 kB 46.6 MB/s \n",
            "\u001b[?25hRequirement already satisfied: requests>=2.19.0 in /usr/local/lib/python3.7/dist-packages (from datasets) (2.23.0)\n",
            "Requirement already satisfied: pandas in /usr/local/lib/python3.7/dist-packages (from datasets) (1.3.5)\n",
            "Requirement already satisfied: numpy>=1.17 in /usr/local/lib/python3.7/dist-packages (from datasets) (1.21.5)\n",
            "Collecting huggingface-hub<1.0.0,>=0.1.0\n",
            "  Downloading huggingface_hub-0.4.0-py3-none-any.whl (67 kB)\n",
            "\u001b[K     |████████████████████████████████| 67 kB 5.4 MB/s \n",
            "\u001b[?25hRequirement already satisfied: dill in /usr/local/lib/python3.7/dist-packages (from datasets) (0.3.4)\n",
            "Requirement already satisfied: tqdm>=4.62.1 in /usr/local/lib/python3.7/dist-packages (from datasets) (4.63.0)\n",
            "Requirement already satisfied: multiprocess in /usr/local/lib/python3.7/dist-packages (from datasets) (0.70.12.2)\n",
            "Requirement already satisfied: packaging in /usr/local/lib/python3.7/dist-packages (from datasets) (21.3)\n",
            "Requirement already satisfied: pyarrow>=5.0.0 in /usr/local/lib/python3.7/dist-packages (from datasets) (6.0.1)\n",
            "Requirement already satisfied: importlib-metadata in /usr/local/lib/python3.7/dist-packages (from datasets) (4.11.3)\n",
            "Collecting xxhash\n",
            "  Downloading xxhash-3.0.0-cp37-cp37m-manylinux_2_17_x86_64.manylinux2014_x86_64.whl (212 kB)\n",
            "\u001b[K     |████████████████████████████████| 212 kB 34.1 MB/s \n",
            "\u001b[?25hCollecting aiohttp\n",
            "  Downloading aiohttp-3.8.1-cp37-cp37m-manylinux_2_5_x86_64.manylinux1_x86_64.manylinux_2_12_x86_64.manylinux2010_x86_64.whl (1.1 MB)\n",
            "\u001b[K     |████████████████████████████████| 1.1 MB 44.6 MB/s \n",
            "\u001b[?25hCollecting responses<0.19\n",
            "  Downloading responses-0.18.0-py3-none-any.whl (38 kB)\n",
            "Requirement already satisfied: typing-extensions>=3.7.4.3 in /usr/local/lib/python3.7/dist-packages (from huggingface-hub<1.0.0,>=0.1.0->datasets) (3.10.0.2)\n",
            "Requirement already satisfied: pyyaml in /usr/local/lib/python3.7/dist-packages (from huggingface-hub<1.0.0,>=0.1.0->datasets) (3.13)\n",
            "Requirement already satisfied: filelock in /usr/local/lib/python3.7/dist-packages (from huggingface-hub<1.0.0,>=0.1.0->datasets) (3.6.0)\n",
            "Requirement already satisfied: pyparsing!=3.0.5,>=2.0.2 in /usr/local/lib/python3.7/dist-packages (from packaging->datasets) (3.0.7)\n",
            "Requirement already satisfied: urllib3!=1.25.0,!=1.25.1,<1.26,>=1.21.1 in /usr/local/lib/python3.7/dist-packages (from requests>=2.19.0->datasets) (1.24.3)\n",
            "Requirement already satisfied: idna<3,>=2.5 in /usr/local/lib/python3.7/dist-packages (from requests>=2.19.0->datasets) (2.10)\n",
            "Requirement already satisfied: chardet<4,>=3.0.2 in /usr/local/lib/python3.7/dist-packages (from requests>=2.19.0->datasets) (3.0.4)\n",
            "Requirement already satisfied: certifi>=2017.4.17 in /usr/local/lib/python3.7/dist-packages (from requests>=2.19.0->datasets) (2021.10.8)\n",
            "Collecting urllib3!=1.25.0,!=1.25.1,<1.26,>=1.21.1\n",
            "  Downloading urllib3-1.25.11-py2.py3-none-any.whl (127 kB)\n",
            "\u001b[K     |████████████████████████████████| 127 kB 39.5 MB/s \n",
            "\u001b[?25hRequirement already satisfied: charset-normalizer<3.0,>=2.0 in /usr/local/lib/python3.7/dist-packages (from aiohttp->datasets) (2.0.12)\n",
            "Collecting yarl<2.0,>=1.0\n",
            "  Downloading yarl-1.7.2-cp37-cp37m-manylinux_2_5_x86_64.manylinux1_x86_64.manylinux_2_12_x86_64.manylinux2010_x86_64.whl (271 kB)\n",
            "\u001b[K     |████████████████████████████████| 271 kB 51.5 MB/s \n",
            "\u001b[?25hCollecting aiosignal>=1.1.2\n",
            "  Downloading aiosignal-1.2.0-py3-none-any.whl (8.2 kB)\n",
            "Collecting multidict<7.0,>=4.5\n",
            "  Downloading multidict-6.0.2-cp37-cp37m-manylinux_2_17_x86_64.manylinux2014_x86_64.whl (94 kB)\n",
            "\u001b[K     |████████████████████████████████| 94 kB 3.0 MB/s \n",
            "\u001b[?25hRequirement already satisfied: attrs>=17.3.0 in /usr/local/lib/python3.7/dist-packages (from aiohttp->datasets) (21.4.0)\n",
            "Collecting async-timeout<5.0,>=4.0.0a3\n",
            "  Downloading async_timeout-4.0.2-py3-none-any.whl (5.8 kB)\n",
            "Collecting frozenlist>=1.1.1\n",
            "  Downloading frozenlist-1.3.0-cp37-cp37m-manylinux_2_5_x86_64.manylinux1_x86_64.manylinux_2_17_x86_64.manylinux2014_x86_64.whl (144 kB)\n",
            "\u001b[K     |████████████████████████████████| 144 kB 50.3 MB/s \n",
            "\u001b[?25hCollecting asynctest==0.13.0\n",
            "  Downloading asynctest-0.13.0-py3-none-any.whl (26 kB)\n",
            "Requirement already satisfied: zipp>=0.5 in /usr/local/lib/python3.7/dist-packages (from importlib-metadata->datasets) (3.7.0)\n",
            "Requirement already satisfied: python-dateutil>=2.7.3 in /usr/local/lib/python3.7/dist-packages (from pandas->datasets) (2.8.2)\n",
            "Requirement already satisfied: pytz>=2017.3 in /usr/local/lib/python3.7/dist-packages (from pandas->datasets) (2018.9)\n",
            "Requirement already satisfied: six>=1.5 in /usr/local/lib/python3.7/dist-packages (from python-dateutil>=2.7.3->pandas->datasets) (1.15.0)\n",
            "Installing collected packages: multidict, frozenlist, yarl, urllib3, asynctest, async-timeout, aiosignal, fsspec, aiohttp, xxhash, responses, huggingface-hub, datasets\n",
            "  Attempting uninstall: urllib3\n",
            "    Found existing installation: urllib3 1.24.3\n",
            "    Uninstalling urllib3-1.24.3:\n",
            "      Successfully uninstalled urllib3-1.24.3\n",
            "\u001b[31mERROR: pip's dependency resolver does not currently take into account all the packages that are installed. This behaviour is the source of the following dependency conflicts.\n",
            "datascience 0.10.6 requires folium==0.2.1, but you have folium 0.8.3 which is incompatible.\u001b[0m\n",
            "Successfully installed aiohttp-3.8.1 aiosignal-1.2.0 async-timeout-4.0.2 asynctest-0.13.0 datasets-2.0.0 frozenlist-1.3.0 fsspec-2022.3.0 huggingface-hub-0.4.0 multidict-6.0.2 responses-0.18.0 urllib3-1.25.11 xxhash-3.0.0 yarl-1.7.2\n"
          ]
        },
        {
          "data": {
            "application/vnd.colab-display-data+json": {
              "pip_warning": {
                "packages": [
                  "urllib3"
                ]
              }
            }
          },
          "metadata": {},
          "output_type": "display_data"
        }
      ],
      "source": [
        "!pip install datasets\n",
        "import datasets\n",
        "from datasets import load_dataset\n"
      ]
    },
    {
      "cell_type": "code",
      "execution_count": null,
      "metadata": {
        "colab": {
          "base_uri": "https://localhost:8080/",
          "height": 215,
          "referenced_widgets": [
            "e00346a7c8434dbc881f98cc30e4f1fb",
            "b065fc3ae2e148f7b63e7a0c510e4e93",
            "9a96a67953fc4aabb3f59ca378ed5752",
            "8b23027d0bb74f4a84a663e2e64faa53",
            "862829f1b7ad42deb3e202142058bd7e",
            "5eb53334bc3742b1889505c7310d7f08",
            "5edeba277f0249efa3e784c778943ec9",
            "1b2c1412b42846ce950021a0ff33b982",
            "95d3947442a84b40b0d7d39d071c6fbb",
            "9c9241d543fb4944a2d9ecfb6e5534e0",
            "1a6c61a5c9b9440ea419b79ee320f4c8",
            "a125c2122fb2438d9b6cff831bcc80a6",
            "22969d2f92d2492ca9d7ac239f75f921",
            "0f0b81cda7774233b455707d5e5174b6",
            "eddb0df44b24477fb7de368057b55b68",
            "212ae24db6434089871eddf5a72913a3",
            "86bf0b47793540f8957491ec858343c6",
            "a5d6a7d00617413d88b373bd9a8b54d2",
            "d1169867e7044ed4b3e05a626a7e8ee5",
            "02c67bc3854a4603b536177386e061fa",
            "8565a51f99c44a9f97aebafbfb7bcfcf",
            "978432b1fe0243a1ab816f400df16619",
            "86b155bace5c4c009cfb4a6365945e80",
            "3af5f421a54b4612beab702869094d7d",
            "01835e3c2ffa4e4981ead5dfc6be669b",
            "b7fbde66905247809254250dc5aa4c58",
            "fd4a9d646f5b4227b8c0fc223f251110",
            "f2db89ce44144ba1b6c730bae386b3a0",
            "961b0ae6e8bd4899a09640553751df41",
            "1bc00a13a1e646ed90883eb07f94b2d6",
            "c44346ca9af145008153b36be31a4ef8",
            "2574ed5663bf4ee6bdf793b147893eea",
            "2adadb2d74fb44108d89dfe206be5f1a",
            "d796f4492abb49afb34879eb12a3f097",
            "8b4b7210c0994527afd18fc301daaed6",
            "ed3569bf77654746b7956090541ec314",
            "f1dc626608de438c82e99bab3e5bbc11",
            "155b6d0bf73d4d66ba8d32c6a083a367",
            "2c1a349b019842beaa3ecfac8e312cd0",
            "926066f233eb47b59453797331fbfcbf",
            "7b635a58f5a4406fa81d59e552b67180",
            "38322db69e394ffcb3dbb46a4c0db509",
            "626404bda77a41d0ae1b27aef1479ea3",
            "bb49256da0414bba91d9d9a248f53d0a",
            "d4e332f377a240e0b926126bb3d1e8f2",
            "d40e89b7e02c4ff6b82a29bb0e498abf",
            "d423f14253b849f9876b0219c2cc2cf0",
            "150da5e284f3484b849c82db8f227fa5",
            "b3f000b3ed1d48bb9c4f0a6935888b4c",
            "398924f5e5b84f51bfec520c2d37101b",
            "d505adee401c47b081c371554b299711",
            "a02587280519433bb81ee0ae2eaab2c1",
            "b47076b226284ae48a7e3725d92b8375",
            "770ed0bbd6f44aa08871ac417469d3d9",
            "0bbea2bd26964d4bae6ef4d575c755c2",
            "d358f63a61604a0e9af66d2fd9c2d78a",
            "993beb97de384bcaa2ca40510a18113b",
            "6746382a70354f42a6c68163a109ed6a",
            "2af3325570514baf9b3f5a66da752748",
            "e2cf32ad617947c3a65ffc4ea0490ffc",
            "f5991f70f0b74f0d84440c0df9e6f510",
            "3230f7e0bac74451a968a588324e0e8b",
            "12e57e0e65414338a47c5562e9939b51",
            "d5aa54b040214447ae1aed8be7c58904",
            "1aed88e4fd9e4a95ba9a1ee2093be17c",
            "b68b64aa81e3429e8067ea9e150ffd80",
            "7ab91d8884674388a876d23f75a8357d",
            "c31d757e760a450192618d5170913dae",
            "cc481b7552db4f56aa0c58f5beab7a15",
            "587c49dc4ce14095a0512e736452fde7",
            "aac8164bf5014e3ab3d5126effad1828",
            "00ef7b60ffcb414d839132ca26942f31",
            "dfead62964634d7b9c67fa08bbe8f33a",
            "ee110dbb5e644d73af09ae5c67bddbeb",
            "0759b1dba2be400dae3587b4137aa532",
            "ec7455280bff40bdaf9d6a5129d71f58",
            "43ccd763941e495c9414c0a836d44b12"
          ]
        },
        "id": "KPXJif-_7QLD",
        "outputId": "f81cfb12-03fc-45f3-88a5-9e207e183eaf"
      },
      "outputs": [
        {
          "data": {
            "application/vnd.jupyter.widget-view+json": {
              "model_id": "e00346a7c8434dbc881f98cc30e4f1fb",
              "version_major": 2,
              "version_minor": 0
            },
            "text/plain": [
              "Downloading builder script:   0%|          | 0.00/1.61k [00:00<?, ?B/s]"
            ]
          },
          "metadata": {},
          "output_type": "display_data"
        },
        {
          "data": {
            "application/vnd.jupyter.widget-view+json": {
              "model_id": "a125c2122fb2438d9b6cff831bcc80a6",
              "version_major": 2,
              "version_minor": 0
            },
            "text/plain": [
              "Downloading metadata:   0%|          | 0.00/932 [00:00<?, ?B/s]"
            ]
          },
          "metadata": {},
          "output_type": "display_data"
        },
        {
          "name": "stderr",
          "output_type": "stream",
          "text": [
            "Using custom data configuration default\n"
          ]
        },
        {
          "name": "stdout",
          "output_type": "stream",
          "text": [
            "Downloading and preparing dataset multi_news/default (download: 245.06 MiB, generated: 667.72 MiB, post-processed: Unknown size, total: 912.78 MiB) to /root/.cache/huggingface/datasets/multi_news/default/1.0.0/2e145a8e21361ba4ee46fef70640ab946a3e8d425002f104d2cda99a9efca376...\n"
          ]
        },
        {
          "data": {
            "application/vnd.jupyter.widget-view+json": {
              "model_id": "86b155bace5c4c009cfb4a6365945e80",
              "version_major": 2,
              "version_minor": 0
            },
            "text/plain": [
              "Downloading data:   0%|          | 0.00/257M [00:00<?, ?B/s]"
            ]
          },
          "metadata": {},
          "output_type": "display_data"
        },
        {
          "data": {
            "application/vnd.jupyter.widget-view+json": {
              "model_id": "d796f4492abb49afb34879eb12a3f097",
              "version_major": 2,
              "version_minor": 0
            },
            "text/plain": [
              "Generating train split:   0%|          | 0/44972 [00:00<?, ? examples/s]"
            ]
          },
          "metadata": {},
          "output_type": "display_data"
        },
        {
          "data": {
            "application/vnd.jupyter.widget-view+json": {
              "model_id": "d4e332f377a240e0b926126bb3d1e8f2",
              "version_major": 2,
              "version_minor": 0
            },
            "text/plain": [
              "Generating validation split:   0%|          | 0/5622 [00:00<?, ? examples/s]"
            ]
          },
          "metadata": {},
          "output_type": "display_data"
        },
        {
          "data": {
            "application/vnd.jupyter.widget-view+json": {
              "model_id": "d358f63a61604a0e9af66d2fd9c2d78a",
              "version_major": 2,
              "version_minor": 0
            },
            "text/plain": [
              "Generating test split:   0%|          | 0/5622 [00:00<?, ? examples/s]"
            ]
          },
          "metadata": {},
          "output_type": "display_data"
        },
        {
          "name": "stdout",
          "output_type": "stream",
          "text": [
            "Dataset multi_news downloaded and prepared to /root/.cache/huggingface/datasets/multi_news/default/1.0.0/2e145a8e21361ba4ee46fef70640ab946a3e8d425002f104d2cda99a9efca376. Subsequent calls will reuse this data.\n"
          ]
        },
        {
          "data": {
            "application/vnd.jupyter.widget-view+json": {
              "model_id": "7ab91d8884674388a876d23f75a8357d",
              "version_major": 2,
              "version_minor": 0
            },
            "text/plain": [
              "  0%|          | 0/3 [00:00<?, ?it/s]"
            ]
          },
          "metadata": {},
          "output_type": "display_data"
        }
      ],
      "source": [
        "dataset1=load_dataset('multi_news')\n"
      ]
    },
    {
      "cell_type": "code",
      "execution_count": null,
      "metadata": {
        "colab": {
          "base_uri": "https://localhost:8080/"
        },
        "id": "Hh74zkDK7c6g",
        "outputId": "a4b6d93b-a93e-4465-8a39-dbe8ac84e4b1"
      },
      "outputs": [
        {
          "data": {
            "text/plain": [
              "DatasetDict({\n",
              "    train: Dataset({\n",
              "        features: ['document', 'summary'],\n",
              "        num_rows: 44972\n",
              "    })\n",
              "    validation: Dataset({\n",
              "        features: ['document', 'summary'],\n",
              "        num_rows: 5622\n",
              "    })\n",
              "    test: Dataset({\n",
              "        features: ['document', 'summary'],\n",
              "        num_rows: 5622\n",
              "    })\n",
              "})"
            ]
          },
          "execution_count": 9,
          "metadata": {},
          "output_type": "execute_result"
        }
      ],
      "source": [
        "dataset1"
      ]
    },
    {
      "cell_type": "code",
      "execution_count": null,
      "metadata": {
        "colab": {
          "base_uri": "https://localhost:8080/"
        },
        "id": "O3nGOKqZ9yqv",
        "outputId": "6133a832-7e1f-4ea4-ebbe-5e18558a0ab9"
      },
      "outputs": [
        {
          "data": {
            "text/plain": [
              "DatasetDict({\n",
              "    train: Dataset({\n",
              "        features: ['document'],\n",
              "        num_rows: 44972\n",
              "    })\n",
              "    validation: Dataset({\n",
              "        features: ['document'],\n",
              "        num_rows: 5622\n",
              "    })\n",
              "    test: Dataset({\n",
              "        features: ['document'],\n",
              "        num_rows: 5622\n",
              "    })\n",
              "})"
            ]
          },
          "execution_count": 10,
          "metadata": {},
          "output_type": "execute_result"
        }
      ],
      "source": [
        "dataset2=dataset1.remove_columns('summary')\n",
        "dataset2"
      ]
    },
    {
      "cell_type": "code",
      "execution_count": null,
      "metadata": {
        "id": "4T0xsm1i-fvJ"
      },
      "outputs": [],
      "source": [
        "data=dataset2['train']"
      ]
    },
    {
      "cell_type": "code",
      "execution_count": null,
      "metadata": {
        "id": "wfKhDnOD-oAa"
      },
      "outputs": [],
      "source": [
        "df=data.to_pandas()\n",
        "df=df[:10000]"
      ]
    },
    {
      "cell_type": "code",
      "execution_count": 15,
      "metadata": {
        "colab": {
          "base_uri": "https://localhost:8080/"
        },
        "id": "4WtMBPx5-2Cg",
        "outputId": "95f605c9-a9ad-42a1-93bb-6c9dbb01adf7"
      },
      "outputs": [
        {
          "output_type": "stream",
          "name": "stdout",
          "text": [
            "[nltk_data] Downloading package punkt to /root/nltk_data...\n",
            "[nltk_data]   Package punkt is already up-to-date!\n",
            "[nltk_data] Downloading package wordnet to /root/nltk_data...\n",
            "[nltk_data]   Package wordnet is already up-to-date!\n"
          ]
        }
      ],
      "source": [
        "from nltk.corpus import stopwords\n",
        "from nltk import word_tokenize,sent_tokenize\n",
        "from nltk.stem import PorterStemmer,LancasterStemmer\n",
        "from nltk.stem.snowball import SnowballStemmer\n",
        "from nltk.stem import WordNetLemmatizer\n",
        "from nltk import ne_chunk\n",
        "nltk.download('punkt')\n",
        "nltk.download('wordnet')\n",
        "stop_words=set(nltk.corpus.stopwords.words('english'))\n",
        "from sklearn.feature_extraction.text import TfidfVectorizer,CountVectorizer\n",
        "def clean_text(headline):\n",
        "  le=WordNetLemmatizer()\n",
        "  word_tokens=word_tokenize(headline)\n",
        "  tokens=[le.lemmatize(w) for w in word_tokens if w not in stop_words and len(w)>3]\n",
        "  cleaned_text=\" \".join(tokens)\n",
        "  return cleaned_text\n",
        "  "
      ]
    },
    {
      "cell_type": "code",
      "execution_count": 16,
      "metadata": {
        "id": "evpW6tIW_S-z"
      },
      "outputs": [],
      "source": [
        "df['processed data']=df['document'].apply(clean_text)"
      ]
    },
    {
      "cell_type": "code",
      "execution_count": 17,
      "metadata": {
        "colab": {
          "base_uri": "https://localhost:8080/",
          "height": 203
        },
        "id": "JyNv1rNLAJ1W",
        "outputId": "8d39bc0d-5fde-442a-c9df-0f9e0d17f31a"
      },
      "outputs": [
        {
          "output_type": "execute_result",
          "data": {
            "text/plain": [
              "                                            document  \\\n",
              "0  National Archives \\n  \\n Yes, it’s that time a...   \n",
              "1  LOS ANGELES (AP) — In her first interview sinc...   \n",
              "2  GAITHERSBURG, Md. (AP) — A small, private jet ...   \n",
              "3  Tucker Carlson Exposes His Own Sexism on Twitt...   \n",
              "4  A man accused of removing another man's testic...   \n",
              "\n",
              "                                      processed data  \n",
              "0  National Archives time folk first Friday month...  \n",
              "1  ANGELES first interview since banned estranged...  \n",
              "2  GAITHERSBURG small private crashed house Maryl...  \n",
              "3  Tucker Carlson Exposes Sexism Twitter Updated ...  \n",
              "4  accused removing another testicle meeting Port...  "
            ],
            "text/html": [
              "\n",
              "  <div id=\"df-141560cd-e514-4f5d-878f-d64b51deb42a\">\n",
              "    <div class=\"colab-df-container\">\n",
              "      <div>\n",
              "<style scoped>\n",
              "    .dataframe tbody tr th:only-of-type {\n",
              "        vertical-align: middle;\n",
              "    }\n",
              "\n",
              "    .dataframe tbody tr th {\n",
              "        vertical-align: top;\n",
              "    }\n",
              "\n",
              "    .dataframe thead th {\n",
              "        text-align: right;\n",
              "    }\n",
              "</style>\n",
              "<table border=\"1\" class=\"dataframe\">\n",
              "  <thead>\n",
              "    <tr style=\"text-align: right;\">\n",
              "      <th></th>\n",
              "      <th>document</th>\n",
              "      <th>processed data</th>\n",
              "    </tr>\n",
              "  </thead>\n",
              "  <tbody>\n",
              "    <tr>\n",
              "      <th>0</th>\n",
              "      <td>National Archives \\n  \\n Yes, it’s that time a...</td>\n",
              "      <td>National Archives time folk first Friday month...</td>\n",
              "    </tr>\n",
              "    <tr>\n",
              "      <th>1</th>\n",
              "      <td>LOS ANGELES (AP) — In her first interview sinc...</td>\n",
              "      <td>ANGELES first interview since banned estranged...</td>\n",
              "    </tr>\n",
              "    <tr>\n",
              "      <th>2</th>\n",
              "      <td>GAITHERSBURG, Md. (AP) — A small, private jet ...</td>\n",
              "      <td>GAITHERSBURG small private crashed house Maryl...</td>\n",
              "    </tr>\n",
              "    <tr>\n",
              "      <th>3</th>\n",
              "      <td>Tucker Carlson Exposes His Own Sexism on Twitt...</td>\n",
              "      <td>Tucker Carlson Exposes Sexism Twitter Updated ...</td>\n",
              "    </tr>\n",
              "    <tr>\n",
              "      <th>4</th>\n",
              "      <td>A man accused of removing another man's testic...</td>\n",
              "      <td>accused removing another testicle meeting Port...</td>\n",
              "    </tr>\n",
              "  </tbody>\n",
              "</table>\n",
              "</div>\n",
              "      <button class=\"colab-df-convert\" onclick=\"convertToInteractive('df-141560cd-e514-4f5d-878f-d64b51deb42a')\"\n",
              "              title=\"Convert this dataframe to an interactive table.\"\n",
              "              style=\"display:none;\">\n",
              "        \n",
              "  <svg xmlns=\"http://www.w3.org/2000/svg\" height=\"24px\"viewBox=\"0 0 24 24\"\n",
              "       width=\"24px\">\n",
              "    <path d=\"M0 0h24v24H0V0z\" fill=\"none\"/>\n",
              "    <path d=\"M18.56 5.44l.94 2.06.94-2.06 2.06-.94-2.06-.94-.94-2.06-.94 2.06-2.06.94zm-11 1L8.5 8.5l.94-2.06 2.06-.94-2.06-.94L8.5 2.5l-.94 2.06-2.06.94zm10 10l.94 2.06.94-2.06 2.06-.94-2.06-.94-.94-2.06-.94 2.06-2.06.94z\"/><path d=\"M17.41 7.96l-1.37-1.37c-.4-.4-.92-.59-1.43-.59-.52 0-1.04.2-1.43.59L10.3 9.45l-7.72 7.72c-.78.78-.78 2.05 0 2.83L4 21.41c.39.39.9.59 1.41.59.51 0 1.02-.2 1.41-.59l7.78-7.78 2.81-2.81c.8-.78.8-2.07 0-2.86zM5.41 20L4 18.59l7.72-7.72 1.47 1.35L5.41 20z\"/>\n",
              "  </svg>\n",
              "      </button>\n",
              "      \n",
              "  <style>\n",
              "    .colab-df-container {\n",
              "      display:flex;\n",
              "      flex-wrap:wrap;\n",
              "      gap: 12px;\n",
              "    }\n",
              "\n",
              "    .colab-df-convert {\n",
              "      background-color: #E8F0FE;\n",
              "      border: none;\n",
              "      border-radius: 50%;\n",
              "      cursor: pointer;\n",
              "      display: none;\n",
              "      fill: #1967D2;\n",
              "      height: 32px;\n",
              "      padding: 0 0 0 0;\n",
              "      width: 32px;\n",
              "    }\n",
              "\n",
              "    .colab-df-convert:hover {\n",
              "      background-color: #E2EBFA;\n",
              "      box-shadow: 0px 1px 2px rgba(60, 64, 67, 0.3), 0px 1px 3px 1px rgba(60, 64, 67, 0.15);\n",
              "      fill: #174EA6;\n",
              "    }\n",
              "\n",
              "    [theme=dark] .colab-df-convert {\n",
              "      background-color: #3B4455;\n",
              "      fill: #D2E3FC;\n",
              "    }\n",
              "\n",
              "    [theme=dark] .colab-df-convert:hover {\n",
              "      background-color: #434B5C;\n",
              "      box-shadow: 0px 1px 3px 1px rgba(0, 0, 0, 0.15);\n",
              "      filter: drop-shadow(0px 1px 2px rgba(0, 0, 0, 0.3));\n",
              "      fill: #FFFFFF;\n",
              "    }\n",
              "  </style>\n",
              "\n",
              "      <script>\n",
              "        const buttonEl =\n",
              "          document.querySelector('#df-141560cd-e514-4f5d-878f-d64b51deb42a button.colab-df-convert');\n",
              "        buttonEl.style.display =\n",
              "          google.colab.kernel.accessAllowed ? 'block' : 'none';\n",
              "\n",
              "        async function convertToInteractive(key) {\n",
              "          const element = document.querySelector('#df-141560cd-e514-4f5d-878f-d64b51deb42a');\n",
              "          const dataTable =\n",
              "            await google.colab.kernel.invokeFunction('convertToInteractive',\n",
              "                                                     [key], {});\n",
              "          if (!dataTable) return;\n",
              "\n",
              "          const docLinkHtml = 'Like what you see? Visit the ' +\n",
              "            '<a target=\"_blank\" href=https://colab.research.google.com/notebooks/data_table.ipynb>data table notebook</a>'\n",
              "            + ' to learn more about interactive tables.';\n",
              "          element.innerHTML = '';\n",
              "          dataTable['output_type'] = 'display_data';\n",
              "          await google.colab.output.renderOutput(dataTable, element);\n",
              "          const docLink = document.createElement('div');\n",
              "          docLink.innerHTML = docLinkHtml;\n",
              "          element.appendChild(docLink);\n",
              "        }\n",
              "      </script>\n",
              "    </div>\n",
              "  </div>\n",
              "  "
            ]
          },
          "metadata": {},
          "execution_count": 17
        }
      ],
      "source": [
        "df.head()"
      ]
    },
    {
      "cell_type": "code",
      "source": [
        "df.drop(['document'],axis=1,inplace=True)"
      ],
      "metadata": {
        "id": "Ifveqe7kCnKI"
      },
      "execution_count": 18,
      "outputs": []
    },
    {
      "cell_type": "code",
      "source": [
        "df.head()"
      ],
      "metadata": {
        "colab": {
          "base_uri": "https://localhost:8080/",
          "height": 203
        },
        "id": "x1yccDCFCz4W",
        "outputId": "3def6649-f63d-4300-a1dd-271ffeb69487"
      },
      "execution_count": 19,
      "outputs": [
        {
          "output_type": "execute_result",
          "data": {
            "text/plain": [
              "                                      processed data\n",
              "0  National Archives time folk first Friday month...\n",
              "1  ANGELES first interview since banned estranged...\n",
              "2  GAITHERSBURG small private crashed house Maryl...\n",
              "3  Tucker Carlson Exposes Sexism Twitter Updated ...\n",
              "4  accused removing another testicle meeting Port..."
            ],
            "text/html": [
              "\n",
              "  <div id=\"df-fce031fd-65e7-45dc-adcf-4e5ce28271d9\">\n",
              "    <div class=\"colab-df-container\">\n",
              "      <div>\n",
              "<style scoped>\n",
              "    .dataframe tbody tr th:only-of-type {\n",
              "        vertical-align: middle;\n",
              "    }\n",
              "\n",
              "    .dataframe tbody tr th {\n",
              "        vertical-align: top;\n",
              "    }\n",
              "\n",
              "    .dataframe thead th {\n",
              "        text-align: right;\n",
              "    }\n",
              "</style>\n",
              "<table border=\"1\" class=\"dataframe\">\n",
              "  <thead>\n",
              "    <tr style=\"text-align: right;\">\n",
              "      <th></th>\n",
              "      <th>processed data</th>\n",
              "    </tr>\n",
              "  </thead>\n",
              "  <tbody>\n",
              "    <tr>\n",
              "      <th>0</th>\n",
              "      <td>National Archives time folk first Friday month...</td>\n",
              "    </tr>\n",
              "    <tr>\n",
              "      <th>1</th>\n",
              "      <td>ANGELES first interview since banned estranged...</td>\n",
              "    </tr>\n",
              "    <tr>\n",
              "      <th>2</th>\n",
              "      <td>GAITHERSBURG small private crashed house Maryl...</td>\n",
              "    </tr>\n",
              "    <tr>\n",
              "      <th>3</th>\n",
              "      <td>Tucker Carlson Exposes Sexism Twitter Updated ...</td>\n",
              "    </tr>\n",
              "    <tr>\n",
              "      <th>4</th>\n",
              "      <td>accused removing another testicle meeting Port...</td>\n",
              "    </tr>\n",
              "  </tbody>\n",
              "</table>\n",
              "</div>\n",
              "      <button class=\"colab-df-convert\" onclick=\"convertToInteractive('df-fce031fd-65e7-45dc-adcf-4e5ce28271d9')\"\n",
              "              title=\"Convert this dataframe to an interactive table.\"\n",
              "              style=\"display:none;\">\n",
              "        \n",
              "  <svg xmlns=\"http://www.w3.org/2000/svg\" height=\"24px\"viewBox=\"0 0 24 24\"\n",
              "       width=\"24px\">\n",
              "    <path d=\"M0 0h24v24H0V0z\" fill=\"none\"/>\n",
              "    <path d=\"M18.56 5.44l.94 2.06.94-2.06 2.06-.94-2.06-.94-.94-2.06-.94 2.06-2.06.94zm-11 1L8.5 8.5l.94-2.06 2.06-.94-2.06-.94L8.5 2.5l-.94 2.06-2.06.94zm10 10l.94 2.06.94-2.06 2.06-.94-2.06-.94-.94-2.06-.94 2.06-2.06.94z\"/><path d=\"M17.41 7.96l-1.37-1.37c-.4-.4-.92-.59-1.43-.59-.52 0-1.04.2-1.43.59L10.3 9.45l-7.72 7.72c-.78.78-.78 2.05 0 2.83L4 21.41c.39.39.9.59 1.41.59.51 0 1.02-.2 1.41-.59l7.78-7.78 2.81-2.81c.8-.78.8-2.07 0-2.86zM5.41 20L4 18.59l7.72-7.72 1.47 1.35L5.41 20z\"/>\n",
              "  </svg>\n",
              "      </button>\n",
              "      \n",
              "  <style>\n",
              "    .colab-df-container {\n",
              "      display:flex;\n",
              "      flex-wrap:wrap;\n",
              "      gap: 12px;\n",
              "    }\n",
              "\n",
              "    .colab-df-convert {\n",
              "      background-color: #E8F0FE;\n",
              "      border: none;\n",
              "      border-radius: 50%;\n",
              "      cursor: pointer;\n",
              "      display: none;\n",
              "      fill: #1967D2;\n",
              "      height: 32px;\n",
              "      padding: 0 0 0 0;\n",
              "      width: 32px;\n",
              "    }\n",
              "\n",
              "    .colab-df-convert:hover {\n",
              "      background-color: #E2EBFA;\n",
              "      box-shadow: 0px 1px 2px rgba(60, 64, 67, 0.3), 0px 1px 3px 1px rgba(60, 64, 67, 0.15);\n",
              "      fill: #174EA6;\n",
              "    }\n",
              "\n",
              "    [theme=dark] .colab-df-convert {\n",
              "      background-color: #3B4455;\n",
              "      fill: #D2E3FC;\n",
              "    }\n",
              "\n",
              "    [theme=dark] .colab-df-convert:hover {\n",
              "      background-color: #434B5C;\n",
              "      box-shadow: 0px 1px 3px 1px rgba(0, 0, 0, 0.15);\n",
              "      filter: drop-shadow(0px 1px 2px rgba(0, 0, 0, 0.3));\n",
              "      fill: #FFFFFF;\n",
              "    }\n",
              "  </style>\n",
              "\n",
              "      <script>\n",
              "        const buttonEl =\n",
              "          document.querySelector('#df-fce031fd-65e7-45dc-adcf-4e5ce28271d9 button.colab-df-convert');\n",
              "        buttonEl.style.display =\n",
              "          google.colab.kernel.accessAllowed ? 'block' : 'none';\n",
              "\n",
              "        async function convertToInteractive(key) {\n",
              "          const element = document.querySelector('#df-fce031fd-65e7-45dc-adcf-4e5ce28271d9');\n",
              "          const dataTable =\n",
              "            await google.colab.kernel.invokeFunction('convertToInteractive',\n",
              "                                                     [key], {});\n",
              "          if (!dataTable) return;\n",
              "\n",
              "          const docLinkHtml = 'Like what you see? Visit the ' +\n",
              "            '<a target=\"_blank\" href=https://colab.research.google.com/notebooks/data_table.ipynb>data table notebook</a>'\n",
              "            + ' to learn more about interactive tables.';\n",
              "          element.innerHTML = '';\n",
              "          dataTable['output_type'] = 'display_data';\n",
              "          await google.colab.output.renderOutput(dataTable, element);\n",
              "          const docLink = document.createElement('div');\n",
              "          docLink.innerHTML = docLinkHtml;\n",
              "          element.appendChild(docLink);\n",
              "        }\n",
              "      </script>\n",
              "    </div>\n",
              "  </div>\n",
              "  "
            ]
          },
          "metadata": {},
          "execution_count": 19
        }
      ]
    },
    {
      "cell_type": "code",
      "source": [
        "vector=TfidfVectorizer(stop_words=stop_words,max_features=100)\n",
        "vector_text=vector.fit_transform(df['processed data'])\n"
      ],
      "metadata": {
        "id": "LY8rY8eGC258"
      },
      "execution_count": 25,
      "outputs": []
    },
    {
      "cell_type": "code",
      "source": [
        "print(vector_text)"
      ],
      "metadata": {
        "colab": {
          "base_uri": "https://localhost:8080/"
        },
        "id": "H3528KOeDLSi",
        "outputId": "4cf6cc4f-e59e-4a74-a052-47ad4fba35b1"
      },
      "execution_count": 26,
      "outputs": [
        {
          "output_type": "stream",
          "name": "stdout",
          "text": [
            "  (0, 98)\t0.076058481400842\n",
            "  (0, 56)\t0.12413207925696472\n",
            "  (0, 60)\t0.08650640768400684\n",
            "  (0, 73)\t0.2125823996938728\n",
            "  (0, 61)\t0.1638058665843409\n",
            "  (0, 82)\t0.1099520740424335\n",
            "  (0, 70)\t0.1116695783156291\n",
            "  (0, 95)\t0.22959776029061424\n",
            "  (0, 34)\t0.09284954486174506\n",
            "  (0, 6)\t0.10420828938232697\n",
            "  (0, 72)\t0.11255231050273998\n",
            "  (0, 1)\t0.10135642584767558\n",
            "  (0, 0)\t0.6232432411354182\n",
            "  (0, 99)\t0.14824840485408491\n",
            "  (0, 80)\t0.12123861056972958\n",
            "  (0, 45)\t0.5507971955900701\n",
            "  (0, 20)\t0.0908685043513028\n",
            "  (0, 83)\t0.16069218440543886\n",
            "  (0, 47)\t0.13052952676043036\n",
            "  (1, 48)\t0.07668961642513704\n",
            "  (1, 64)\t0.07990313963229201\n",
            "  (1, 79)\t0.06592079023149035\n",
            "  (1, 21)\t0.16877521849155386\n",
            "  (1, 32)\t0.06777634426569165\n",
            "  (1, 81)\t0.14680196245980606\n",
            "  :\t:\n",
            "  (9999, 64)\t0.20065851745069435\n",
            "  (9999, 79)\t0.08277251743737041\n",
            "  (9999, 21)\t0.21192024043599378\n",
            "  (9999, 32)\t0.08510241788474918\n",
            "  (9999, 81)\t0.0921649145502801\n",
            "  (9999, 33)\t0.08474456494234064\n",
            "  (9999, 91)\t0.24952289095777883\n",
            "  (9999, 11)\t0.085765098150258\n",
            "  (9999, 97)\t0.256560657157782\n",
            "  (9999, 23)\t0.08863391481722337\n",
            "  (9999, 69)\t0.05583032815175506\n",
            "  (9999, 2)\t0.18484544033593336\n",
            "  (9999, 19)\t0.09472726451817468\n",
            "  (9999, 39)\t0.23573095150389456\n",
            "  (9999, 98)\t0.35529391805532934\n",
            "  (9999, 70)\t0.1738816468442185\n",
            "  (9999, 34)\t0.2891536264901749\n",
            "  (9999, 6)\t0.08113180530422881\n",
            "  (9999, 1)\t0.15782294972785005\n",
            "  (9999, 0)\t0.09704573330334454\n",
            "  (9999, 99)\t0.23083884766894402\n",
            "  (9999, 80)\t0.09439083403442461\n",
            "  (9999, 45)\t0.085765098150258\n",
            "  (9999, 20)\t0.1414921182760853\n",
            "  (9999, 83)\t0.12510758113744\n"
          ]
        }
      ]
    },
    {
      "cell_type": "code",
      "source": [
        "print(vector_text.shape)"
      ],
      "metadata": {
        "colab": {
          "base_uri": "https://localhost:8080/"
        },
        "id": "AcuoyWmZDYRG",
        "outputId": "93d4c1eb-a728-45cf-b248-f6cb9904d500"
      },
      "execution_count": 27,
      "outputs": [
        {
          "output_type": "stream",
          "name": "stdout",
          "text": [
            "(10000, 100)\n"
          ]
        }
      ]
    },
    {
      "cell_type": "code",
      "source": [
        "idf=vector.idf_"
      ],
      "metadata": {
        "id": "WOw03pJ1DtUk"
      },
      "execution_count": 28,
      "outputs": []
    },
    {
      "cell_type": "code",
      "source": [
        "d=dict(zip(vector.get_feature_names(), idf))\n",
        "l=sorted(d, key=(d).get)\n",
        "print(l[0],l[-1])\n"
      ],
      "metadata": {
        "colab": {
          "base_uri": "https://localhost:8080/"
        },
        "id": "S2ifQ6PcDwVs",
        "outputId": "3ed8d2c4-a5bd-4401-dfa3-2627fcc1b23c"
      },
      "execution_count": 30,
      "outputs": [
        {
          "output_type": "stream",
          "name": "stdout",
          "text": [
            "said trump\n"
          ]
        },
        {
          "output_type": "stream",
          "name": "stderr",
          "text": [
            "/usr/local/lib/python3.7/dist-packages/sklearn/utils/deprecation.py:87: FutureWarning: Function get_feature_names is deprecated; get_feature_names is deprecated in 1.0 and will be removed in 1.2. Please use get_feature_names_out instead.\n",
            "  warnings.warn(msg, category=FutureWarning)\n"
          ]
        }
      ]
    },
    {
      "cell_type": "code",
      "source": [
        "print(d['said'])\n",
        "print(d['trump'])"
      ],
      "metadata": {
        "colab": {
          "base_uri": "https://localhost:8080/"
        },
        "id": "tEiYuUm4ECCu",
        "outputId": "fb56f02a-b4be-4b3b-eda5-bc8843caa5c1"
      },
      "execution_count": 31,
      "outputs": [
        {
          "output_type": "stream",
          "name": "stdout",
          "text": [
            "1.0984848969217345\n",
            "2.9864155586906858\n"
          ]
        }
      ]
    },
    {
      "cell_type": "code",
      "source": [
        "from sklearn.decomposition import LatentDirichletAllocation\n",
        "lda_model=LatentDirichletAllocation(n_components=10,learning_method='online',random_state=42,max_iter=1) \n"
      ],
      "metadata": {
        "id": "jPMYPfmBESy7"
      },
      "execution_count": 32,
      "outputs": []
    },
    {
      "cell_type": "code",
      "source": [
        "lda=lda_model.fit_transform(vector_text)"
      ],
      "metadata": {
        "id": "teB2Db6xEVHw"
      },
      "execution_count": 34,
      "outputs": []
    },
    {
      "cell_type": "code",
      "source": [
        "print(lda.shape) \n",
        "print(lda)"
      ],
      "metadata": {
        "colab": {
          "base_uri": "https://localhost:8080/"
        },
        "id": "qCyRR7qOEeet",
        "outputId": "7c596eed-5dec-4733-9bb5-bd279f9bf910"
      },
      "execution_count": 35,
      "outputs": [
        {
          "output_type": "stream",
          "name": "stdout",
          "text": [
            "(10000, 10)\n",
            "[[0.0229927  0.02299011 0.0229891  ... 0.02298973 0.02299056 0.02298938]\n",
            " [0.84445899 0.01728026 0.01727862 ... 0.01728065 0.01728    0.01727952]\n",
            " [0.01716519 0.01716555 0.01716628 ... 0.84551263 0.01716458 0.01716466]\n",
            " ...\n",
            " [0.0175497  0.01754849 0.0175492  ... 0.01755077 0.01755012 0.0175492 ]\n",
            " [0.02126009 0.02125805 0.02125903 ... 0.02126324 0.02125907 0.80866162]\n",
            " [0.85920653 0.01564261 0.01564502 ... 0.01564356 0.01564372 0.01564299]]\n"
          ]
        }
      ]
    },
    {
      "cell_type": "code",
      "source": [
        "vocab = vector.get_feature_names()\n",
        "\n",
        "for i, comp in enumerate(lda_model.components_):\n",
        "    vocab_comp = zip(vocab, comp)\n",
        "    sorted_words = sorted(vocab_comp, key= lambda x:x[1], reverse=True)[:10]\n",
        "    print(\"Topic \"+str(i)+\": \")\n",
        "    for t in sorted_words:\n",
        "        print(t[0],end=\" \")\n",
        "    print(\"\\n\")"
      ],
      "metadata": {
        "colab": {
          "base_uri": "https://localhost:8080/"
        },
        "id": "jhtcCK62FAHj",
        "outputId": "c9b3a041-85a1-4e8c-eb7a-18b77b431699"
      },
      "execution_count": 37,
      "outputs": [
        {
          "output_type": "stream",
          "name": "stdout",
          "text": [
            "Topic 0: \n",
            "said show year time news also last first would night \n",
            "\n",
            "Topic 1: \n",
            "north said united official photo american country year world national \n",
            "\n",
            "Topic 2: \n",
            "video show said like say report also would night people \n",
            "\n",
            "Topic 3: \n",
            "trump president said white house would state party people country \n",
            "\n",
            "Topic 4: \n",
            "like said year time say would people woman life make \n",
            "\n",
            "Topic 5: \n",
            "study said company year million percent people health also 000 \n",
            "\n",
            "Topic 6: \n",
            "obama said president house would state government former white year \n",
            "\n",
            "Topic 7: \n",
            "said child family year death home old police told found \n",
            "\n",
            "Topic 8: \n",
            "said city government school state people year official would country \n",
            "\n",
            "Topic 9: \n",
            "police said officer court woman year case told state people \n",
            "\n"
          ]
        },
        {
          "output_type": "stream",
          "name": "stderr",
          "text": [
            "/usr/local/lib/python3.7/dist-packages/sklearn/utils/deprecation.py:87: FutureWarning: Function get_feature_names is deprecated; get_feature_names is deprecated in 1.0 and will be removed in 1.2. Please use get_feature_names_out instead.\n",
            "  warnings.warn(msg, category=FutureWarning)\n"
          ]
        }
      ]
    },
    {
      "cell_type": "code",
      "source": [
        "corpus=[]\n",
        "a=[]\n",
        "for i in range(len(df['processed data'])):\n",
        "        a=df['processed data'][i]\n",
        "        corpus.append(a)\n",
        "corpus[:10]\n",
        "texts = [[word for word in str(document).lower().split() if word not in stop_words] for document in corpus]\n",
        "dictionary = corpora.Dictionary(texts)"
      ],
      "metadata": {
        "id": "Ylfy_3HUHLIw"
      },
      "execution_count": 45,
      "outputs": []
    },
    {
      "cell_type": "code",
      "source": [
        "from gensim import corpora, models, similarities\n",
        "corpus = [dictionary.doc2bow(text) for text in texts]\n",
        "tfidf = models.TfidfModel(corpus)"
      ],
      "metadata": {
        "id": "gVamEajbHTot"
      },
      "execution_count": 47,
      "outputs": []
    },
    {
      "cell_type": "code",
      "source": [
        "corpus_tfidf = tfidf[corpus]\n",
        "total_topics=5"
      ],
      "metadata": {
        "id": "QQ0RYrkOIfYi"
      },
      "execution_count": 51,
      "outputs": []
    },
    {
      "cell_type": "code",
      "source": [
        "def compute_coherence_values(dictionary, doc_term_matrix, doc_clean, stop, start=2, step=3):\n",
        "    \"\"\"\n",
        "    Input   : dictionary : Gensim dictionary\n",
        "              corpus : Gensim corpus\n",
        "              texts : List of input texts\n",
        "              stop : Max num of topics\n",
        "    purpose : Compute c_v coherence for various number of topics\n",
        "    Output  : model_list : List of LSA topic models\n",
        "              coherence_values : Coherence values corresponding to the LDA model with respective number of topics\n",
        "    \"\"\"\n",
        "    coherence_values = []\n",
        "    model_list = []\n",
        "    for num_topics in range(start, stop, step):\n",
        "        # generate LSA model\n",
        "        model = models.LdaModel(doc_term_matrix, num_topics=num_topics, id2word = dictionary)  # train model\n",
        "        model_list.append(model)\n",
        "        coherencemodel = CoherenceModel(model=model, texts=doc_clean, dictionary=dictionary, coherence='c_v')\n",
        "        coherence_values.append(coherencemodel.get_coherence())\n",
        "    return model_list, coherence_values\n",
        "model_list, coherence_values = compute_coherence_values(dictionary, corpus_lda,texts,\n",
        "                                                            10, 2, 1)"
      ],
      "metadata": {
        "id": "0mazkbkWdOpB"
      },
      "execution_count": null,
      "outputs": []
    },
    {
      "cell_type": "code",
      "source": [
        "x=range(2, 10, 1)\n",
        "plt.plot(x, coherence_values)\n",
        "plt.xlabel(\"Number of Topics\")\n",
        "plt.ylabel(\"Coherence score\")\n",
        "plt.legend((\"coherence_values\"), loc='best')\n",
        "plt.show()\n",
        "coherence_values"
      ],
      "metadata": {
        "colab": {
          "base_uri": "https://localhost:8080/",
          "height": 414
        },
        "id": "7C4UJ8vqdkSe",
        "outputId": "e8c7453a-a003-43b0-9035-4853e3bbd3ea"
      },
      "execution_count": null,
      "outputs": [
        {
          "output_type": "display_data",
          "data": {
            "text/plain": [
              "<Figure size 432x288 with 1 Axes>"
            ],
            "image/png": "[encoded data removed]"
          },
          "metadata": {
            "needs_background": "light"
          }
        },
        {
          "output_type": "execute_result",
          "data": {
            "text/plain": [
              "[0.36753481226890655,\n",
              " 0.36753481226890655,\n",
              " 0.36753481226890655,\n",
              " 0.36753481226890655,\n",
              " 0.36753481226890655,\n",
              " 0.3675348122689065,\n",
              " 0.3675348122689065,\n",
              " 0.3675348122689065]"
            ]
          },
          "metadata": {},
          "execution_count": 112
        }
      ]
    },
    {
      "cell_type": "code",
      "source": [
        "lda = models.LdaModel(corpus, id2word=dictionary, num_topics=9)\n",
        "corpus_lda = lda[corpus_tfidf] \n",
        "lda.show_topics(total_topics,5)\n"
      ],
      "metadata": {
        "colab": {
          "base_uri": "https://localhost:8080/"
        },
        "id": "BIPtW1HLIlDz",
        "outputId": "a43eabb0-1c66-44cf-c478-b737ee29f637"
      },
      "execution_count": 116,
      "outputs": [
        {
          "output_type": "execute_result",
          "data": {
            "text/plain": [
              "[(1,\n",
              "  '0.007*\"study\" + 0.006*\"said\" + 0.004*\"year\" + 0.004*\"time\" + 0.004*\"also\"'),\n",
              " (0,\n",
              "  '0.023*\"said\" + 0.008*\"police\" + 0.004*\"county\" + 0.004*\"family\" + 0.004*\"people\"'),\n",
              " (4,\n",
              "  '0.007*\"said\" + 0.005*\"like\" + 0.004*\"time\" + 0.004*\"year\" + 0.004*\"people\"'),\n",
              " (6,\n",
              "  '0.012*\"said\" + 0.006*\"company\" + 0.004*\"year\" + 0.004*\"people\" + 0.003*\"also\"'),\n",
              " (5,\n",
              "  '0.014*\"trump\" + 0.013*\"said\" + 0.007*\"president\" + 0.006*\"would\" + 0.005*\"house\"')]"
            ]
          },
          "metadata": {},
          "execution_count": 116
        }
      ]
    },
    {
      "cell_type": "code",
      "source": [
        "import pyLDAvis.gensim_models as gensimvis\n",
        "pyLDAvis.enable_notebook()\n",
        "panel = gensimvis.prepare(lda, corpus_lda, dictionary, mds='tsne')\n",
        "panel"
      ],
      "metadata": {
        "colab": {
          "base_uri": "https://localhost:8080/",
          "height": 1000
        },
        "id": "2eHlcUeUJPVo",
        "outputId": "14f6fe97-1ffd-4fba-8095-388806117bcd"
      },
      "execution_count": 59,
      "outputs": [
        {
          "output_type": "stream",
          "name": "stderr",
          "text": [
            "/usr/local/lib/python3.7/dist-packages/pyLDAvis/_prepare.py:247: FutureWarning: In a future version of pandas all arguments of DataFrame.drop except for the argument 'labels' will be keyword-only\n",
            "  by='saliency', ascending=False).head(R).drop('saliency', 1)\n",
            "/usr/local/lib/python3.7/dist-packages/sklearn/manifold/_t_sne.py:783: FutureWarning: The default initialization in TSNE will change from 'random' to 'pca' in 1.2.\n",
            "  FutureWarning,\n",
            "/usr/local/lib/python3.7/dist-packages/sklearn/manifold/_t_sne.py:793: FutureWarning: The default learning rate in TSNE will change from 200.0 to 'auto' in 1.2.\n",
            "  FutureWarning,\n",
            "/usr/local/lib/python3.7/dist-packages/sklearn/manifold/_t_sne.py:827: FutureWarning: 'square_distances' has been introduced in 0.24 to help phase out legacy squaring behavior. The 'legacy' setting will be removed in 1.1 (renaming of 0.26), and the default setting will be changed to True. In 1.3, 'square_distances' will be removed altogether, and distances will be squared by default. Set 'square_distances'=True to silence this warning.\n",
            "  FutureWarning,\n"
          ]
        },
        {
          "output_type": "execute_result",
          "data": {
            "text/plain": [
              "PreparedData(topic_coordinates=               x          y  topics  cluster       Freq\n",
              "topic                                                  \n",
              "6      32.420952   8.115230       1        1  25.518725\n",
              "5       0.648955  71.707100       2        1  23.967832\n",
              "0      71.019684   9.971006       3        1  10.087415\n",
              "2       3.785981  33.185135       4        1   6.711968\n",
              "9     -42.666500  -9.222070       5        1   6.392069\n",
              "1      -3.621689 -43.526516       6        1   6.104549\n",
              "4      -3.632402  -4.171708       7        1   5.838038\n",
              "3     -36.584400  35.804413       8        1   5.169402\n",
              "8      44.391380  50.615383       9        1   5.105036\n",
              "7      40.235809 -31.591665      10        1   5.104967, topic_info=           Term        Freq       Total Category  logprob  loglift\n",
              "283        said  140.000000  140.000000  Default  30.0000  30.0000\n",
              "322       trump   25.000000   25.000000  Default  29.0000  29.0000\n",
              "948      police   32.000000   32.000000  Default  28.0000  28.0000\n",
              "264   president   23.000000   23.000000  Default  27.0000  27.0000\n",
              "1426      study    8.000000    8.000000  Default  26.0000  26.0000\n",
              "...         ...         ...         ...      ...      ...      ...\n",
              "322       trump    1.181433   25.822879  Topic10  -6.0264  -0.1096\n",
              "68         last    1.044740   17.705660  Topic10  -6.1493   0.1448\n",
              "404       could    1.031655   23.671741  Topic10  -6.1619  -0.1582\n",
              "762        many    0.954088   13.914946  Topic10  -6.2401   0.2950\n",
              "320        told    0.957088   22.417254  Topic10  -6.2369  -0.1787\n",
              "\n",
              "[1016 rows x 6 columns], token_table=      Topic      Freq      Term\n",
              "term                           \n",
              "4183      2  0.295492      2018\n",
              "4183      9  0.295492      2018\n",
              "9672      8  1.164727  abortion\n",
              "351       1  0.616318  accident\n",
              "351       5  0.616318  accident\n",
              "...     ...       ...       ...\n",
              "123       6  0.036253     |||||\n",
              "123       7  0.036253     |||||\n",
              "123       8  0.072506     |||||\n",
              "123       9  0.036253     |||||\n",
              "123      10  0.072506     |||||\n",
              "\n",
              "[930 rows x 3 columns], R=30, lambda_step=0.01, plot_opts={'xlab': 'PC1', 'ylab': 'PC2'}, topic_order=[7, 6, 1, 3, 10, 2, 5, 4, 9, 8])"
            ],
            "text/html": [
              "\n",
              "<link rel=\"stylesheet\" type=\"text/css\" href=\"https://cdn.jsdelivr.net/gh/bmabey/pyLDAvis@3.3.1/pyLDAvis/js/ldavis.v1.0.0.css\">\n",
              "\n",
              "\n",
              "<div id=\"ldavis_el721400003970504489460411384\"></div>\n",
              "<script type=\"text/javascript\">\n",
              "\n",
              "var ldavis_el721400003970504489460411384_data = {\"mdsDat\": {\"x\": [32.42095184326172, 0.648955225944519, 71.01968383789062, 3.7859814167022705, -42.666500091552734, -3.6216893196105957, -3.632401704788208, -36.58440017700195, 44.391380310058594, 40.235809326171875], \"y\": [8.115229606628418, 71.70709991455078, 9.971006393432617, 33.18513488769531, -9.22206974029541, -43.52651596069336, -4.171707630157471, 35.804412841796875, 50.61538314819336, -31.591665267944336], \"topics\": [1, 2, 3, 4, 5, 6, 7, 8, 9, 10], \"cluster\": [1, 1, 1, 1, 1, 1, 1, 1, 1, 1], \"Freq\": [25.518724851278346, 23.967832079608854, 10.087414513646518, 6.711968207139737, 6.392068952142341, 6.104548706093634, 5.838038222367298, 5.169401543032445, 5.105035856799532, 5.104967067891302]}, \"tinfo\": {\"Term\": [\"said\", \"trump\", \"police\", \"president\", \"study\", \"north\", \"like\", \"korea\", \"company\", \"obama\", \"photos\", \"people\", \"hide\", \"caption\", \"would\", \"u.s.\", \"|||||\", \"year\", \"officer\", \"time\", \"official\", \"government\", \"family\", \"also\", \"child\", \"woman\", \"house\", \"told\", \"know\", \"attack\", \"toney\", \"twomey\", \"nagin\", \"gastineau\", \"locklear\", \"caylee\", \"leclair\", \"cypress-fairbanks\", \"rojas\", \"dekraai\", \"lysiak\", \"burkart\", \"acapulco\", \"rodger\", \"tommie\", \"frein\", \"manzanillo\", \"cy-fair\", \"apperson\", \"veracruz\", \"brumby\", \"hildale\", \"gissendaner\", \"mayberry\", \"corley\", \"theobald\", \"farkas\", \"babar\", \"bracamonte\", \"alomar\", \"pistorius\", \"roux\", \"mickelson\", \"steenkamp\", \"beltran\", \"sandusky\", \"balfour\", \"hurricane\", \"gorsuch\", \"stockton\", \"correctional\", \"murder\", \"inmate\", \"parole\", \"hernandez\", \"sentencing\", \"first-degree\", \"county\", \"charleston\", \"sheriff\", \"juror\", \"mcdaniel\", \"police\", \"court\", \"jail\", \"ferguson\", \"prison\", \"shooting\", \"execution\", \"guilty\", \"robbery\", \"stabbing\", \"sentenced\", \"victim\", \"convicted\", \"authorities\", \"charged\", \"judge\", \"sentence\", \"crime\", \"officer\", \"prosecutor\", \"suspect\", \"arrested\", \"shot\", \"attorney\", \"charge\", \"said\", \"home\", \"case\", \"enforcement\", \"killed\", \"arrest\", \"authority\", \"found\", \"told\", \"child\", \"death\", \"family\", \"state\", \"people\", \"woman\", \"according\", \"|||||\", \"time\", \"year\", \"also\", \"would\", \"could\", \"three\", \"kadyrov\", \"geithner\", \"brazile\", \"tseng\", \"papadopoulos\", \"depositor\", \"murdock\", \"rosneft\", \"amanpour\", \"poroshenko\", \"huelskamp\", \"ms-13\", \"grillo\", \"pandit\", \"d-vt.\", \"yellen\", \"bush-era\", \"declassification\", \"bernanke\", \"kurz\", \"aumf\", \"lagarde\", \"deferment\", \"sequester\", \"sids\", \"kovrig\", \"houthis\", \"ardern\", \"rinehart\", \"blankfein\", \"putin\", \"boehner\", \"takei\", \"feller\", \"misrata\", \"snowden\", \"crimea\", \"yanukovych\", \"republicans\", \"obama\", \"unemployment\", \"democrats\", \"r-ohio\", \"citigroup\", \"economy\", \"trillion\", \"ukraine\", \"budget\", \"pelosi\", \"congress\", \"cut\", \"bipartisan\", \"russia\", \"clinton\", \"debt\", \"deficit\", \"senate\", \"president\", \"vote\", \"democratic\", \"russian\", \"election\", \"trump\", \"campaign\", \"congressional\", \"economic\", \"republican\", \"speaker\", \"spending\", \"tax\", \"party\", \"leader\", \"political\", \"country\", \"house\", \"bill\", \"administration\", \"government\", \"committee\", \"policy\", \"percent\", \"would\", \"u.s.\", \"said\", \"year\", \"white\", \"united\", \"state\", \"people\", \"could\", \"also\", \"time\", \"|||||\", \"official\", \"last\", \"first\", \"floss\", \"dung\", \"mcclatchy\", \"mollusc\", \"saiga\", \"grantham\", \"geologic\", \"exoplanets\", \"magnetite\", \"cygnus\", \"aldrin\", \"aquarius\", \"velella\", \"microlensing\", \"asteroid\", \"bhullar\", \"pcbs\", \"holocene\", \"listeria\", \"bonobo\", \"exoplanet\", \"astrobiology\", \"labeouf\", \"baez\", \"parthenon\", \"peanuts\", \"clade\", \"dorsoventral\", \"nanostructures\", \"celery\", \"lupin\", \"tarantula\", \"termite\", \"gravitational\", \"extinct\", \"extinction\", \"specie\", \"evolutionary\", \"nasa\", \"dragonfly\", \"stonehenge\", \"lineage\", \"insect\", \"glacier\", \"ray\", \"neanderthals\", \"planetary\", \"bacteria\", \"lunar\", \"spacecraft\", \"bone\", \"mammal\", \"downton\", \"astronomer\", \"abbey\", \"earth\", \"ancient\", \"temperature\", \"mars\", \"animal\", \"scientist\", \"dinosaur\", \"moon\", \"planet\", \"archaeologist\", \"bird\", \"skeleton\", \"surface\", \"food\", \"fossil\", \"space\", \"evolution\", \"solar\", \"researcher\", \"human\", \"science\", \"water\", \"sample\", \"study\", \"research\", \"fish\", \"size\", \"century\", \"natural\", \"year\", \"university\", \"say\", \"image\", \"used\", \"like\", \"found\", \"first\", \"also\", \"time\", \"|||||\", \"said\", \"could\", \"would\", \"world\", \"people\", \"even\", \"many\", \"around\", \"much\", \"rapp\", \"eaves\", \"bigfoot\", \"wu-tang\", \"stylus\", \"brothel\", \"shkreli\", \"unicom\", \"wentworth\", \"jang\", \"smothers\", \"entropy\", \"urchin\", \"mixtape\", \"najee\", \"lupita\", \"pennington\", \"sajak\", \"pins\", \"baruchel\", \"okcupid\", \"wehrly\", \"brownstein\", \"saco\", \"panmunjom\", \"test-fired\", \"oled\", \"killah\", \"yalu\", \"jangjae\", \"nestl\\u00e9\", \"albino\", \"moonves\", \"koreas\", \"korean\", \"pyongyang\", \"jong\", \"apple\", \"warmbier\", \"tesla\", \"iphone\", \"korea\", \"koreans\", \"ipad\", \"kcna\", \"chipotle\", \"seoul\", \"yonhap\", \"spacey\", \"cosby\", \"sony\", \"toyota\", \"odom\", \"north\", \"yahoo\", \"weinstein\", \"ebola\", \"company\", \"customer\", \"lawsuit\", \"south\", \"mcdonald\", \"complaint\", \"video\", \"said\", \"store\", \"product\", \"million\", \"|||||\", \"year\", \"according\", \"photo\", \"police\", \"officer\", \"student\", \"also\", \"time\", \"say\", \"statement\", \"case\", \"would\", \"people\", \"told\", \"like\", \"last\", \"news\", \"report\", \"made\", \"first\", \"dennison\", \"cirrus\", \"asiana\", \"roxane\", \"bilello\", \"wallops\", \"blecher\", \"norad\", \"capitan\", \"counterprotesters\", \"delores\", \"aloe\", \"hersman\", \"turboprop\", \"osbon\", \"wardell\", \"ontake\", \"burjeel\", \"boylston\", \"devils\", \"en-route\", \"kole\", \"in-flight\", \"nitro\", \"americanair\", \"throughput\", \"c.d.c\", \"82nd\", \"schonzeit\", \"fans.\", \"kunduz\", \"eman\", \"cooker\", \"kimball\", \"frasier\", \"jetblue\", \"airline\", \"sterling\", \"dzhokhar\", \"passenger\", \"airlines\", \"passengers\", \"paddock\", \"aviation\", \"cockpit\", \"plane\", \"flight\", \"tsarnaev\", \"aircraft\", \"chattanooga\", \"attendant\", \"ntsb\", \"crashed\", \"pilot\", \"boston\", \"boeing\", \"crash\", \"airport\", \"crew\", \"fire\", \"ship\", \"safety\", \"hospital\", \"accident\", \"said\", \"park\", \"driver\", \"vegas\", \"injured\", \"transportation\", \"city\", \"vehicle\", \"navy\", \"police\", \"family\", \"people\", \"incident\", \"saturday\", \"service\", \"|||||\", \"official\", \"according\", \"told\", \"would\", \"area\", \"also\", \"could\", \"press\", \"report\", \"last\", \"officer\", \"time\", \"back\", \"news\", \"state\", \"year\", \"three\", \"mckesson\", \"buchman\", \"mcinerney\", \"bayada\", \"doig\", \"enders\", \"ehud\", \"zinke\", \"zimmer\", \"photo/julio\", \"rabb\", \"peres\", \"pallone\", \"turkmen\", \"ferc\", \"shawkat\", \"broadwell\", \"malmstrom\", \"archibald\", \"easement\", \"raytheon\", \"violin\", \"nightlight\", \"shimon\", \"koum\", \"gurion\", \"mifsud\", \"al-sharaa\", \"anti-syrian\", \"pro-assad\", \"hamas\", \"netanyahu\", \"lautenberg\", \"spicer\", \"techmanski\", \"gaza\", \"annan\", \"analytica\", \"homs\", \"mladic\", \"israel\", \"petraeus\", \"israeli\", \"israelis\", \"abbas\", \"palestinian\", \"damascus\", \"palestinians\", \"syrian\", \"missile\", \"comey\", \"spacex\", \"assad\", \"rocket\", \"syria\", \"manafort\", \"christie\", \"email\", \"nuclear\", \"kelly\", \"trump\", \"mueller\", \"u.n.\", \"amazon\", \"security\", \"official\", \"u.s.\", \"company\", \"said\", \"intelligence\", \"information\", \"government\", \"military\", \"force\", \"house\", \"president\", \"white\", \"would\", \"state\", \"also\", \"plan\", \"agency\", \"attack\", \"people\", \"group\", \"first\", \"time\", \"report\", \"could\", \"north\", \"news\", \"|||||\", \"year\", \"told\", \"starcraft\", \"coombes\", \"aromatase\", \"icsi\", \"latency\", \"bramwell\", \"t-tests\", \"howland\", \"walkability\", \"donatella\", \"race/ethnicity\", \"lembo\", \"laconia\", \"nikumaroro\", \"biogen\", \"are\\u00e1n\", \"age-specific\", \"myocardial\", \"postmenopausal\", \"yauch\", \"hochberg\", \".001\", \"chronotype\", \"proprioception\", \"medici\", \"21.7\", \"deepmind\", \"sebastien\", \"vigo\", \"age-adjusted\", \"moli-sani\", \"toussaint\", \"odile\", \"earhart\", \"peptide\", \"cognitive\", \"age-related\", \"amyloid\", \"socioeconomic\", \"expectancy\", \"infarction\", \"endo\", \"smoker\", \"diabetes\", \"noonan\", \"pediatrics\", \"oncology\", \"everest\", \"alzheimer\", \"clinical\", \"cancer\", \"cohort\", \"snps\", \"prevalence\", \"disease\", \"patient\", \"study\", \"breast\", \"incidence\", \"brain\", \"participant\", \"obesity\", \"sleep\", \"gene\", \"risk\", \"factor\", \"mortality\", \"medicine\", \"rate\", \"prevention\", \"google\", \"research\", \"data\", \"treatment\", \"health\", \"researcher\", \"drug\", \"therapy\", \"adult\", \"weight\", \"analysis\", \"test\", \"effect\", \"model\", \"people\", \"using\", \"time\", \"group\", \"child\", \"also\", \"year\", \"result\", \"percent\", \"found\", \"woman\", \"could\", \"would\", \"used\", \"said\", \"death\", \"state\", \"case\", \"haim\", \"maddy\", \"whittier\", \"smurfs\", \"nadal\", \"labelle\", \"allemand\", \"teatime\", \"leaderboard\", \"tampon\", \"internacional\", \"carters\", \"julianna\", \"ravens\", \"audiencia\", \"tully\", \"contenido\", \"disponible\", \"laird\", \"made-for-tv\", \"powerball\", \"lib\\u00e9ration\", \"iglesia\", \"tamar\", \"personalizado\", \"edici\\u00f3n\", \"usain\", \"lados\", \"nuestro\", \"verlo\", \"cpsc\", \"quintuplet\", \"carvalho\", \"giraffe\", \"uncontacted\", \"trevathan\", \"laminate\", \"rihanna\", \"rippon\", \"packers\", \"est\\u00e1\", \"wildfires\", \"courtney\", \"semifinal\", \"jackpot\", \"serena\", \"abortion\", \"coach\", \"quarterback\", \"tiger\", \"zach\", \"linebacker\", \"rivers\", \"woods\", \"lottery\", \"miley\", \"teammate\", \"olympic\", \"medal\", \"baby\", \"football\", \"player\", \"curry\", \"game\", \"page\", \"olympics\", \"mh370\", \"bieber\", \"archive\", \"ticket\", \"girl\", \"link\", \"mother\", \"child\", \"said\", \"couple\", \"daughter\", \"family\", \"|||||\", \"woman\", \"love\", \"like\", \"life\", \"know\", \"time\", \"friend\", \"told\", \"year\", \"team\", \"photo\", \"school\", \"first\", \"could\", \"people\", \"would\", \"also\", \"say\", \"last\", \"back\", \"right\", \"show\", \"home\", \"hamon\", \"remini\", \"katniss\", \"duchamp\", \"maoist\", \"farc\", \"blanchester\", \"_blank\", \"khashoggi\", \"beebe\", \"fromme\", \"takahashi\", \"rectory\", \"florentine\", \"lesbos\", \"banksy\", \"conde\", \"famiglia\", \"tajik\", \"hubert\", \"archbishops\", \"korans\", \"angelou\", \"khartoum\", \"yerevan\", \"umayyad\", \"popemobile\", \"uruguayan\", \"cos\\u00ec\", \"fukuoka\", \"noframe\", \"anti-u.s.\", \"daiichi\", \"tutto\", \"gilgamesh\", \"benedict\", \"kirkuk\", \"abdulaziz\", \"jamal\", \"caracas\", \"pope\", \"schrade\", \"bulger\", \"sudanese\", \"francis\", \"maduro\", \"vatican\", \"salman\", \"archdiocese\", \"venezuela\", \"venezuelan\", \"lama\", \"hide\", \"demonstration\", \"boyle\", \"photos\", \"saudi\", \"caption\", \"islam\", \"taliban\", \"embassy\", \"turkey\", \"worldwide\", \"turkish\", \"muslim\", \"muslims\", \"attack\", \"world\", \"2018\", \"paris\", \"islamic\", \"said\", \"people\", \"protest\", \"church\", \"government\", \"killed\", \"city\", \"also\", \"u.s.\", \"image\", \"country\", \"year\", \"would\", \"time\", \"told\", \"like\", \"photo\", \"group\", \"president\", \"police\", \"death\", \"|||||\", \"last\", \"say\", \"many\", \"news\", \"official\", \"watchers\", \"dimartino\", \"martino\", \"rothenberg\", \"miscavige\", \"spader\", \"non-tea\", \"corduroy\", \"brockovich\", \"carrey\", \"creamer\", \"kors\", \"'jeopardy\", \"tatum\", \"sancya\", \"kochs\", \"nordegren\", \"galifianakis\", \"photo/paul\", \"pok\\u00e9mon\", \"glazier\", \"sade\", \"collette\", \"starship\", \"manziel\", \"roses\", \"elin\", \"cohens\", \"peeing\", \"philharmonic\", \"garfield\", \"taya\", \"aniston\", \"santorum\", \"letterman\", \"madonna\", \"romney\", \"cain\", \"roddenberry\", \"ackley\", \"gingrich\", \"wilder\", \"dunham\", \"kimmel\", \"gaga\", \"streep\", \"rollins\", \"caitlyn\", \"comedy\", \"kasich\", \"album\", \"rubio\", \"carson\", \"song\", \"meyers\", \"lyric\", \"bachmann\", \"movie\", \"comic\", \"character\", \"film\", \"mitt\", \"hampshire\", \"like\", \"palin\", \"music\", \"voter\", \"love\", \"game\", \"think\", \"candidate\", \"book\", \"thing\", \"know\", \"poll\", \"want\", \"show\", \"really\", \"going\", \"make\", \"good\", \"would\", \"race\", \"time\", \"even\", \"story\", \"people\", \"first\", \"year\", \"|||||\", \"also\", \"said\", \"life\", \"much\", \"right\", \"work\", \"woman\", \"back\", \"say\", \"trump\", \"last\", \"could\", \"many\", \"told\"], \"Freq\": [140.0, 25.0, 32.0, 23.0, 8.0, 9.0, 16.0, 4.0, 11.0, 14.0, 6.0, 35.0, 5.0, 7.0, 38.0, 17.0, 27.0, 37.0, 13.0, 29.0, 16.0, 14.0, 17.0, 30.0, 14.0, 15.0, 17.0, 22.0, 12.0, 9.0, 0.13036047520565108, 0.13142858411545694, 0.10318340720075884, 0.09698647465435875, 0.1415299703024596, 0.10555196538361104, 0.07302807444274813, 0.15651307598686168, 0.07831913497960494, 0.10417981524084552, 0.08775739713692843, 0.09115379534098286, 0.10295215254015035, 0.12387859021436973, 0.07080694933779562, 0.18689290446163684, 0.0692239504043814, 0.2776867448841138, 0.11647778253395676, 0.08444903873728406, 0.06104341245177585, 0.08457528281545663, 0.08443397238846508, 0.045953712126999384, 0.08447882436604788, 0.09257410796443849, 0.06791000549165166, 0.15741203776612855, 0.10655372184404042, 0.04809204350706267, 1.3162436477744628, 0.2109249322201783, 0.17455174044249644, 0.6190288402260549, 0.1346546604943214, 0.5817051246932897, 0.1181623658570749, 2.498866846904368, 0.8193175531241612, 0.20676245511964797, 0.4094361541273164, 4.173571343975864, 1.3353826273515843, 0.6969205643367417, 0.6264215140359299, 0.9150555231469718, 0.5309449669681734, 9.429185398545798, 0.6857295687681395, 3.2369939909506646, 0.6270937953443656, 0.2709913235432096, 23.952058675932538, 12.915175641402735, 2.66796933904661, 0.9186582760447147, 4.432933955805751, 6.650105608111984, 1.1959997674918639, 2.2237126368973406, 0.6734487413378902, 0.5523114879748184, 1.498891294759483, 5.971515406270799, 1.8164030004595633, 1.3940407555705345, 3.372429876783098, 5.080445866411731, 2.3067621248492047, 4.158236239259455, 8.714509716124402, 2.978027215621349, 3.7087089313888995, 3.4437379713271654, 4.997962652475254, 5.2777865940911886, 4.930832199271756, 56.47497657805956, 8.534483845213135, 8.99194667820955, 2.917467363552888, 4.927933195260373, 2.6095099834013284, 4.493045288098385, 7.2707652804816725, 9.369566156521502, 6.847183204189622, 5.868911168028982, 7.676469785670906, 9.34617193456323, 10.27287416360977, 6.333249595607994, 6.018935479941493, 7.368376283327064, 7.378158286057029, 7.967073010178679, 7.0808565966813015, 7.401078073763536, 5.776985402519864, 4.961369703805819, 0.5510282707319564, 0.21761896557000981, 0.1982105963950105, 0.10525683896161622, 0.24148330785007352, 0.07031224257788905, 0.1087374671931389, 0.08306778696990884, 0.38742700036076944, 0.06228115003122244, 0.05015392412568676, 0.16782070201271745, 0.15581536182774652, 0.20327131324458383, 0.041775872058807326, 0.07519629722346056, 0.07733853540587285, 0.03804193550241335, 0.19604830651750926, 0.07221623419222468, 0.05897227346978547, 0.13134304111955594, 0.036545835820628425, 0.21072151679362935, 0.037748377516141095, 0.026110134219616877, 0.07312199575538056, 0.029314836416009522, 0.03744651968275615, 0.06836365077806168, 2.6789029868100096, 1.5870951266509268, 0.13280709068678537, 0.2000428983933486, 0.13234943728415874, 1.0951843014880276, 0.3439329930827904, 0.22660088793323777, 4.714572603365931, 12.008417664636697, 0.6019529898737173, 3.728624988576077, 0.21179245618019008, 0.19632458360357458, 2.3705978856814016, 0.8082861526591016, 1.2306949775194491, 2.0908207214910735, 0.5558537834548921, 3.688547943935001, 1.5189467118879698, 0.5927406777966784, 4.194502879381288, 5.797090652774834, 1.661969543600158, 0.8819704066374666, 4.64398261263139, 17.350178805109614, 4.835912924510954, 3.3623856506974175, 3.6568803411652673, 4.613726702689396, 17.203966157432358, 6.518736364737327, 1.5233064301699226, 2.2963663265782244, 4.404565874770465, 1.5372039014626302, 1.8453950614876726, 1.2285568432896374, 5.722632548801422, 5.593412103728614, 4.413796441496139, 8.553619092263462, 9.96603782646988, 4.964033543720241, 4.238789058169792, 7.814041297325801, 3.365985226687511, 4.10310312413811, 5.145330957404666, 14.91369969190556, 8.113889882324315, 32.3124473634804, 12.41307762167667, 5.382173856674964, 5.038140195557304, 7.758499556283238, 8.675993977231467, 7.072793971006792, 7.732847829807841, 6.751202427813399, 6.170351009359092, 5.405916400997197, 5.332345218853414, 4.725375610814279, 0.08922062289047261, 0.07707990547069314, 0.05076552316785445, 0.0711903444304347, 0.07777289929746006, 0.05661539631417807, 0.05237405430180885, 0.16549613967095794, 0.05705182595300416, 0.03911359793797533, 0.13044088744660257, 0.03918767239131566, 0.05082614201099262, 0.03511995172313658, 0.31557117210001606, 0.03378391340535709, 0.048203993604348454, 0.05564507620498323, 0.05954826202339104, 0.13192603503226144, 0.09056471346753386, 0.03220601884898453, 0.06815665134877359, 0.13321826610459062, 0.06549356622685558, 0.07141706002946957, 0.13042908168769055, 0.02713754552681092, 0.032142740544065226, 0.06370520482008181, 0.06693312303912365, 0.1864843306231211, 0.1268198543412625, 0.17776724810975783, 0.19190795818069317, 0.3367055912364624, 1.7598002506519619, 0.33401536975451834, 1.0846848738127068, 0.08908020612267414, 0.1618683523769674, 0.1852635110245445, 0.4207412627107997, 0.36837634767050853, 0.14301905818692545, 0.12017570268086727, 0.14286479533239346, 0.5374903403496503, 0.21790706762143058, 0.33127747495768295, 1.0654835034680317, 0.32324457768338827, 0.21786818882301118, 0.20913196944180487, 0.34818427856306955, 1.444431760496366, 0.775174235188778, 1.1415688757667792, 0.6600692959221737, 2.5053487570177997, 1.5914754004892722, 0.3508497628290811, 1.0035394885166318, 0.8735085240362087, 0.31103089391934396, 0.7395528131007951, 0.29044862970507546, 0.9399059695592165, 2.598771343593686, 0.40500692997023324, 1.524658576135974, 0.42060378682930943, 0.5670481895766533, 1.6222409549318886, 2.690064784767316, 1.2655512391710644, 2.706023806850322, 0.8872923596643236, 2.590171235185014, 1.843574253600998, 0.7594889828857385, 0.9539953759388609, 0.8026291677794501, 0.8353460073231941, 4.822447469644523, 2.0367010473373517, 2.885902934967599, 1.9263463852335443, 2.026750326338202, 2.6255339155627775, 2.4692057427112823, 2.7408686660982147, 3.3200290858968913, 3.186631608653441, 2.8946185400021953, 5.269097912588424, 2.5917706270574503, 2.8057246369164637, 1.7354814567064298, 2.1286003392329307, 1.7078660558504033, 1.6411833021418174, 1.5574219070115956, 1.5041297825818554, 0.23302542736628526, 0.06535662133845481, 0.3894366268938856, 0.07850667202585955, 0.0537751162681125, 0.13915042849433426, 0.2280867992616547, 0.031374484218411325, 0.0683252304505901, 0.041527598888424895, 0.027298326348422407, 0.023552197288577513, 0.0416631663730233, 0.026782030932225483, 0.01767126070675261, 0.024562689764293065, 0.02781057004812636, 0.039708825252896554, 0.026884428645349664, 0.028801927467614282, 0.021738329717618358, 0.01754883262743051, 0.1222391864734669, 0.028769605022177295, 0.04732465721460244, 0.01683619866059995, 0.023994588085162052, 0.016585359724742562, 0.01945941708197691, 0.02593959223412158, 0.13629742086929011, 0.16277460870452257, 0.12519597983467412, 0.08232454993934916, 2.124064850961093, 0.7160475391462279, 0.6798458759445588, 1.746710138360888, 0.07518032279707516, 0.4613875467323704, 0.7688317005917541, 3.419586326909713, 0.21924992834805812, 0.32175390832884565, 0.13746542938278408, 0.209548129486176, 0.41671771647728534, 0.07845707770520498, 0.26185467992826056, 0.38989757225814187, 0.2844936025301572, 0.3215027627639527, 0.18788322923019887, 4.115430767061771, 0.33836666687935857, 0.41750437209771135, 0.47762984123159774, 3.4370066761195384, 0.9137901792439533, 1.082204889659314, 1.8524004012995534, 0.3466324868574514, 0.7139054240223466, 1.6715008426309708, 7.919006603511211, 0.7528832456544341, 0.788063473702973, 1.4347645766320876, 2.3705091326670376, 2.7609797407570356, 1.8281195012782734, 1.5667612326924907, 2.370022271297576, 1.5505893458374624, 1.145490201433629, 2.0406295455327546, 1.9435113383735734, 1.5492901000967427, 1.3097095150757165, 1.3874723612375848, 1.8332749886721245, 1.7655173683579366, 1.4878774069528748, 1.3092956080099252, 1.2306622537194598, 1.1240892736670864, 1.11099562399679, 1.0942346348847134, 1.1282105926104522, 0.033553965304161694, 0.02542546633066814, 0.03181649740862918, 0.026232873830367202, 0.037519115896318955, 0.017303446295847773, 0.016525775263343027, 0.014394532120575938, 0.037628151095445095, 0.01981096720464691, 0.02698817563886183, 0.14297500289406914, 0.030921139960417995, 0.016338540288681376, 0.028134670258515734, 0.014113657367378666, 0.021166009419865375, 0.015422428614247355, 0.017519045714048713, 0.026568695288819815, 0.012890103167314431, 0.011398704537814872, 0.02834521514602978, 0.019383490999445523, 0.009094020775192366, 0.009150434799003229, 0.02082352957854099, 0.01500488425534164, 0.008993993451923215, 0.007830535782701703, 0.06870873781462937, 0.0769053876885376, 0.053876954795550165, 0.11190655596501534, 0.07427166400924073, 0.034859538877702774, 0.4873431945918711, 0.20936224101846004, 0.03698002762871732, 1.4289381297632266, 0.42813682734664266, 0.07750112459488055, 0.24067710384178134, 0.28433252030240597, 0.10035284619098926, 1.420489442153202, 1.7542374975666868, 0.11276796836656722, 0.6923308669179755, 0.09463166581706807, 0.1380186694225351, 0.0790846115350621, 0.32301004323822036, 0.5424940248677462, 0.6778179016263326, 0.19297820549535571, 0.8980231909770432, 0.9093167356416852, 0.795772043618817, 1.7426463564015717, 0.8252174055114944, 1.1069225952521382, 1.5849909723513798, 0.605561228783181, 14.464478461622452, 1.0004325523904107, 0.8515554804537633, 0.4345584776235078, 0.700472042899635, 0.3796400108663985, 2.0041853173194157, 0.9265266157199733, 0.3945908824179656, 3.01054954147237, 2.055355509074043, 2.972817557944998, 1.0583182103340434, 0.9654213084893662, 1.0850322754858024, 1.996589188044399, 1.5557436276891226, 1.5227472233739747, 1.6956824614925559, 1.9510751844269973, 1.1779843881865115, 1.677417226614532, 1.4643912031762387, 1.1976841066753963, 1.2382476795322932, 1.2871606460565832, 1.1974629779238464, 1.3967440661569284, 1.183073345410084, 1.113894071469954, 1.1435999372983283, 1.1417178462952169, 1.0708838873067954, 0.04413680895111906, 0.05545555366776535, 0.052260647871314354, 0.028199464642501382, 0.07137713382064453, 0.05068821751009766, 0.017204986799870873, 0.09482361290288986, 0.7369601664796808, 0.024680615557675697, 0.013952584944245653, 0.023519153862610033, 0.01792243577404239, 0.013681502137851324, 0.015088813345865225, 0.016526394713291093, 0.12476545210491286, 0.014380011772181183, 0.019492752184327507, 0.012934292864537846, 0.04248594313358516, 0.06885921176240595, 0.008952654576223346, 0.019503556112804594, 0.013746260778700345, 0.009120300677820678, 0.009070121486070245, 0.00872700681288759, 0.009202387116864627, 0.013863583990976367, 0.2576783478509972, 0.43511188472641116, 0.0336245460947071, 0.2622609336384273, 0.03940318530800569, 0.3485672700586179, 0.11323431599195088, 0.08843535963031206, 0.1369056870947518, 0.045408909260348816, 1.1444339884912007, 0.3274173038174031, 0.6166768438514637, 0.08338383012565376, 0.10096210063760641, 0.29775148316722744, 0.2115787535551594, 0.1441122203303462, 0.8956549440338526, 0.8171271125315245, 0.4094854687880428, 0.15189234317641406, 0.4362034242479143, 0.4571283111295182, 1.1543384340401825, 0.2786547018803571, 0.606536964202356, 1.5928908516108649, 1.1201900666581424, 0.8730986405348266, 5.087667685301501, 0.45097606248964384, 0.3949353893440884, 0.39905827915129616, 1.7152276146557746, 2.499474951764906, 2.5256887948576106, 1.802004291320697, 8.085179223990155, 0.8128416805475517, 1.4427875793823752, 1.8633662111181686, 1.2303033991418075, 1.2562574199955419, 1.929717889624497, 2.1589800194170814, 1.424630950629449, 2.517411814775065, 2.0554488276128864, 2.0737284870327186, 1.1717679147651165, 1.036680446872222, 1.1693528077866275, 1.7590539176380358, 1.2494633477519828, 1.384237107881255, 1.4430980853512332, 1.2414891075829089, 1.3461496473361445, 1.1120532843123037, 1.1609119230614597, 1.2244461584216655, 1.2589668195991879, 1.1833627717031379, 0.0871839536857224, 0.08228966170168216, 0.03986701097677265, 0.036064737456203616, 0.14497526514011025, 0.03059184332352641, 0.027006180671451278, 0.04310985656891691, 0.03151058734358725, 0.023033024904196155, 0.07017952715938677, 0.031631141843018594, 0.02584210720673248, 0.11307194424358273, 0.055063303243727664, 0.019966232775486654, 0.04660022835488126, 0.09567763240534281, 0.025677410061023732, 0.03593036725722249, 0.020839920024734594, 0.1364821809068247, 0.031953699541584904, 0.05033109836607656, 0.04118109451726914, 0.015941030951159504, 0.025928458382786807, 0.023992928959299442, 0.014440090379638962, 0.032518903352653755, 0.0638957292349795, 0.11759345257740722, 0.026775271592238522, 0.3599245687589472, 0.05472941773020482, 0.4877752885584811, 0.08324547357345284, 0.06212191638187803, 0.12282575483289661, 0.27166869106223757, 0.09149603995669849, 0.047973723882448464, 0.17501724932210902, 0.36578480331339647, 0.10034994482066624, 0.09479604174530026, 0.09397979572020465, 0.14755193178847553, 0.39619817043808225, 0.4458351082843981, 1.6733519266400958, 0.18752704969806483, 0.18548020881610633, 0.15732470079131838, 1.6408982498394868, 1.607002691223678, 3.678838580115845, 0.5393110320457203, 0.16369194260929293, 1.0913992530197205, 0.660618362911888, 0.2270013983788209, 0.6611702416782246, 0.7415907243319466, 1.6680429193601094, 0.7833772828221763, 0.2544854300165307, 0.5154191311528458, 1.3809063453560064, 0.3938075210069974, 0.6819439721644883, 1.5019994005448656, 1.7058549865247425, 0.9954934600165077, 1.9806731521781293, 1.0404119353918864, 1.4627360700820489, 0.32169023713627953, 0.7513964588236062, 0.5372130001897742, 0.8502860846090423, 0.9868933112374038, 0.9589926505463682, 0.7748731639452775, 2.307433852844786, 1.042464395391257, 2.03109705963346, 1.4255154272404948, 1.4887518344836674, 1.964421817683368, 2.049362807002159, 1.0017243934471765, 1.1646376241069558, 1.3557573257433548, 1.3424263687223044, 1.4901124101130114, 1.60840665621182, 1.1382875140756783, 2.0448591739766226, 1.1714169182478422, 1.3329947208646082, 1.167904334660804, 0.03336298941389879, 0.026770575107081914, 0.027857050410931936, 0.027037973275175434, 0.03740140139431869, 0.05226829895140929, 0.020785120696300674, 0.022383616557793456, 0.016146171971574856, 0.051393690306844986, 0.02866334794449591, 0.018659479314209103, 0.16329495536286628, 0.11454009336655809, 0.02315294716759387, 0.015011239098683357, 0.022994131451081694, 0.028931847584861912, 0.02566929031924098, 0.012799353879845918, 0.08527353882434292, 0.011903766785470017, 0.014364894808642911, 0.01677280333313805, 0.022886542307556223, 0.02296418618771309, 0.037125867474399124, 0.02292652340748933, 0.02921262566655014, 0.022769907030048234, 0.04079548995281181, 0.03585691733439034, 0.055589960750460056, 0.1577752632797574, 0.07241433497934102, 0.06332596647570811, 0.04423516612313235, 0.13211801884877294, 0.05648877654670178, 0.06161581810161919, 0.06289188184160706, 0.17259877977503946, 0.1854561880940456, 0.05666942160486289, 0.10757937990218264, 0.07714100308100097, 0.5041982368726594, 0.5194027798483212, 0.14722299305757092, 0.35548014032551667, 0.08444888041500932, 0.08535519559693604, 0.19361153927614458, 0.1910952790503969, 0.19255245295467727, 0.10516881053795887, 0.15252151095055475, 0.3395675688098185, 0.21195134465637233, 1.0545212723381094, 0.6255630452285748, 0.7487971043102651, 0.12668009891342158, 0.8649245724541116, 1.19163357919328, 0.2910888572694645, 0.23723415341324253, 0.21863498466347847, 0.49068578605786034, 0.353405752557466, 0.9733808036056162, 0.701521957640979, 1.0892313136673577, 1.7075047829473746, 6.145609964655518, 0.8135091303233062, 0.7894431978470946, 1.6757970341457393, 2.155118539574475, 1.544814609774316, 0.6264258783954241, 1.4910185165016014, 1.2396851430312916, 1.1945939905362213, 1.7915244389070826, 0.8818527626980952, 1.5543951326744743, 1.9429606877957502, 0.898214114759458, 1.126412344892228, 1.018156405026095, 1.2701019591186289, 1.3254758077643012, 1.521260769965225, 1.5580516023841473, 1.343148513944058, 1.0785731867318484, 1.0216215827132182, 0.9603612931806499, 0.9283642411543206, 0.8863705080098983, 0.8825811837984366, 0.24699924902793163, 0.3685765727709674, 0.06686235097373858, 0.1109184322284837, 0.03164421596443671, 0.03847761913651651, 0.03313371029877966, 0.028648022567836783, 0.2741720089041143, 0.05083531018526619, 0.0282145057953186, 0.033838409829938514, 0.018921973038650362, 0.02203156916325063, 0.031491961955676044, 0.03822157418845664, 0.08483155701514276, 0.019922699283131205, 0.02296489538764693, 0.033872402697776915, 0.013493281423859546, 0.020059366848091446, 0.02027183562426063, 0.05208059850373349, 0.015145756017551111, 0.016868058947642896, 0.01518341094305913, 0.030892972517033622, 0.014934028732397674, 0.01503477804528534, 0.030493389862765563, 0.30510519818476317, 0.05781974252620549, 0.02974001006669766, 0.026113456731602973, 0.2332909120657279, 0.05147323457832497, 0.08127870236811273, 0.14265589269097761, 0.14378916868836725, 0.7045773035305808, 0.038867178754965453, 0.1974497038471689, 0.11572640595842032, 0.552008681823213, 0.19492929666171116, 0.3200601230775386, 0.17942930377059338, 0.16483167607084698, 0.35808741415783535, 0.14962151448192318, 0.1473500916121881, 2.0651062792392167, 0.5475516888154198, 0.167858226981974, 2.2211187519635733, 0.6931117196390303, 2.18272896524183, 0.29674868523209946, 0.4700006086574439, 0.5310851120920662, 0.4830570317034154, 0.4302994741559358, 0.2817060561054709, 0.520630391419411, 0.3406376612942823, 1.4530663138731381, 1.3947435395691519, 0.7351395087444214, 0.4740786418967468, 0.4770849687071802, 4.489629123321574, 1.9965952296680518, 0.6092817398472532, 0.7413325841311945, 1.1986745863487054, 0.9450452219664761, 1.0563557097807654, 1.4605311148931057, 1.1410336205999343, 0.8597449785389205, 1.0223601928700161, 1.3824906969522905, 1.3562827691024386, 1.213950789596021, 1.070519416582038, 0.9749555844757065, 0.8885105430102958, 0.8854937338490804, 0.9936020913766432, 1.0589652454325196, 0.829816385854417, 0.9881517247243573, 0.8014519991776462, 0.7868001224641378, 0.7743131930029098, 0.7675686548141243, 0.7677588752992399, 0.01669722693013864, 0.021114379824819635, 0.013760205460353801, 0.01253479902625966, 0.023465593899756405, 0.00864381370636234, 0.008691561345771811, 0.009504893038573613, 0.009142396050719674, 0.02106238892005223, 0.009256147073030511, 0.017355120878741043, 0.006447129884743404, 0.020303708740399384, 0.010646804970764206, 0.009057678505685895, 0.007277471134441527, 0.0130360953869955, 0.00972498650388459, 0.013311763433669443, 0.008942395563995785, 0.007494937371369047, 0.008521315344283848, 0.009768617276862249, 0.03921900538933696, 0.018679477198923718, 0.013491347823424678, 0.004986606760861982, 0.008955654099239424, 0.006774946834842404, 0.10223082479416337, 0.0113562314054935, 0.041397998257031776, 0.18693221924966286, 0.05440638824560779, 0.12617213440438158, 0.8346751021399567, 0.07967662055974818, 0.023263498039285384, 0.033497292738677284, 0.21059764451081947, 0.027256165954448672, 0.14218407976508018, 0.055464721113232994, 0.13277511461010083, 0.02657111759992868, 0.02246781679934334, 0.03166260698520742, 0.20172604925798474, 0.15842679039901433, 0.28873952574905337, 0.2794262249982167, 0.16692284910153898, 0.39489582407714663, 0.08255363814495606, 0.08022284906832076, 0.07454497370156031, 0.6659430891864251, 0.08440546430491479, 0.43493871903014975, 0.7048947519456799, 0.18287652989809478, 0.24084445890479372, 2.703026180588518, 0.19155755117566786, 0.4101595447637293, 0.5969498126785567, 0.6882160184246195, 0.6649955885940773, 1.4835487106574792, 0.6887757912012195, 0.5605909016604598, 1.2369472114923077, 1.6693082754417718, 0.3978371092853549, 1.3182027931950475, 1.4368673298623822, 0.8954217851385358, 1.3141209980145685, 1.465854285213561, 0.9680031105766498, 2.4949265206690625, 0.51363453377065, 2.009036230734351, 1.28559161389702, 1.0787998374912202, 2.096540120816643, 1.5484612743869404, 2.018776026385657, 1.6820410837266022, 1.6871091180998856, 3.227573719919013, 1.1043421337023733, 0.9652630382166962, 1.092326103463053, 0.9699465350119164, 1.0749551453329487, 1.0135765673986838, 1.0783704087114512, 1.1814327461707124, 1.0447400624102308, 1.031655416483605, 0.954088262261118, 0.9570881680867821], \"Total\": [140.0, 25.0, 32.0, 23.0, 8.0, 9.0, 16.0, 4.0, 11.0, 14.0, 6.0, 35.0, 5.0, 7.0, 38.0, 17.0, 27.0, 37.0, 13.0, 29.0, 16.0, 14.0, 17.0, 30.0, 14.0, 15.0, 17.0, 22.0, 12.0, 9.0, 0.13144053943467512, 0.13251864753328366, 0.10411553183495072, 0.09786978045237996, 0.14285569286660962, 0.10663767356358667, 0.07378462229598787, 0.1582061572751272, 0.07923569526901135, 0.10540874794788686, 0.08881983405263456, 0.09226701346032551, 0.10422429471384922, 0.12543668725610707, 0.07172991364521394, 0.18939357505176665, 0.07016335511361144, 0.2814855866205656, 0.11809032751518982, 0.08574054549194464, 0.062013706205878254, 0.08594344858083339, 0.08589421993494649, 0.046825711908462284, 0.0861176413802971, 0.09439416178595485, 0.06925155748122012, 0.16055322940019132, 0.10872370387124332, 0.0490841977728909, 1.3646614977042373, 0.21541054023488762, 0.17923492463626664, 0.6465487399789421, 0.137984587050207, 0.6141914131147266, 0.12092076133990251, 2.787523625680262, 0.8871124376045083, 0.21469220143857148, 0.43490436995261017, 4.8657779498172395, 1.494121998738015, 0.7593540529202683, 0.6841514334578522, 1.0153561019171633, 0.5771578707940435, 11.79986328251167, 0.758405280316558, 3.8855679018162634, 0.6933918152113608, 0.28695059406133583, 32.34841386707168, 17.02158904229312, 3.2228482004919847, 1.0469701915073415, 5.631914777818693, 8.793596922692766, 1.3935900705194986, 2.716560586511924, 0.7548107558654776, 0.611887550425147, 1.7904120444664402, 7.948725022279955, 2.2232311811289436, 1.6681785964301605, 4.402476502024038, 7.024158325645652, 2.936261649655219, 5.658628527834498, 13.074213560093671, 3.91916185940064, 5.027282155783578, 4.654092737372168, 7.106767057922768, 7.845274387319497, 7.509520798722612, 140.4328581251249, 14.949629796711415, 16.563281738943374, 4.225123339315937, 8.295085348297752, 3.7099796863549823, 7.825793439625428, 15.439475759398432, 22.417254008913446, 14.33653954412539, 11.50749670377724, 17.080456594912288, 25.16542916548652, 35.49668729730983, 15.405865209337462, 16.467347117297116, 27.58383851533859, 29.144954331276516, 37.75785272628717, 30.38071933618646, 38.43993193882721, 23.671740636303493, 12.414126562550496, 0.5522391778870526, 0.21925695230789594, 0.19971474787533922, 0.10629510605016726, 0.24437722673770393, 0.07128605987689797, 0.11047136936415076, 0.0845914963293185, 0.3950896220166786, 0.06351941841270314, 0.051256009410949634, 0.17172850471351275, 0.1594705571980906, 0.20840576113072876, 0.042907172592453455, 0.07729778667408607, 0.07970309882591518, 0.03920724263026535, 0.20219127338737697, 0.07449888295255558, 0.06085427515376447, 0.1355685197648965, 0.037728549446461666, 0.21766357867400962, 0.039006055273175445, 0.026988688365470102, 0.07560134039654424, 0.03031545787012931, 0.03873119106361389, 0.07072102264217217, 2.8505855484769578, 1.6806092750067538, 0.1373953688445749, 0.20900000070267147, 0.1377936284902193, 1.1655426436028196, 0.36283036420651843, 0.23860854760410918, 5.421758709123077, 14.238628886453016, 0.6550600486946113, 4.300773715064024, 0.22474228461664125, 0.207883389324591, 2.7329249203040145, 0.8946754569937307, 1.3891267868539245, 2.413974764654561, 0.6103716095553269, 4.456916413860118, 1.760915755652632, 0.659206251277326, 5.229423957356479, 7.407087105498813, 1.9655094715820138, 1.0036493304689615, 5.889830256180524, 23.99485142459726, 6.184375451890337, 4.209249099048651, 4.681425518912012, 6.106002739845267, 25.822878735369873, 8.972592635099067, 1.849882691123041, 2.931197961685933, 6.054761991980996, 1.8918085080666693, 2.33759668836916, 1.4666873559240683, 8.602794950917101, 8.446016067924509, 6.540401226756999, 14.30389196500185, 17.46813028190242, 7.592803337578252, 6.46186633014176, 14.402065647037565, 4.925509852036815, 6.555894678846835, 8.937928607075461, 38.43993193882721, 17.413632283428147, 140.4328581251249, 37.75785272628717, 11.07616599426746, 9.880674176493274, 25.16542916548652, 35.49668729730983, 23.671740636303493, 30.38071933618646, 29.144954331276516, 27.58383851533859, 16.918493276654214, 17.705659978610118, 19.52997513073594, 0.09055726230436202, 0.07823836438005129, 0.05163677337730279, 0.07256085234045567, 0.0792847709426024, 0.05784606349022217, 0.05354048210397125, 0.1692226153473506, 0.05843255445293508, 0.04006023680351112, 0.13363771581955738, 0.04015324391523255, 0.05214098479059194, 0.03603398401281338, 0.32391098570949767, 0.03468346494181497, 0.0495117674254898, 0.057204093287520234, 0.06123033317555807, 0.13574532566202022, 0.09318865595791012, 0.0331430033750471, 0.07014009054873635, 0.13720822878829592, 0.06752087476006896, 0.07372913647708665, 0.1347341434919443, 0.02803487760996492, 0.033206570479823616, 0.06583510769085767, 0.06925536477078506, 0.19525759579786467, 0.1323014652609694, 0.18640682842821762, 0.2023924620675396, 0.36018594819279093, 1.9547045959076377, 0.36280107927454375, 1.2222126954807113, 0.0929127668874744, 0.17226475163153482, 0.19940642441125347, 0.47155688444832145, 0.4137921836139686, 0.15328818989001147, 0.12776360487152702, 0.1534158314672279, 0.6201862181444974, 0.2398518658318561, 0.37938331976481593, 1.356942631307229, 0.3731429740911426, 0.2430901287031429, 0.23289054876218335, 0.4080676978292062, 1.9562682596987633, 0.9961344060632064, 1.5325054291913673, 0.8458955880262345, 3.8784348206253565, 2.3409202629499566, 0.42024882123535684, 1.4113162085450808, 1.2069084188537225, 0.36617318441013175, 1.007701041379694, 0.33976626555556066, 1.3580406821688165, 4.801288083098352, 0.5075293483713867, 2.652441953466676, 0.5374866411283257, 0.8068821293815572, 3.3231794779833264, 6.585049030876946, 2.429472686491354, 8.382725784928368, 1.6382461805142456, 8.220541843506858, 5.12069499044227, 1.3188276644894257, 2.0716634001176506, 1.604983509136421, 1.7327573346250567, 37.75785272628717, 8.73238145998412, 16.64253576764488, 8.465717450275354, 9.628511394187456, 16.96535295735177, 15.439475759398432, 19.52997513073594, 30.38071933618646, 29.144954331276516, 27.58383851533859, 140.4328581251249, 23.671740636303493, 38.43993193882721, 10.676321650717401, 35.49668729730983, 12.692121550918918, 13.91494600289926, 10.401997104457783, 9.061769875606052, 0.23605968096626587, 0.06628282092496773, 0.39544646903747277, 0.07994672559262068, 0.05484165069087581, 0.14327183874545169, 0.23519152623445208, 0.03241292926145111, 0.07106933301638596, 0.04321077312806307, 0.028429965472944622, 0.024540654980676247, 0.04358848143051732, 0.028029626770688598, 0.01852001287801048, 0.025768186741591526, 0.02934392267129562, 0.04192701466652578, 0.028425423415951674, 0.030482156812741502, 0.023025536599659478, 0.01859903617215897, 0.13051914961109023, 0.030810269735853633, 0.05069912101608608, 0.01806866378484675, 0.025789625225330137, 0.01783930638351649, 0.020947144273644802, 0.02801066677765153, 0.14792806602269962, 0.17720856699718268, 0.13628055056354793, 0.0907631388889269, 2.506280836096889, 0.8283441086641251, 0.7995444012442952, 2.1392311649290914, 0.08287754018944399, 0.5499506774951639, 0.941431972385058, 4.533999709764855, 0.2551599106849313, 0.39031417304416066, 0.15822370121762594, 0.2496560855788876, 0.5277723165670135, 0.08744415944796785, 0.33004726349211816, 0.5155794874251006, 0.36562436012829314, 0.4328230670777484, 0.2365090126532816, 9.49214976898935, 0.5090101060922756, 0.6612237873412524, 0.7974726382686337, 11.083557915719714, 2.0921953706450473, 2.997763075176819, 7.910385554555535, 0.6309497937569847, 2.083257003260426, 9.209442425425749, 140.4328581251249, 2.6806936130834855, 2.986563997850781, 9.909705537757484, 27.58383851533859, 37.75785272628717, 16.467347117297116, 12.157963108123276, 32.34841386707168, 13.074213560093671, 6.8733577277879885, 30.38071933618646, 29.144954331276516, 16.64253576764488, 11.19140485615168, 16.563281738943374, 38.43993193882721, 35.49668729730983, 22.417254008913446, 16.96535295735177, 17.705659978610118, 15.407181856292706, 14.839323512016154, 13.219414445752104, 19.52997513073594, 0.03475693306405988, 0.02653348769935186, 0.03359916782391624, 0.02771882544291659, 0.039653286040642395, 0.018300517629167148, 0.017527226070610424, 0.015449078783703206, 0.040404642504785565, 0.021308025960096233, 0.029030509330716086, 0.1539349055236892, 0.03347744634566018, 0.01770177795451204, 0.0305513400365419, 0.01534153945262413, 0.023018022201497207, 0.01677859061296707, 0.019091989494680828, 0.029041562492179512, 0.014111365365917235, 0.012494076358599206, 0.03115930741408018, 0.02149835400462, 0.010096151297145417, 0.010191044056168668, 0.02319606073482575, 0.016727905188904494, 0.010039298463433566, 0.008768511302387774, 0.07753449624821021, 0.0875072823664106, 0.06147381901452408, 0.13191045314594094, 0.08649954175269547, 0.03986810554671654, 0.6396202718404425, 0.2662440115822486, 0.04268058336821194, 2.1155463996616706, 0.5883243364481477, 0.09419638463111263, 0.3240102516954056, 0.39035396287775714, 0.1258474847595332, 2.2938067415389582, 2.9272909941411926, 0.14817318661362405, 1.1858994911055076, 0.12368903993017599, 0.19203422328715708, 0.10131702382652902, 0.5487473015162897, 1.0190317313759183, 1.3400771687872122, 0.30181483200713904, 1.9386920516596338, 2.116418080902995, 1.855535070790577, 5.154733611755695, 2.010351939316919, 3.5245026976562577, 5.931529715668142, 1.6225380835433112, 140.4328581251249, 3.4297652330348245, 2.7280124355880657, 1.1351578059077816, 2.4174487889471017, 0.9495489723611515, 12.871500099943873, 3.986721423880776, 1.0132581880418319, 32.34841386707168, 17.080456594912288, 35.49668729730983, 5.705124682683993, 5.449963625732703, 6.97128178506345, 27.58383851533859, 16.918493276654214, 16.467347117297116, 22.417254008913446, 38.43993193882721, 9.469076156899341, 30.38071933618646, 23.671740636303493, 12.549072225056367, 14.839323512016154, 17.705659978610118, 13.074213560093671, 29.144954331276516, 13.198860193049857, 15.407181856292706, 25.16542916548652, 37.75785272628717, 12.414126562550496, 0.04534799911553359, 0.05724967958288591, 0.05402742673271022, 0.029361586007863153, 0.07546076203056112, 0.0536488508337168, 0.01824556262636153, 0.10201925149839054, 0.7956836802500238, 0.02668651655582595, 0.015114000009483331, 0.025477811419376106, 0.019507016949004124, 0.014892106779537737, 0.016491240336545976, 0.01812040983384362, 0.13692842922364465, 0.015794282134226248, 0.021451865789470254, 0.0142423054469501, 0.0468318857623875, 0.0761581929434819, 0.009915494244122223, 0.02164830284502812, 0.015319677562482589, 0.01018815307741309, 0.010155171480356849, 0.009771292558153136, 0.010310483439003934, 0.015599649775043599, 0.2944189904485396, 0.5046462056645141, 0.038104262984945445, 0.31065719268589725, 0.04501213381909809, 0.4207808687449196, 0.13237502531383297, 0.10400272073710289, 0.16439011919328742, 0.05262941105653982, 1.5877910797000594, 0.4257519092996841, 0.8358470009833934, 0.10090715456252962, 0.12445261874281659, 0.4039340079674393, 0.28503348924234334, 0.19020232067171072, 1.4629921070280405, 1.334405821651329, 0.6245663635333015, 0.21002333949580793, 0.7266110086748796, 0.8040877634174307, 2.4965510115583105, 0.4488465424209144, 1.2693402346518874, 4.863184703927214, 3.0555546611416333, 2.206741812144769, 25.822878735369873, 0.9855034897833593, 0.8512459067324587, 0.9123761713138169, 8.823776724245631, 16.918493276654214, 17.413632283428147, 11.083557915719714, 140.4328581251249, 3.12968907200663, 8.89993527344939, 14.402065647037565, 6.760129230776791, 7.100162723873937, 17.46813028190242, 23.99485142459726, 11.07616599426746, 38.43993193882721, 25.16542916548652, 30.38071933618646, 7.762589468252546, 6.626797434814767, 9.232095087998319, 35.49668729730983, 12.612529267548632, 19.52997513073594, 29.144954331276516, 14.839323512016154, 23.671740636303493, 9.49214976898935, 15.407181856292706, 27.58383851533859, 37.75785272628717, 22.417254008913446, 0.08869566132549016, 0.08412060640114107, 0.04086129994468625, 0.037274323587838595, 0.1499789287145413, 0.03167361955983117, 0.02815144993860621, 0.044955739485062214, 0.032990005871558835, 0.024133069862146625, 0.07362084469846879, 0.03319841682111016, 0.027136407915134608, 0.11879554850285068, 0.05785129180277098, 0.021027525901742356, 0.049103654348215335, 0.10094774729791652, 0.027108378161128592, 0.038044471199085064, 0.02210621210608307, 0.14477823946376434, 0.033926531759078095, 0.053450419238333685, 0.04374219054316468, 0.01694020825330285, 0.027580644378599264, 0.025536940554872965, 0.015380911162999064, 0.0346515565952779, 0.06850339619250254, 0.12725533492200522, 0.028561943207105863, 0.40524281915190447, 0.059322917205063094, 0.5709330999085545, 0.0921055420129762, 0.06800562676383287, 0.13881537080862688, 0.3241846974908595, 0.10344068893251994, 0.052195968593071324, 0.2074804752878324, 0.4590842030628987, 0.11467872248647457, 0.10869207698270804, 0.10769854062511433, 0.1776855624492361, 0.5367126409834572, 0.6248786732558752, 2.8433055531067253, 0.24237123363177798, 0.24081385732056448, 0.1990670251300371, 3.064676206409333, 3.037005888422569, 8.220541843506858, 0.8539415027667095, 0.21112476179243606, 2.139583942088395, 1.174349410614991, 0.3205966582993039, 1.257258079874775, 1.508280467605802, 4.3351983002241, 1.838494557923784, 0.3917658326255861, 1.0577679253780106, 4.309034919883596, 0.7321491359873341, 1.624019660956869, 5.12069499044227, 6.201237889793493, 2.8735074368762277, 8.13165212689319, 3.3231794779833264, 5.672641879065387, 0.5495702005245288, 2.1760976614124385, 1.2754753457393502, 2.7394013003586752, 3.7793078033683734, 3.667239340145428, 2.600497947130278, 35.49668729730983, 5.51044811188867, 29.144954331276516, 12.612529267548632, 14.33653954412539, 30.38071933618646, 37.75785272628717, 5.494692422269271, 8.937928607075461, 15.439475759398432, 15.405865209337462, 23.671740636303493, 38.43993193882721, 9.628511394187456, 140.4328581251249, 11.50749670377724, 25.16542916548652, 16.563281738943374, 0.03440736385485385, 0.027674179125505526, 0.029205631957713273, 0.02855038563984723, 0.03958884047323012, 0.05558522072481345, 0.022119995483801284, 0.02384810509141083, 0.01722790718047623, 0.055080780351311455, 0.030762806974296265, 0.020037389855590847, 0.17562895201525314, 0.12320402287284486, 0.024912193326358245, 0.016153654389585086, 0.02482140978245902, 0.03125912384759165, 0.027746973267628924, 0.013836950739108659, 0.0921909742868854, 0.012870748724601, 0.01553407826877391, 0.018164352857700128, 0.024821705911031257, 0.02493745039491958, 0.04032067287835835, 0.02493480321656016, 0.03191413967273909, 0.02488011573594904, 0.0451016168020786, 0.0395589519364633, 0.06235234626004155, 0.18390748004734292, 0.08244485909878521, 0.07176529252142155, 0.04946918991485413, 0.16266252185667, 0.06531311110958114, 0.07171028208406019, 0.07347293646992233, 0.22155619995275322, 0.24332644017335442, 0.0672094044535454, 0.13712905573596126, 0.0952147080695944, 0.858570183321569, 0.9019228163031336, 0.20957956024655575, 0.6044218919509536, 0.1101341658226415, 0.1120113028183545, 0.30088512296048797, 0.30799736306025527, 0.31401750634428055, 0.14750864538091454, 0.23846520859746823, 0.6666764372269655, 0.36890675238325993, 3.033471156129563, 1.5375274463549065, 2.004662365219488, 0.19339089198479636, 2.8919737095019857, 4.605587307108462, 0.6363893566189448, 0.4770100887921522, 0.4479612347173767, 1.508874125591971, 0.9444191465071763, 4.613645700378427, 3.070631501056372, 6.637988118188002, 14.33653954412539, 140.4328581251249, 4.394235883605604, 4.222897320937983, 17.080456594912288, 27.58383851533859, 15.405865209337462, 2.89824173034289, 16.96535295735177, 12.46076820748012, 12.489271592655179, 29.144954331276516, 6.709796065689812, 22.417254008913446, 37.75785272628717, 7.184206435187269, 12.157963108123276, 9.990905096976183, 19.52997513073594, 23.671740636303493, 35.49668729730983, 38.43993193882721, 30.38071933618646, 16.64253576764488, 17.705659978610118, 13.198860193049857, 13.02483661622795, 11.265527538805046, 14.949629796711415, 0.24852001514734032, 0.3723284717689783, 0.068621158717471, 0.11472710185857048, 0.032936979442297336, 0.040068238352665916, 0.03484024065967397, 0.030146923250701518, 0.2896330126601174, 0.05377416365124036, 0.029908684699608317, 0.035943845612585644, 0.020104807210014328, 0.02341989026112422, 0.03347823354059109, 0.04079193316843716, 0.09076031163283833, 0.021331846686637273, 0.024644405013066292, 0.03655385616482287, 0.014567752892286292, 0.02167208835628302, 0.021918467356760053, 0.05632160528667145, 0.016451758709404202, 0.018345494331798703, 0.01654834623826598, 0.03380321083666944, 0.01638511571167458, 0.01650549134710258, 0.033681475176818174, 0.3495064785648252, 0.06488654639496573, 0.03289685652176479, 0.02893139898797323, 0.2882806025014752, 0.0589172785496953, 0.09535725159299861, 0.17363759487743113, 0.1778407685357887, 0.9848648241183002, 0.04385346129686827, 0.262866563219062, 0.14696762023959287, 0.8492334014386662, 0.26571074209097684, 0.46605375886895906, 0.24934135554344242, 0.2321854581446692, 0.5794268454331883, 0.2112345958412485, 0.2081941820912442, 5.1421498631713325, 1.0279468686964157, 0.2503731396073247, 6.360999384049391, 1.521154918453132, 7.6923196209724445, 0.5577377091769564, 1.0565041866013112, 1.2509644686082677, 1.099985111332414, 0.9781124529377061, 0.5433689554432567, 1.3670055844507119, 0.781791846878851, 9.232095087998319, 10.676321650717401, 3.384190006528008, 1.5513079377092294, 1.6567136743325839, 140.4328581251249, 35.49668729730983, 2.9000353730271295, 4.755415234116503, 14.402065647037565, 8.295085348297752, 12.871500099943873, 30.38071933618646, 17.413632283428147, 8.465717450275354, 14.30389196500185, 37.75785272628717, 38.43993193882721, 29.144954331276516, 22.417254008913446, 16.96535295735177, 12.157963108123276, 12.612529267548632, 23.99485142459726, 32.34841386707168, 11.50749670377724, 27.58383851533859, 17.705659978610118, 16.64253576764488, 13.91494600289926, 15.407181856292706, 16.918493276654214, 0.01788559213312465, 0.022632139719507376, 0.0149272706385022, 0.013776577670825997, 0.02604510435495558, 0.009666277408668133, 0.009752417754075805, 0.010703492961300621, 0.010306418560632644, 0.023753901017592942, 0.010444956678806929, 0.01977805125144943, 0.007371297634767291, 0.02322043991259515, 0.012217953123350684, 0.010434861345705194, 0.008407713665278389, 0.015069596172610066, 0.01127959239126296, 0.015495218190875262, 0.01042823469349389, 0.008757088597690827, 0.009978157998454756, 0.011509091170034165, 0.04630542058421985, 0.02206418064394088, 0.01594975442978842, 0.00590954960725502, 0.010636760003905782, 0.008069035585323948, 0.12212121491624174, 0.013565594928771848, 0.05059219796831109, 0.23726431603679024, 0.06769307035961672, 0.17075728524415537, 1.3264243430862477, 0.10772638837153266, 0.02898066911921971, 0.043229283145145486, 0.3212808649462032, 0.0347174634970914, 0.21566192041908247, 0.07600063520161657, 0.20139469167191276, 0.03414361975486122, 0.02835169832696707, 0.04191279156584856, 0.34503287298662244, 0.26287409684735696, 0.5654811914557971, 0.5632216418503999, 0.3115828190801637, 0.8804138846853552, 0.13359467044647277, 0.12983168190067618, 0.12243289953854325, 1.8984526610116306, 0.14438982245193907, 1.1662178339626217, 2.2670404627492964, 0.39866768877930947, 0.5797226772023911, 16.96535295735177, 0.4704381744851916, 1.3566954373201763, 2.3170897455600357, 2.89824173034289, 2.8919737095019857, 9.976737055077287, 3.184372080015237, 2.3442890260468974, 7.715031444260055, 12.489271592655179, 1.4294524447005266, 9.68807554068278, 11.265527538805046, 5.580768943884465, 11.205471072807487, 13.93974649782216, 6.742754289546182, 38.43993193882721, 2.29606020106813, 29.144954331276516, 12.692121550918918, 9.384269989157994, 35.49668729730983, 19.52997513073594, 37.75785272628717, 27.58383851533859, 30.38071933618646, 140.4328581251249, 12.46076820748012, 9.061769875606052, 13.02483661622795, 10.532650893225096, 15.405865209337462, 13.198860193049857, 16.64253576764488, 25.822878735369873, 17.705659978610118, 23.671740636303493, 13.91494600289926, 22.417254008913446], \"Category\": [\"Default\", \"Default\", \"Default\", \"Default\", \"Default\", \"Default\", \"Default\", \"Default\", \"Default\", \"Default\", \"Default\", \"Default\", \"Default\", \"Default\", \"Default\", \"Default\", \"Default\", \"Default\", \"Default\", \"Default\", \"Default\", \"Default\", \"Default\", \"Default\", \"Default\", \"Default\", \"Default\", \"Default\", \"Default\", \"Default\", \"Topic1\", \"Topic1\", \"Topic1\", \"Topic1\", \"Topic1\", \"Topic1\", \"Topic1\", \"Topic1\", \"Topic1\", \"Topic1\", \"Topic1\", \"Topic1\", \"Topic1\", \"Topic1\", \"Topic1\", \"Topic1\", \"Topic1\", \"Topic1\", \"Topic1\", \"Topic1\", \"Topic1\", \"Topic1\", \"Topic1\", \"Topic1\", \"Topic1\", \"Topic1\", \"Topic1\", \"Topic1\", \"Topic1\", \"Topic1\", \"Topic1\", \"Topic1\", \"Topic1\", \"Topic1\", \"Topic1\", \"Topic1\", \"Topic1\", \"Topic1\", \"Topic1\", \"Topic1\", \"Topic1\", \"Topic1\", \"Topic1\", \"Topic1\", \"Topic1\", \"Topic1\", \"Topic1\", \"Topic1\", \"Topic1\", \"Topic1\", \"Topic1\", \"Topic1\", \"Topic1\", \"Topic1\", \"Topic1\", \"Topic1\", \"Topic1\", \"Topic1\", \"Topic1\", \"Topic1\", \"Topic1\", \"Topic1\", \"Topic1\", \"Topic1\", \"Topic1\", \"Topic1\", \"Topic1\", \"Topic1\", \"Topic1\", \"Topic1\", \"Topic1\", \"Topic1\", \"Topic1\", \"Topic1\", \"Topic1\", \"Topic1\", \"Topic1\", \"Topic1\", \"Topic1\", \"Topic1\", \"Topic1\", \"Topic1\", \"Topic1\", \"Topic1\", \"Topic1\", \"Topic1\", \"Topic1\", \"Topic1\", \"Topic1\", \"Topic1\", \"Topic1\", \"Topic1\", \"Topic1\", \"Topic1\", \"Topic1\", \"Topic1\", \"Topic1\", \"Topic1\", \"Topic1\", \"Topic1\", \"Topic2\", \"Topic2\", \"Topic2\", \"Topic2\", \"Topic2\", \"Topic2\", \"Topic2\", \"Topic2\", \"Topic2\", \"Topic2\", \"Topic2\", \"Topic2\", \"Topic2\", \"Topic2\", \"Topic2\", \"Topic2\", \"Topic2\", \"Topic2\", \"Topic2\", \"Topic2\", \"Topic2\", \"Topic2\", \"Topic2\", \"Topic2\", \"Topic2\", \"Topic2\", \"Topic2\", \"Topic2\", \"Topic2\", \"Topic2\", \"Topic2\", \"Topic2\", \"Topic2\", \"Topic2\", \"Topic2\", \"Topic2\", \"Topic2\", \"Topic2\", \"Topic2\", \"Topic2\", \"Topic2\", \"Topic2\", \"Topic2\", \"Topic2\", \"Topic2\", \"Topic2\", \"Topic2\", \"Topic2\", \"Topic2\", \"Topic2\", \"Topic2\", \"Topic2\", \"Topic2\", \"Topic2\", \"Topic2\", \"Topic2\", \"Topic2\", \"Topic2\", \"Topic2\", \"Topic2\", \"Topic2\", \"Topic2\", \"Topic2\", \"Topic2\", \"Topic2\", \"Topic2\", \"Topic2\", \"Topic2\", \"Topic2\", \"Topic2\", \"Topic2\", \"Topic2\", \"Topic2\", \"Topic2\", \"Topic2\", \"Topic2\", \"Topic2\", \"Topic2\", \"Topic2\", \"Topic2\", \"Topic2\", \"Topic2\", \"Topic2\", \"Topic2\", \"Topic2\", \"Topic2\", \"Topic2\", \"Topic2\", \"Topic2\", \"Topic2\", \"Topic2\", \"Topic2\", \"Topic2\", \"Topic2\", \"Topic2\", \"Topic2\", \"Topic3\", \"Topic3\", \"Topic3\", \"Topic3\", \"Topic3\", \"Topic3\", \"Topic3\", \"Topic3\", \"Topic3\", \"Topic3\", \"Topic3\", \"Topic3\", \"Topic3\", \"Topic3\", \"Topic3\", \"Topic3\", \"Topic3\", \"Topic3\", \"Topic3\", \"Topic3\", \"Topic3\", \"Topic3\", \"Topic3\", \"Topic3\", \"Topic3\", \"Topic3\", \"Topic3\", \"Topic3\", \"Topic3\", \"Topic3\", \"Topic3\", \"Topic3\", \"Topic3\", \"Topic3\", \"Topic3\", \"Topic3\", \"Topic3\", \"Topic3\", \"Topic3\", \"Topic3\", \"Topic3\", \"Topic3\", \"Topic3\", \"Topic3\", \"Topic3\", \"Topic3\", \"Topic3\", \"Topic3\", \"Topic3\", \"Topic3\", \"Topic3\", \"Topic3\", \"Topic3\", \"Topic3\", \"Topic3\", \"Topic3\", \"Topic3\", \"Topic3\", \"Topic3\", \"Topic3\", \"Topic3\", \"Topic3\", \"Topic3\", \"Topic3\", \"Topic3\", \"Topic3\", \"Topic3\", \"Topic3\", \"Topic3\", \"Topic3\", \"Topic3\", \"Topic3\", \"Topic3\", \"Topic3\", \"Topic3\", \"Topic3\", \"Topic3\", \"Topic3\", \"Topic3\", \"Topic3\", \"Topic3\", \"Topic3\", \"Topic3\", \"Topic3\", \"Topic3\", \"Topic3\", \"Topic3\", \"Topic3\", \"Topic3\", \"Topic3\", \"Topic3\", \"Topic3\", \"Topic3\", \"Topic3\", \"Topic3\", \"Topic3\", \"Topic3\", \"Topic3\", \"Topic3\", \"Topic3\", \"Topic3\", \"Topic3\", \"Topic3\", \"Topic3\", \"Topic4\", \"Topic4\", \"Topic4\", \"Topic4\", \"Topic4\", \"Topic4\", \"Topic4\", \"Topic4\", \"Topic4\", \"Topic4\", \"Topic4\", \"Topic4\", \"Topic4\", \"Topic4\", \"Topic4\", \"Topic4\", \"Topic4\", \"Topic4\", \"Topic4\", \"Topic4\", \"Topic4\", \"Topic4\", \"Topic4\", \"Topic4\", \"Topic4\", \"Topic4\", \"Topic4\", \"Topic4\", \"Topic4\", \"Topic4\", \"Topic4\", \"Topic4\", \"Topic4\", \"Topic4\", \"Topic4\", \"Topic4\", \"Topic4\", \"Topic4\", \"Topic4\", \"Topic4\", \"Topic4\", \"Topic4\", \"Topic4\", \"Topic4\", \"Topic4\", \"Topic4\", \"Topic4\", \"Topic4\", \"Topic4\", \"Topic4\", \"Topic4\", \"Topic4\", \"Topic4\", \"Topic4\", \"Topic4\", \"Topic4\", \"Topic4\", \"Topic4\", \"Topic4\", \"Topic4\", \"Topic4\", \"Topic4\", \"Topic4\", \"Topic4\", \"Topic4\", \"Topic4\", \"Topic4\", \"Topic4\", \"Topic4\", \"Topic4\", \"Topic4\", \"Topic4\", \"Topic4\", \"Topic4\", \"Topic4\", \"Topic4\", \"Topic4\", \"Topic4\", \"Topic4\", \"Topic4\", \"Topic4\", \"Topic4\", \"Topic4\", \"Topic4\", \"Topic4\", \"Topic4\", \"Topic4\", \"Topic4\", \"Topic4\", \"Topic5\", \"Topic5\", \"Topic5\", \"Topic5\", \"Topic5\", \"Topic5\", \"Topic5\", \"Topic5\", \"Topic5\", \"Topic5\", \"Topic5\", \"Topic5\", \"Topic5\", \"Topic5\", \"Topic5\", \"Topic5\", \"Topic5\", \"Topic5\", \"Topic5\", \"Topic5\", \"Topic5\", \"Topic5\", \"Topic5\", \"Topic5\", \"Topic5\", \"Topic5\", \"Topic5\", \"Topic5\", \"Topic5\", \"Topic5\", \"Topic5\", \"Topic5\", \"Topic5\", \"Topic5\", \"Topic5\", \"Topic5\", \"Topic5\", \"Topic5\", \"Topic5\", \"Topic5\", \"Topic5\", \"Topic5\", \"Topic5\", \"Topic5\", \"Topic5\", \"Topic5\", \"Topic5\", \"Topic5\", \"Topic5\", \"Topic5\", \"Topic5\", \"Topic5\", \"Topic5\", \"Topic5\", \"Topic5\", \"Topic5\", \"Topic5\", \"Topic5\", \"Topic5\", \"Topic5\", \"Topic5\", \"Topic5\", \"Topic5\", \"Topic5\", \"Topic5\", \"Topic5\", \"Topic5\", \"Topic5\", \"Topic5\", \"Topic5\", \"Topic5\", \"Topic5\", \"Topic5\", \"Topic5\", \"Topic5\", \"Topic5\", \"Topic5\", \"Topic5\", \"Topic5\", \"Topic5\", \"Topic5\", \"Topic5\", \"Topic5\", \"Topic5\", \"Topic5\", \"Topic5\", \"Topic5\", \"Topic5\", \"Topic5\", \"Topic5\", \"Topic5\", \"Topic5\", \"Topic5\", \"Topic5\", \"Topic5\", \"Topic5\", \"Topic5\", \"Topic6\", \"Topic6\", \"Topic6\", \"Topic6\", \"Topic6\", \"Topic6\", \"Topic6\", \"Topic6\", \"Topic6\", \"Topic6\", \"Topic6\", \"Topic6\", \"Topic6\", \"Topic6\", \"Topic6\", \"Topic6\", \"Topic6\", \"Topic6\", \"Topic6\", \"Topic6\", \"Topic6\", \"Topic6\", \"Topic6\", \"Topic6\", \"Topic6\", \"Topic6\", \"Topic6\", \"Topic6\", \"Topic6\", \"Topic6\", \"Topic6\", \"Topic6\", \"Topic6\", \"Topic6\", \"Topic6\", \"Topic6\", \"Topic6\", \"Topic6\", \"Topic6\", \"Topic6\", \"Topic6\", \"Topic6\", \"Topic6\", \"Topic6\", \"Topic6\", \"Topic6\", \"Topic6\", \"Topic6\", \"Topic6\", \"Topic6\", \"Topic6\", \"Topic6\", \"Topic6\", \"Topic6\", \"Topic6\", \"Topic6\", \"Topic6\", \"Topic6\", \"Topic6\", \"Topic6\", \"Topic6\", \"Topic6\", \"Topic6\", \"Topic6\", \"Topic6\", \"Topic6\", \"Topic6\", \"Topic6\", \"Topic6\", \"Topic6\", \"Topic6\", \"Topic6\", \"Topic6\", \"Topic6\", \"Topic6\", \"Topic6\", \"Topic6\", \"Topic6\", \"Topic6\", \"Topic6\", \"Topic6\", \"Topic6\", \"Topic6\", \"Topic6\", \"Topic6\", \"Topic6\", \"Topic6\", \"Topic6\", \"Topic6\", \"Topic6\", \"Topic6\", \"Topic6\", \"Topic6\", \"Topic6\", \"Topic7\", \"Topic7\", \"Topic7\", \"Topic7\", \"Topic7\", \"Topic7\", \"Topic7\", \"Topic7\", \"Topic7\", \"Topic7\", \"Topic7\", \"Topic7\", \"Topic7\", \"Topic7\", \"Topic7\", \"Topic7\", \"Topic7\", \"Topic7\", \"Topic7\", \"Topic7\", \"Topic7\", \"Topic7\", \"Topic7\", \"Topic7\", \"Topic7\", \"Topic7\", \"Topic7\", \"Topic7\", \"Topic7\", \"Topic7\", \"Topic7\", \"Topic7\", \"Topic7\", \"Topic7\", \"Topic7\", \"Topic7\", \"Topic7\", \"Topic7\", \"Topic7\", \"Topic7\", \"Topic7\", \"Topic7\", \"Topic7\", \"Topic7\", \"Topic7\", \"Topic7\", \"Topic7\", \"Topic7\", \"Topic7\", \"Topic7\", \"Topic7\", \"Topic7\", \"Topic7\", \"Topic7\", \"Topic7\", \"Topic7\", \"Topic7\", \"Topic7\", \"Topic7\", \"Topic7\", \"Topic7\", \"Topic7\", \"Topic7\", \"Topic7\", \"Topic7\", \"Topic7\", \"Topic7\", \"Topic7\", \"Topic7\", \"Topic7\", \"Topic7\", \"Topic7\", \"Topic7\", \"Topic7\", \"Topic7\", \"Topic7\", \"Topic7\", \"Topic7\", \"Topic7\", \"Topic7\", \"Topic7\", \"Topic7\", \"Topic7\", \"Topic7\", \"Topic7\", \"Topic7\", \"Topic7\", \"Topic7\", \"Topic7\", \"Topic7\", \"Topic7\", \"Topic7\", \"Topic7\", \"Topic7\", \"Topic7\", \"Topic7\", \"Topic7\", \"Topic7\", \"Topic7\", \"Topic7\", \"Topic7\", \"Topic7\", \"Topic8\", \"Topic8\", \"Topic8\", \"Topic8\", \"Topic8\", \"Topic8\", \"Topic8\", \"Topic8\", \"Topic8\", \"Topic8\", \"Topic8\", \"Topic8\", \"Topic8\", \"Topic8\", \"Topic8\", \"Topic8\", \"Topic8\", \"Topic8\", \"Topic8\", \"Topic8\", \"Topic8\", \"Topic8\", \"Topic8\", \"Topic8\", \"Topic8\", \"Topic8\", \"Topic8\", \"Topic8\", \"Topic8\", \"Topic8\", \"Topic8\", \"Topic8\", \"Topic8\", \"Topic8\", \"Topic8\", \"Topic8\", \"Topic8\", \"Topic8\", \"Topic8\", \"Topic8\", \"Topic8\", \"Topic8\", \"Topic8\", \"Topic8\", \"Topic8\", \"Topic8\", \"Topic8\", \"Topic8\", \"Topic8\", \"Topic8\", \"Topic8\", \"Topic8\", \"Topic8\", \"Topic8\", \"Topic8\", \"Topic8\", \"Topic8\", \"Topic8\", \"Topic8\", \"Topic8\", \"Topic8\", \"Topic8\", \"Topic8\", \"Topic8\", \"Topic8\", \"Topic8\", \"Topic8\", \"Topic8\", \"Topic8\", \"Topic8\", \"Topic8\", \"Topic8\", \"Topic8\", \"Topic8\", \"Topic8\", \"Topic8\", \"Topic8\", \"Topic8\", \"Topic8\", \"Topic8\", \"Topic8\", \"Topic8\", \"Topic8\", \"Topic8\", \"Topic8\", \"Topic8\", \"Topic8\", \"Topic8\", \"Topic8\", \"Topic8\", \"Topic8\", \"Topic8\", \"Topic8\", \"Topic8\", \"Topic8\", \"Topic8\", \"Topic8\", \"Topic8\", \"Topic8\", \"Topic8\", \"Topic8\", \"Topic8\", \"Topic9\", \"Topic9\", \"Topic9\", \"Topic9\", \"Topic9\", \"Topic9\", \"Topic9\", \"Topic9\", \"Topic9\", \"Topic9\", \"Topic9\", \"Topic9\", \"Topic9\", \"Topic9\", \"Topic9\", \"Topic9\", \"Topic9\", \"Topic9\", \"Topic9\", \"Topic9\", \"Topic9\", \"Topic9\", \"Topic9\", \"Topic9\", \"Topic9\", \"Topic9\", \"Topic9\", \"Topic9\", \"Topic9\", \"Topic9\", \"Topic9\", \"Topic9\", \"Topic9\", \"Topic9\", \"Topic9\", \"Topic9\", \"Topic9\", \"Topic9\", \"Topic9\", \"Topic9\", \"Topic9\", \"Topic9\", \"Topic9\", \"Topic9\", \"Topic9\", \"Topic9\", \"Topic9\", \"Topic9\", \"Topic9\", \"Topic9\", \"Topic9\", \"Topic9\", \"Topic9\", \"Topic9\", \"Topic9\", \"Topic9\", \"Topic9\", \"Topic9\", \"Topic9\", \"Topic9\", \"Topic9\", \"Topic9\", \"Topic9\", \"Topic9\", \"Topic9\", \"Topic9\", \"Topic9\", \"Topic9\", \"Topic9\", \"Topic9\", \"Topic9\", \"Topic9\", \"Topic9\", \"Topic9\", \"Topic9\", \"Topic9\", \"Topic9\", \"Topic9\", \"Topic9\", \"Topic9\", \"Topic9\", \"Topic9\", \"Topic9\", \"Topic9\", \"Topic9\", \"Topic9\", \"Topic9\", \"Topic9\", \"Topic9\", \"Topic9\", \"Topic9\", \"Topic9\", \"Topic9\", \"Topic9\", \"Topic9\", \"Topic9\", \"Topic9\", \"Topic9\", \"Topic10\", \"Topic10\", \"Topic10\", \"Topic10\", \"Topic10\", \"Topic10\", \"Topic10\", \"Topic10\", \"Topic10\", \"Topic10\", \"Topic10\", \"Topic10\", \"Topic10\", \"Topic10\", \"Topic10\", \"Topic10\", \"Topic10\", \"Topic10\", \"Topic10\", \"Topic10\", \"Topic10\", \"Topic10\", \"Topic10\", \"Topic10\", \"Topic10\", \"Topic10\", \"Topic10\", \"Topic10\", \"Topic10\", \"Topic10\", \"Topic10\", \"Topic10\", \"Topic10\", \"Topic10\", \"Topic10\", \"Topic10\", \"Topic10\", \"Topic10\", \"Topic10\", \"Topic10\", \"Topic10\", \"Topic10\", \"Topic10\", \"Topic10\", \"Topic10\", \"Topic10\", \"Topic10\", \"Topic10\", \"Topic10\", \"Topic10\", \"Topic10\", \"Topic10\", \"Topic10\", \"Topic10\", \"Topic10\", \"Topic10\", \"Topic10\", \"Topic10\", \"Topic10\", \"Topic10\", \"Topic10\", \"Topic10\", \"Topic10\", \"Topic10\", \"Topic10\", \"Topic10\", \"Topic10\", \"Topic10\", \"Topic10\", \"Topic10\", \"Topic10\", \"Topic10\", \"Topic10\", \"Topic10\", \"Topic10\", \"Topic10\", \"Topic10\", \"Topic10\", \"Topic10\", \"Topic10\", \"Topic10\", \"Topic10\", \"Topic10\", \"Topic10\", \"Topic10\", \"Topic10\", \"Topic10\", \"Topic10\", \"Topic10\", \"Topic10\", \"Topic10\", \"Topic10\", \"Topic10\", \"Topic10\", \"Topic10\", \"Topic10\", \"Topic10\", \"Topic10\", \"Topic10\", \"Topic10\", \"Topic10\", \"Topic10\", \"Topic10\", \"Topic10\"], \"logprob\": [30.0, 29.0, 28.0, 27.0, 26.0, 25.0, 24.0, 23.0, 22.0, 21.0, 20.0, 19.0, 18.0, 17.0, 16.0, 15.0, 14.0, 13.0, 12.0, 11.0, 10.0, 9.0, 8.0, 7.0, 6.0, 5.0, 4.0, 3.0, 2.0, 1.0, -9.8397, -9.8316, -10.0735, -10.1355, -9.7575, -10.0508, -10.4192, -9.6569, -10.3493, -10.0639, -10.2355, -10.1975, -10.0758, -9.8907, -10.4501, -9.4795, -10.4727, -9.0836, -9.9523, -10.2739, -10.5985, -10.2724, -10.2741, -10.8824, -10.2735, -10.182, -10.4919, -9.6512, -10.0414, -10.8369, -7.5275, -9.3585, -9.5478, -8.2819, -9.8073, -8.3441, -9.938, -6.8865, -8.0016, -9.3785, -8.6953, -6.3735, -7.5131, -8.1634, -8.27, -7.8911, -8.4354, -5.5585, -8.1796, -6.6276, -8.2689, -9.108, -4.6262, -5.2439, -6.821, -7.8871, -6.3132, -5.9077, -7.6233, -7.0031, -8.1976, -8.3959, -7.3976, -6.0153, -7.2054, -7.4701, -6.5867, -6.1769, -6.9664, -6.3772, -5.6373, -6.711, -6.4916, -6.5657, -6.1933, -6.1388, -6.2068, -3.7685, -5.6582, -5.606, -6.7316, -6.2074, -6.8431, -6.2998, -5.8184, -5.5648, -5.8785, -6.0326, -5.7641, -5.5673, -5.4728, -5.9565, -6.0074, -5.8051, -5.8038, -5.727, -5.8449, -5.8007, -6.0484, -6.2006, -8.3356, -9.2646, -9.358, -9.9909, -9.1605, -10.3944, -9.9584, -10.2277, -8.6878, -10.5157, -10.7322, -9.5244, -9.5987, -9.3328, -10.915, -10.3272, -10.2992, -11.0087, -9.369, -10.3677, -10.5703, -9.7695, -11.0488, -9.2968, -11.0164, -11.385, -10.3552, -11.2693, -11.0244, -10.4225, -6.7542, -7.2777, -9.7584, -9.3488, -9.7619, -7.6487, -8.8069, -9.2242, -6.1889, -5.254, -8.2472, -6.4235, -9.2917, -9.3676, -6.8764, -7.9524, -7.532, -7.002, -8.3268, -6.4344, -7.3216, -8.2626, -6.3058, -5.9822, -7.2316, -7.8652, -6.204, -4.886, -6.1635, -6.5269, -6.443, -6.2106, -4.8944, -5.8649, -7.3187, -6.9083, -6.2569, -7.3096, -7.1269, -7.5337, -5.9952, -6.018, -6.2549, -5.5932, -5.4404, -6.1374, -6.2953, -5.6837, -6.5259, -6.3278, -6.1015, -5.0373, -5.646, -4.2641, -5.2208, -6.0565, -6.1226, -5.6908, -5.579, -5.7833, -5.6941, -5.8299, -5.9198, -6.0521, -6.0658, -6.1866, -9.2908, -9.4371, -9.8547, -9.5166, -9.4281, -9.7456, -9.8235, -8.673, -9.738, -10.1154, -8.911, -10.1136, -9.8535, -10.2232, -8.0275, -10.2619, -9.9065, -9.7629, -9.6951, -8.8997, -9.2759, -10.3098, -9.5601, -8.8899, -9.6, -9.5134, -8.9111, -10.481, -10.3117, -9.6277, -9.5782, -8.5536, -8.9392, -8.6014, -8.5249, -7.9627, -6.309, -7.9707, -6.7929, -9.2924, -8.6951, -8.5601, -7.7399, -7.8728, -8.8189, -8.993, -8.82, -7.495, -8.3979, -7.979, -6.8107, -8.0035, -8.398, -8.439, -7.9292, -6.5064, -7.1288, -6.7418, -7.2896, -5.9557, -6.4095, -7.9216, -6.8706, -7.0094, -8.042, -7.1759, -8.1105, -6.9361, -5.9191, -7.778, -6.4524, -7.7402, -7.4415, -6.3904, -5.8846, -6.6387, -5.8787, -6.9937, -5.9224, -6.2625, -7.1493, -6.9213, -7.094, -7.0541, -5.3009, -6.1628, -5.8143, -6.2185, -6.1677, -5.9089, -5.9703, -5.8659, -5.6742, -5.7152, -5.8113, -5.2123, -5.9218, -5.8425, -6.3229, -6.1187, -6.3389, -6.3787, -6.4311, -6.466, -7.9234, -9.1947, -7.4098, -9.0113, -9.3897, -8.439, -7.9448, -9.9285, -9.1502, -9.6482, -10.0677, -10.2153, -9.6449, -10.0868, -10.5026, -10.1733, -10.0491, -9.693, -10.083, -10.0141, -10.2954, -10.5095, -8.5685, -10.0152, -9.5175, -10.551, -10.1967, -10.566, -10.4062, -10.1188, -8.4597, -8.2822, -8.5446, -8.9639, -5.7134, -6.8008, -6.8527, -5.909, -9.0546, -7.2403, -6.7297, -5.2372, -7.9843, -7.6007, -8.4512, -8.0296, -7.3421, -9.012, -7.8067, -7.4086, -7.7238, -7.6015, -8.1387, -5.052, -7.5504, -7.3402, -7.2057, -5.2322, -6.5569, -6.3878, -5.8503, -7.5263, -6.8038, -5.953, -4.3975, -6.7506, -6.7049, -6.1058, -5.6037, -5.4512, -5.8635, -6.0178, -5.6039, -6.0281, -6.3309, -5.7535, -5.8023, -6.029, -6.197, -6.1393, -5.8607, -5.8983, -6.0694, -6.1973, -6.2592, -6.3498, -6.3615, -6.3767, -6.3461, -9.8125, -10.0899, -9.8657, -10.0587, -9.7008, -10.4748, -10.5208, -10.6588, -9.6979, -10.3395, -10.0303, -8.363, -9.8942, -10.5322, -9.9887, -10.6785, -10.2733, -10.5899, -10.4624, -10.046, -10.7692, -10.8922, -9.9812, -10.3613, -11.1181, -11.1119, -10.2896, -10.6173, -11.1291, -11.2677, -9.0958, -8.9831, -9.339, -8.608, -9.018, -9.7744, -7.1367, -7.9816, -9.7153, -6.061, -7.2662, -8.9754, -7.8422, -7.6755, -8.717, -6.0669, -5.8559, -8.6004, -6.7856, -8.7757, -8.3983, -8.9552, -7.548, -7.0295, -6.8068, -8.0631, -6.5255, -6.513, -6.6464, -5.8625, -6.61, -6.3164, -5.9574, -6.9195, -3.7462, -6.4175, -6.5786, -7.2514, -6.7739, -7.3865, -5.7227, -6.4942, -7.3478, -5.3158, -5.6975, -5.3284, -6.3613, -6.4531, -6.3363, -5.7265, -5.976, -5.9974, -5.8898, -5.7496, -6.2541, -5.9007, -6.0365, -6.2375, -6.2042, -6.1655, -6.2377, -6.0838, -6.2498, -6.3101, -6.2838, -6.2854, -6.3494, -9.4924, -9.2641, -9.3234, -9.9404, -9.0117, -9.354, -10.4345, -8.7276, -6.6771, -10.0736, -10.644, -10.1219, -10.3936, -10.6636, -10.5657, -10.4747, -8.4532, -10.6138, -10.3096, -10.7198, -9.5305, -9.0476, -11.0877, -10.3091, -10.6589, -11.0692, -11.0747, -11.1132, -11.0602, -10.6504, -7.728, -7.2041, -9.7644, -7.7103, -9.6058, -7.4258, -8.5502, -8.7974, -8.3604, -9.464, -6.237, -7.4884, -6.8553, -8.8562, -8.6649, -7.5834, -7.9251, -8.3091, -6.4821, -6.5739, -7.2648, -8.2565, -7.2016, -7.1547, -6.2284, -7.6497, -6.8719, -5.9064, -6.2584, -6.5076, -4.7451, -7.1683, -7.3009, -7.2906, -5.8324, -5.4558, -5.4454, -5.783, -4.2819, -6.5791, -6.0053, -5.7495, -6.1646, -6.1438, -5.7145, -5.6023, -6.018, -5.4487, -5.6514, -5.6426, -6.2134, -6.3359, -6.2155, -5.8071, -6.1492, -6.0468, -6.0051, -6.1556, -6.0747, -6.2657, -6.2227, -6.1694, -6.1416, -6.2036, -8.767, -8.8248, -9.5495, -9.6497, -8.2585, -9.8143, -9.939, -9.4713, -9.7847, -10.0981, -8.984, -9.7809, -9.983, -8.507, -9.2265, -10.241, -9.3934, -8.674, -9.9894, -9.6534, -10.1982, -8.3188, -9.7707, -9.3164, -9.517, -10.4661, -9.9797, -10.0573, -10.565, -9.7532, -9.0778, -8.4678, -9.9475, -7.3491, -9.2326, -7.0452, -8.8132, -9.1059, -8.4243, -7.6304, -8.7187, -9.3644, -8.0701, -7.333, -8.6264, -8.6833, -8.6919, -8.2408, -7.2531, -7.1351, -5.8124, -8.0011, -8.0121, -8.1767, -5.832, -5.8529, -5.0247, -6.9447, -8.137, -6.2398, -6.7418, -7.8101, -6.741, -6.6262, -5.8156, -6.5714, -7.6958, -6.99, -6.0045, -7.2592, -6.7101, -5.9205, -5.7932, -6.3318, -5.6438, -6.2877, -5.947, -7.4614, -6.6131, -6.9486, -6.4895, -6.3405, -6.3691, -6.5823, -5.4911, -6.2857, -5.6187, -5.9727, -5.9293, -5.6521, -5.6097, -6.3255, -6.1749, -6.0229, -6.0328, -5.9284, -5.852, -6.1977, -5.6119, -6.1691, -6.0398, -6.1721, -9.6059, -9.8261, -9.7863, -9.8161, -9.4917, -9.157, -10.0792, -10.0051, -10.3317, -9.1739, -9.7578, -10.187, -8.0178, -8.3725, -9.9713, -10.4046, -9.9781, -9.7484, -9.8681, -10.564, -8.6675, -10.6365, -10.4486, -10.2936, -9.9828, -9.9795, -9.4991, -9.9811, -9.7388, -9.9879, -9.4048, -9.5339, -9.0954, -8.0522, -8.831, -8.9651, -9.3239, -8.2297, -9.0793, -8.9925, -8.972, -7.9624, -7.8906, -9.0762, -8.4352, -8.7678, -6.8904, -6.8607, -8.1214, -7.2399, -8.6772, -8.6666, -7.8475, -7.8606, -7.853, -8.4578, -8.0861, -7.2857, -7.757, -6.1525, -6.6747, -6.4949, -8.2717, -6.3507, -6.0303, -7.4398, -7.6443, -7.726, -6.9176, -7.2458, -6.2326, -6.5601, -6.1202, -5.6706, -4.3899, -6.412, -6.4421, -5.6893, -5.4378, -5.7707, -6.6734, -5.8062, -5.9908, -6.0278, -5.6226, -6.3314, -5.7645, -5.5414, -6.313, -6.0866, -6.1876, -5.9665, -5.9239, -5.7861, -5.7622, -5.9106, -6.13, -6.1842, -6.2461, -6.28, -6.3263, -6.3305, -7.5915, -7.1912, -8.8982, -8.3921, -9.6463, -9.4508, -9.6003, -9.7458, -7.4871, -9.1723, -9.761, -9.5793, -10.1605, -10.0084, -9.6511, -9.4575, -8.6602, -10.109, -9.9669, -9.5783, -10.4987, -10.1022, -10.0916, -9.1481, -10.3831, -10.2754, -10.3807, -9.6703, -10.3972, -10.3905, -9.6833, -7.3802, -9.0435, -9.7084, -9.8384, -7.6486, -9.1598, -8.703, -8.1404, -8.1325, -6.5433, -9.4407, -7.8154, -8.3496, -6.7873, -7.8282, -7.3324, -7.9111, -7.9959, -7.2201, -8.0928, -8.108, -5.4679, -6.7954, -7.9777, -5.3951, -6.5597, -5.4125, -7.408, -6.9481, -6.8259, -6.9207, -7.0364, -7.46, -6.8458, -7.27, -5.8194, -5.8604, -6.5008, -6.9395, -6.9332, -4.6913, -5.5017, -6.6886, -6.4924, -6.0119, -6.2496, -6.1383, -5.8143, -6.0612, -6.3442, -6.171, -5.8692, -5.8884, -5.9992, -6.125, -6.2185, -6.3113, -6.3147, -6.1995, -6.1358, -6.3797, -6.205, -6.4144, -6.4329, -6.4489, -6.4576, -6.4574, -10.2856, -10.0509, -10.4791, -10.5723, -9.9453, -10.944, -10.9385, -10.849, -10.8879, -10.0534, -10.8756, -10.247, -11.2372, -10.09, -10.7356, -10.8972, -11.1161, -10.5331, -10.8261, -10.5122, -10.91, -11.0866, -10.9583, -10.8217, -9.4317, -10.1734, -10.4988, -11.4941, -10.9086, -11.1876, -8.4736, -10.6711, -9.3776, -7.8701, -9.1044, -8.2632, -6.3738, -8.7229, -9.954, -9.5894, -7.7509, -9.7956, -8.1437, -9.0851, -8.2122, -9.821, -9.9888, -9.6457, -7.7939, -8.0356, -7.4353, -7.4681, -7.9833, -7.1222, -8.6874, -8.716, -8.7894, -6.5996, -8.6652, -7.0256, -6.5428, -7.892, -7.6167, -5.1987, -7.8457, -7.0843, -6.709, -6.5667, -6.6011, -5.7987, -6.5659, -6.7719, -5.9804, -5.6807, -7.1148, -5.9168, -5.8306, -6.3036, -5.9199, -5.8107, -6.2256, -5.2788, -6.8593, -5.4954, -5.9419, -6.1172, -5.4528, -5.7558, -5.4906, -5.6731, -5.6701, -5.0214, -6.0938, -6.2284, -6.1048, -6.2236, -6.1208, -6.1796, -6.1176, -6.0264, -6.1493, -6.1619, -6.2401, -6.2369], \"loglift\": [30.0, 29.0, 28.0, 27.0, 26.0, 25.0, 24.0, 23.0, 22.0, 21.0, 20.0, 19.0, 18.0, 17.0, 16.0, 15.0, 14.0, 13.0, 12.0, 11.0, 10.0, 9.0, 8.0, 7.0, 6.0, 5.0, 4.0, 3.0, 2.0, 1.0, 1.3575, 1.3575, 1.3568, 1.3567, 1.3564, 1.3555, 1.3555, 1.355, 1.3541, 1.354, 1.3537, 1.3536, 1.3535, 1.3533, 1.3528, 1.3525, 1.3523, 1.3522, 1.352, 1.3506, 1.35, 1.3497, 1.3486, 1.347, 1.3465, 1.3463, 1.3462, 1.346, 1.3456, 1.3453, 1.3296, 1.3447, 1.3393, 1.3223, 1.3413, 1.3114, 1.3427, 1.2564, 1.2863, 1.3281, 1.3054, 1.2123, 1.2534, 1.28, 1.2776, 1.2617, 1.2823, 1.1415, 1.265, 1.1831, 1.2653, 1.3085, 1.0652, 1.0897, 1.1768, 1.235, 1.1264, 1.0864, 1.2129, 1.1656, 1.2517, 1.2633, 1.188, 1.0797, 1.1637, 1.1862, 1.0992, 1.0418, 1.1245, 1.0577, 0.9601, 1.0911, 1.0616, 1.0646, 1.0137, 0.9694, 0.9451, 0.4548, 0.8052, 0.7549, 0.9954, 0.845, 1.0139, 0.8109, 0.6127, 0.4934, 0.6268, 0.6924, 0.566, 0.3753, 0.1258, 0.4768, 0.3593, 0.0457, -0.008, -0.1901, -0.0907, -0.2817, -0.0446, 0.4486, 1.4263, 1.421, 1.4209, 1.4186, 1.4165, 1.4147, 1.4126, 1.4103, 1.4089, 1.4088, 1.4067, 1.4054, 1.4053, 1.4035, 1.4017, 1.4009, 1.3983, 1.3983, 1.3976, 1.3973, 1.397, 1.3968, 1.3966, 1.396, 1.3957, 1.3954, 1.3951, 1.3949, 1.3947, 1.3946, 1.3663, 1.3712, 1.3945, 1.3847, 1.3881, 1.3662, 1.375, 1.3768, 1.2887, 1.2581, 1.3439, 1.2857, 1.3691, 1.3712, 1.2862, 1.3269, 1.3074, 1.2847, 1.3349, 1.2392, 1.2806, 1.3222, 1.2079, 1.1834, 1.2607, 1.2992, 1.1908, 1.1042, 1.1825, 1.2038, 1.1815, 1.1482, 1.0223, 1.109, 1.2342, 1.1844, 1.1103, 1.2209, 1.192, 1.2513, 1.0208, 1.0164, 1.0352, 0.9143, 0.8673, 1.0035, 1.0068, 0.817, 1.0478, 0.9598, 0.8762, 0.4816, 0.6648, -0.0408, 0.316, 0.7068, 0.7549, 0.2518, 0.0196, 0.2204, 0.0601, -0.0341, -0.069, 0.2875, 0.2284, 0.0095, 2.279, 2.279, 2.2769, 2.2748, 2.2746, 2.2724, 2.2719, 2.2716, 2.27, 2.27, 2.2697, 2.2695, 2.2683, 2.2682, 2.2678, 2.2676, 2.2671, 2.2662, 2.266, 2.2653, 2.2653, 2.2652, 2.2652, 2.2644, 2.2634, 2.262, 2.2614, 2.2614, 2.2613, 2.261, 2.2598, 2.2479, 2.2516, 2.2464, 2.2407, 2.2265, 2.1888, 2.2112, 2.1745, 2.2518, 2.2316, 2.2203, 2.1799, 2.1776, 2.2245, 2.2327, 2.2226, 2.1508, 2.1979, 2.1583, 2.0521, 2.1503, 2.1843, 2.1863, 2.1352, 1.9906, 2.0431, 1.9994, 2.0458, 1.8569, 1.908, 2.1134, 1.9529, 1.9706, 2.1307, 1.9845, 2.1371, 1.9259, 1.68, 2.0682, 1.7402, 2.0487, 1.9411, 1.5768, 1.3986, 1.6417, 1.1632, 1.6807, 1.139, 1.2723, 1.742, 1.5184, 1.6009, 1.5643, 0.236, 0.8382, 0.5418, 0.8135, 0.7356, 0.428, 0.4609, 0.3302, 0.08, 0.0806, 0.0395, -0.989, 0.0819, -0.3236, 0.4771, -0.5201, 0.2881, 0.1563, 0.3949, 0.498, 2.6883, 2.6872, 2.686, 2.6831, 2.6816, 2.6721, 2.6706, 2.6687, 2.6619, 2.6615, 2.6607, 2.6602, 2.6561, 2.6557, 2.6544, 2.6534, 2.6476, 2.6469, 2.6455, 2.6446, 2.6438, 2.6432, 2.6357, 2.6327, 2.6324, 2.6306, 2.6291, 2.6284, 2.6276, 2.6245, 2.6194, 2.6163, 2.6164, 2.6037, 2.5358, 2.5556, 2.5391, 2.4986, 2.6038, 2.5257, 2.4987, 2.4192, 2.5496, 2.5081, 2.5606, 2.5261, 2.465, 2.5928, 2.4698, 2.4219, 2.4504, 2.404, 2.4711, 1.8656, 2.2929, 2.2415, 2.1887, 1.5304, 1.8729, 1.6824, 1.2496, 2.1023, 1.6303, 0.9948, -0.1742, 1.4314, 1.369, 0.7688, 0.2472, 0.0857, 0.5032, 0.6523, 0.0876, 0.5693, 0.9095, 0.0007, -0.0065, 0.3271, 0.5559, 0.2216, -0.3417, -0.2997, -0.0112, 0.1396, 0.0349, 0.0834, 0.1093, 0.2096, -0.15, 2.7149, 2.7075, 2.6956, 2.695, 2.6948, 2.6941, 2.6913, 2.6794, 2.6789, 2.6773, 2.6772, 2.6763, 2.6707, 2.67, 2.6677, 2.6667, 2.6662, 2.6658, 2.6641, 2.6611, 2.6596, 2.6584, 2.6555, 2.6466, 2.6456, 2.6424, 2.6422, 2.6414, 2.6402, 2.637, 2.6293, 2.621, 2.6182, 2.5857, 2.5977, 2.6159, 2.4782, 2.5098, 2.6067, 2.3577, 2.4323, 2.555, 2.4528, 2.4332, 2.5237, 2.2709, 2.2381, 2.4771, 2.2119, 2.4823, 2.4198, 2.5024, 2.2202, 2.1197, 2.0685, 2.3029, 1.9805, 1.9053, 1.9035, 1.6656, 1.8597, 1.592, 1.4304, 1.7645, 0.4771, 1.5181, 1.5858, 1.7899, 1.5114, 1.8333, 0.8903, 1.2908, 1.807, 0.3757, 0.6326, 0.2702, 1.0654, 1.0193, 0.8899, 0.1243, 0.3637, 0.3692, 0.1684, -0.2306, 0.6659, -0.1464, -0.0327, 0.4009, 0.2665, 0.1287, 0.3597, -0.288, 0.3381, 0.1231, -0.3412, -0.7485, 0.2998, 2.7691, 2.7643, 2.7629, 2.7558, 2.7405, 2.7394, 2.7374, 2.723, 2.7195, 2.718, 2.7162, 2.7161, 2.7114, 2.7113, 2.7073, 2.7041, 2.7031, 2.7023, 2.7004, 2.6998, 2.6987, 2.6954, 2.694, 2.6918, 2.6878, 2.6854, 2.6831, 2.6831, 2.6824, 2.6782, 2.6628, 2.6479, 2.6711, 2.6268, 2.6631, 2.6079, 2.64, 2.634, 2.6132, 2.6486, 2.4687, 2.5335, 2.492, 2.6054, 2.587, 2.4911, 2.4981, 2.5186, 2.3055, 2.3057, 2.374, 2.4721, 2.2859, 2.2314, 2.0248, 2.3194, 2.0576, 1.68, 1.7927, 1.8689, 1.1717, 2.0144, 2.0282, 1.9692, 1.1582, 0.8838, 0.8654, 0.9796, -0.0586, 1.448, 0.9767, 0.7511, 1.0924, 1.0642, 0.5931, 0.3879, 0.7453, 0.0703, 0.2912, 0.1117, 0.9053, 0.941, 0.7299, -0.2085, 0.4842, 0.1493, -0.2094, 0.3152, -0.0709, 0.6519, 0.2105, -0.3186, -0.6048, -0.1453, 2.8236, 2.8188, 2.8161, 2.8078, 2.8068, 2.806, 2.7992, 2.7988, 2.7949, 2.7941, 2.7929, 2.7924, 2.7919, 2.7914, 2.7914, 2.789, 2.7884, 2.7872, 2.7865, 2.7836, 2.7818, 2.7818, 2.7809, 2.7806, 2.7804, 2.78, 2.779, 2.7784, 2.7777, 2.7773, 2.7711, 2.7618, 2.7762, 2.7222, 2.7602, 2.6834, 2.7396, 2.7503, 2.7184, 2.664, 2.7181, 2.7564, 2.6706, 2.6136, 2.7073, 2.704, 2.7045, 2.6549, 2.5372, 2.5032, 2.3106, 2.5842, 2.5797, 2.6054, 2.2161, 2.2043, 2.0367, 2.3812, 2.5863, 2.1676, 2.2655, 2.4955, 2.1981, 2.1308, 1.8857, 1.9877, 2.4094, 2.1218, 1.7028, 2.2207, 1.9731, 1.6143, 1.5501, 1.7807, 1.4284, 1.6795, 1.4854, 2.3052, 1.7774, 1.9761, 1.6709, 1.498, 1.4995, 1.63, 0.1075, 1.1757, 0.1771, 0.6606, 0.5759, 0.1022, -0.0729, 1.1387, 0.8029, 0.4082, 0.4005, 0.0753, -0.3331, 0.7056, -1.3886, 0.556, -0.0973, 0.1888, 2.9316, 2.9292, 2.9151, 2.908, 2.9056, 2.9009, 2.9002, 2.899, 2.8976, 2.8931, 2.8917, 2.8912, 2.8896, 2.8895, 2.8892, 2.8891, 2.8859, 2.885, 2.8846, 2.8845, 2.8844, 2.8843, 2.8842, 2.8827, 2.8812, 2.88, 2.8799, 2.8784, 2.874, 2.8738, 2.8621, 2.8642, 2.8476, 2.8092, 2.8327, 2.8373, 2.8506, 2.7544, 2.8173, 2.8107, 2.8069, 2.7127, 2.6908, 2.7918, 2.7197, 2.7519, 2.4301, 2.4106, 2.6093, 2.4316, 2.6969, 2.6906, 2.5215, 2.4851, 2.4733, 2.6241, 2.5155, 2.2878, 2.4082, 1.9058, 2.0631, 1.9777, 2.5394, 1.7554, 1.6105, 2.1802, 2.2639, 2.2451, 1.8391, 1.9795, 1.4064, 1.486, 1.1551, 0.8346, -0.1666, 1.2757, 1.2855, 0.6408, 0.413, 0.6626, 1.4306, 0.5307, 0.6547, 0.6153, 0.1732, 0.9331, 0.2937, -0.0046, 0.8832, 0.5835, 0.6787, 0.2296, 0.0799, -0.1875, -0.2432, -0.1564, 0.2261, 0.1099, 0.3418, 0.3212, 0.42, 0.1328, 2.9688, 2.9648, 2.949, 2.9412, 2.9349, 2.9344, 2.9247, 2.9239, 2.9201, 2.9187, 2.9166, 2.9146, 2.9143, 2.9138, 2.9138, 2.9099, 2.9074, 2.9066, 2.9044, 2.8988, 2.8983, 2.8976, 2.8968, 2.8967, 2.8922, 2.891, 2.8889, 2.8849, 2.8822, 2.8816, 2.8755, 2.8391, 2.8596, 2.8741, 2.8725, 2.7633, 2.8399, 2.8152, 2.7784, 2.7624, 2.64, 2.8542, 2.6888, 2.736, 2.5442, 2.6652, 2.5992, 2.6459, 2.6323, 2.4937, 2.6301, 2.6293, 2.0627, 2.3451, 2.5751, 1.9228, 2.1889, 1.7153, 2.3439, 2.165, 2.1182, 2.152, 2.1538, 2.318, 2.0096, 2.1442, 1.1259, 0.9396, 1.4481, 1.7895, 1.73, -0.468, 0.0969, 1.4147, 1.1164, 0.4888, 0.8028, 0.4748, -0.0601, 0.2496, 0.6878, 0.3365, -0.3324, -0.3694, -0.2035, -0.0667, 0.1184, 0.3587, 0.3186, -0.2093, -0.4443, 0.3454, -0.3542, -0.1203, -0.0768, 0.0862, -0.0244, -0.1177, 2.9062, 2.9055, 2.8935, 2.8805, 2.8707, 2.8632, 2.8598, 2.8562, 2.8551, 2.8547, 2.8541, 2.8443, 2.841, 2.8407, 2.8373, 2.8334, 2.8306, 2.83, 2.8267, 2.8231, 2.8212, 2.8193, 2.8171, 2.811, 2.8089, 2.8084, 2.8076, 2.8051, 2.8029, 2.8002, 2.7972, 2.7972, 2.7744, 2.7365, 2.7565, 2.6724, 2.5118, 2.6733, 2.7552, 2.7199, 2.5526, 2.733, 2.5584, 2.66, 2.5583, 2.7242, 2.7424, 2.6945, 2.4382, 2.4686, 2.3028, 2.274, 2.3508, 2.1732, 2.4936, 2.4935, 2.4788, 1.9274, 2.4381, 1.9886, 1.8068, 2.1956, 2.0966, 1.1382, 2.0765, 1.7787, 1.6187, 1.5372, 1.505, 1.0691, 1.4439, 1.5442, 1.1444, 0.9625, 1.696, 0.9803, 0.9157, 1.1452, 0.8317, 0.7227, 1.034, 0.2401, 1.4775, 0.3003, 0.6852, 0.8118, 0.1458, 0.4403, 0.0463, 0.1777, 0.0842, -0.798, 0.5516, 0.7355, 0.4964, 0.59, 0.3125, 0.4083, 0.2384, -0.1096, 0.1448, -0.1582, 0.295, -0.1787]}, \"token.table\": {\"Topic\": [2, 9, 8, 1, 5, 1, 2, 3, 4, 5, 6, 7, 8, 9, 2, 6, 1, 7, 1, 2, 5, 6, 5, 1, 5, 1, 2, 3, 4, 5, 6, 7, 8, 9, 10, 3, 7, 3, 1, 3, 4, 1, 2, 3, 5, 1, 2, 3, 4, 5, 8, 9, 10, 1, 1, 1, 2, 4, 5, 6, 9, 1, 2, 4, 6, 1, 1, 2, 5, 6, 1, 8, 1, 2, 3, 4, 5, 6, 8, 10, 3, 1, 2, 2, 3, 2, 3, 10, 5, 3, 7, 7, 2, 2, 6, 10, 7, 2, 10, 1, 2, 9, 1, 2, 3, 4, 7, 3, 1, 2, 4, 1, 1, 1, 2, 3, 5, 7, 8, 10, 6, 1, 2, 9, 1, 2, 3, 4, 5, 6, 8, 9, 2, 10, 8, 2, 6, 1, 2, 3, 4, 5, 6, 7, 10, 1, 4, 2, 2, 1, 1, 2, 3, 4, 5, 6, 7, 8, 9, 10, 1, 2, 4, 6, 9, 1, 5, 1, 8, 1, 2, 4, 1, 5, 1, 5, 1, 2, 4, 2, 2, 3, 7, 1, 8, 1, 2, 3, 4, 5, 7, 9, 2, 2, 2, 2, 9, 3, 7, 1, 5, 1, 4, 7, 3, 2, 2, 2, 3, 7, 2, 1, 2, 6, 9, 1, 1, 2, 3, 4, 6, 7, 8, 9, 10, 1, 7, 1, 2, 3, 4, 5, 8, 9, 10, 1, 10, 1, 5, 1, 2, 3, 4, 5, 6, 7, 8, 9, 10, 1, 3, 5, 3, 8, 1, 2, 5, 6, 1, 2, 3, 4, 5, 7, 8, 9, 1, 2, 5, 8, 10, 8, 10, 3, 7, 1, 8, 1, 2, 3, 5, 6, 8, 10, 1, 2, 3, 10, 7, 1, 1, 2, 6, 9, 1, 2, 3, 5, 6, 7, 9, 1, 1, 2, 3, 5, 6, 7, 1, 1, 9, 1, 2, 3, 4, 5, 8, 10, 1, 5, 8, 1, 2, 5, 6, 9, 10, 1, 2, 3, 7, 1, 1, 2, 3, 4, 8, 9, 1, 4, 5, 1, 2, 3, 4, 5, 6, 7, 1, 5, 1, 2, 6, 4, 6, 6, 1, 4, 1, 2, 1, 2, 1, 6, 1, 2, 5, 9, 1, 2, 3, 4, 5, 6, 8, 9, 10, 4, 6, 4, 1, 2, 3, 4, 5, 6, 8, 9, 10, 1, 4, 1, 2, 6, 9, 1, 2, 3, 4, 5, 7, 8, 9, 10, 1, 2, 3, 4, 5, 6, 7, 8, 9, 10, 8, 8, 10, 1, 2, 3, 4, 5, 6, 8, 9, 10, 1, 2, 3, 4, 5, 6, 7, 8, 9, 10, 1, 2, 3, 4, 5, 6, 7, 8, 9, 10, 3, 7, 2, 4, 6, 1, 2, 3, 4, 6, 10, 6, 3, 7, 3, 1, 8, 10, 1, 2, 3, 4, 6, 7, 8, 10, 1, 2, 9, 3, 3, 1, 2, 3, 4, 5, 6, 8, 9, 10, 1, 2, 3, 4, 6, 2, 6, 2, 6, 1, 2, 4, 5, 1, 2, 4, 5, 6, 9, 1, 2, 8, 1, 5, 1, 7, 1, 2, 10, 5, 7, 2, 1, 2, 3, 4, 5, 6, 7, 8, 9, 10, 2, 3, 7, 10, 1, 2, 3, 4, 5, 8, 9, 1, 9, 5, 1, 1, 2, 6, 5, 3, 8, 1, 2, 4, 5, 8, 9, 1, 2, 2, 6, 2, 9, 1, 2, 4, 5, 6, 9, 10, 1, 2, 4, 5, 6, 8, 9, 1, 2, 3, 4, 7, 1, 2, 9, 2, 4, 2, 10, 2, 7, 1, 2, 3, 8, 10, 1, 2, 3, 4, 5, 6, 7, 8, 9, 2, 10, 2, 2, 3, 7, 3, 7, 1, 2, 3, 7, 1, 2, 3, 4, 5, 7, 8, 9, 10, 2, 3, 7, 1, 10, 2, 2, 1, 5, 1, 2, 3, 4, 5, 6, 7, 8, 9, 10, 3, 1, 1, 2, 5, 8, 2, 9, 1, 2, 3, 4, 5, 6, 7, 8, 9, 10, 1, 2, 4, 5, 7, 8, 10, 3, 3, 1, 2, 4, 5, 6, 9, 2, 6, 1, 1, 1, 1, 2, 4, 5, 6, 1, 1, 5, 1, 4, 5, 1, 1, 2, 3, 4, 5, 6, 7, 8, 9, 10, 3, 7, 2, 3, 1, 2, 3, 4, 3, 2, 3, 2, 1, 1, 2, 3, 4, 5, 6, 7, 8, 9, 10, 1, 2, 4, 5, 6, 9, 1, 1, 4, 1, 2, 3, 4, 5, 6, 8, 9, 10, 1, 2, 4, 5, 7, 8, 2, 3, 7, 3, 1, 2, 6, 6, 2, 1, 2, 3, 5, 6, 7, 8, 3, 3, 4, 7, 1, 2, 3, 8, 10, 1, 2, 3, 6, 8, 10, 1, 2, 3, 4, 5, 6, 7, 8, 9, 10, 1, 2, 3, 4, 5, 6, 7, 8, 9, 10, 1, 2, 3, 4, 5, 6, 8, 9, 10, 1, 7, 2, 2, 6, 10, 1, 2, 4, 5, 6, 9, 2, 2, 1, 2, 5, 6, 9, 1, 2, 3, 4, 7, 9, 1, 2, 3, 4, 6, 7, 9, 1, 2, 3, 7, 1, 5, 1, 1, 2, 4, 5, 10, 2, 2, 10, 1, 2, 3, 4, 5, 6, 8, 10, 1, 2, 3, 7, 1, 2, 4, 6, 1, 2, 3, 4, 5, 7, 8, 9, 10, 1, 2, 3, 4, 5, 6, 7, 8, 9, 10, 1, 2, 3, 6, 8, 9, 10, 1, 2, 3, 4, 5, 6, 7, 8, 9, 10, 1, 2, 3, 4, 5, 6, 7, 8, 9, 10, 6, 1, 2, 3, 4, 5, 6, 7, 8, 9, 10], \"Freq\": [0.29549168281657584, 0.29549168281657584, 1.164727146860934, 0.6163183534134326, 0.6163183534134326, 0.3643574133260158, 0.1821787066630079, 0.06072623555433596, 0.12145247110867192, 0.12145247110867192, 0.06072623555433596, 0.06072623555433596, 0.06072623555433596, 0.06072623555433596, 0.6190162091935827, 0.15475405229839567, 0.4595381989202316, 0.4595381989202316, 0.15090245474327707, 0.30180490948655414, 0.15090245474327707, 0.15090245474327707, 0.8432417818712358, 0.4724964358522859, 0.4724964358522859, 0.23040929092361231, 0.2633249039126998, 0.09874683896726243, 0.06583122597817495, 0.06583122597817495, 0.06583122597817495, 0.06583122597817495, 0.032915612989087475, 0.032915612989087475, 0.06583122597817495, 0.36504326688793937, 0.36504326688793937, 1.003880594740293, 0.2578359689537752, 0.7735079068613255, 0.9349153250889057, 0.42242769344351794, 0.10560692336087948, 0.10560692336087948, 0.10560692336087948, 0.28840615603655073, 0.19227077069103382, 0.19227077069103382, 0.09613538534551691, 0.09613538534551691, 0.09613538534551691, 0.09613538534551691, 0.09613538534551691, 0.8086297644792416, 0.6445939454343328, 0.32495332548079864, 0.21663555032053242, 0.10831777516026621, 0.10831777516026621, 0.10831777516026621, 0.10831777516026621, 0.6373263385257268, 0.12746526770514535, 0.12746526770514535, 0.12746526770514535, 0.5994561985988565, 0.5111302810199723, 0.12778257025499307, 0.12778257025499307, 0.12778257025499307, 0.32965535142121155, 0.32965535142121155, 0.30305647165702126, 0.22729235374276593, 0.07576411791425532, 0.07576411791425532, 0.07576411791425532, 0.07576411791425532, 0.07576411791425532, 0.07576411791425532, 1.6124189328035177, 0.13170366141986142, 0.6585183070993071, 1.5169759055869498, 0.9923578114307094, 1.190044604503306, 0.7369508311759919, 0.42656856253184333, 0.7462256825888717, 0.46738058756597545, 0.46738058756597545, 1.1710404011985263, 0.8285090752745293, 0.7801535503369826, 0.11145050719099753, 0.11145050719099753, 0.7034066380290043, 0.6280673080108247, 0.31403365400541233, 0.38999939521763494, 0.1299997984058783, 0.2599995968117566, 0.543370579686471, 0.12074901770810466, 0.06037450885405233, 0.06037450885405233, 0.06037450885405233, 0.6230593612379612, 0.6658214464031463, 0.13316428928062926, 0.13316428928062926, 0.6814346422112078, 1.3185562204717252, 0.48826287392820356, 0.06975183913260051, 0.06975183913260051, 0.06975183913260051, 0.06975183913260051, 0.13950367826520102, 0.06975183913260051, 0.7878108427519016, 0.630859736175565, 0.21028657872518833, 0.21028657872518833, 0.3884551109953224, 0.15538204439812894, 0.07769102219906447, 0.07769102219906447, 0.15538204439812894, 0.07769102219906447, 0.07769102219906447, 0.07769102219906447, 0.8100350265282784, 0.13500583775471306, 1.108742324646883, 0.6090740025135527, 0.2030246675045176, 0.09022373569968076, 0.18044747139936151, 0.09022373569968076, 0.27067120709904224, 0.09022373569968076, 0.18044747139936151, 0.09022373569968076, 0.09022373569968076, 0.48001758709316145, 0.48001758709316145, 0.8974814936086305, 1.08114963699986, 0.8995915570887288, 0.25346678523497634, 0.29571124944080573, 0.12673339261748817, 0.04224446420582939, 0.04224446420582939, 0.04224446420582939, 0.04224446420582939, 0.04224446420582939, 0.04224446420582939, 0.04224446420582939, 0.13982208512854505, 0.6291993830784527, 0.06991104256427252, 0.06991104256427252, 0.06991104256427252, 0.7627207014625934, 0.08474674460695482, 0.45514170221534384, 0.22757085110767192, 0.7637359806830739, 0.11749784318201137, 0.058748921591005684, 0.5158116778494767, 0.5158116778494767, 0.538928105289832, 0.538928105289832, 0.7068850659350069, 0.17672126648375172, 0.47796683523474615, 1.1357726759953706, 0.16125812584062968, 0.16125812584062968, 0.32251625168125936, 0.4736084844127262, 0.2368042422063631, 0.5213992369018493, 0.0868998728169749, 0.0868998728169749, 0.0868998728169749, 0.0868998728169749, 0.0868998728169749, 0.0868998728169749, 1.0175478820716266, 0.9963639387202536, 0.7127161946006099, 0.9300652080320978, 0.9728129249210552, 0.3262987450056364, 0.6525974900112728, 0.3665672439592213, 0.3665672439592213, 0.35256940992183977, 0.17628470496091989, 0.17628470496091989, 0.5111773372809235, 0.6823148849522476, 0.7318166646808274, 0.27268468383095606, 0.27268468383095606, 0.27268468383095606, 0.8188663210666535, 0.20562657206757137, 0.20562657206757137, 0.41125314413514275, 0.7993832159857646, 0.7100384436317334, 0.15757806856610185, 0.23636710284915274, 0.15757806856610185, 0.07878903428305092, 0.07878903428305092, 0.07878903428305092, 0.07878903428305092, 0.07878903428305092, 0.07878903428305092, 0.7175711288092221, 0.5439232853260672, 0.4683715540943407, 0.11709288852358518, 0.05854644426179259, 0.05854644426179259, 0.11709288852358518, 0.11709288852358518, 0.05854644426179259, 0.05854644426179259, 0.9551370307499226, 0.4411037281563449, 0.3879928917061541, 0.3879928917061541, 0.20481336884576307, 0.2560167110572038, 0.1536100266343223, 0.05120334221144077, 0.05120334221144077, 0.05120334221144077, 0.05120334221144077, 0.05120334221144077, 0.05120334221144077, 0.10240668442288153, 1.7326281951664593, 0.7582491836696059, 0.6832255501768997, 0.6248323258420373, 0.6503948936786463, 0.2816836849774022, 0.2816836849774022, 0.1408418424887011, 0.1408418424887011, 0.45338326955427277, 0.06476903850775326, 0.12953807701550651, 0.06476903850775326, 0.06476903850775326, 0.06476903850775326, 0.06476903850775326, 1.1775325820980707, 0.44710747847320453, 0.14903582615773484, 0.14903582615773484, 0.14903582615773484, 0.14903582615773484, 0.3457846095607161, 0.3457846095607161, 0.6630066632019502, 0.6630066632019502, 0.4334966596667692, 0.2167483298333846, 0.2677263615699435, 0.356968482093258, 0.0892421205233145, 0.0892421205233145, 0.0892421205233145, 0.0892421205233145, 0.0892421205233145, 0.14830734697694353, 0.29661469395388707, 0.14830734697694353, 0.14830734697694353, 0.6157560921465706, 1.1272528234417778, 0.1388689684532434, 0.5554758738129736, 0.1388689684532434, 0.0694344842266217, 0.15857247642991748, 0.31714495285983496, 0.07928623821495874, 0.07928623821495874, 0.07928623821495874, 0.07928623821495874, 0.07928623821495874, 0.7362250670683583, 0.12297623956302516, 0.36892871868907545, 0.12297623956302516, 0.12297623956302516, 0.12297623956302516, 0.2459524791260503, 1.4616647003804106, 0.38894237881401117, 0.38894237881401117, 0.6020215966805946, 0.06689128852006608, 0.06689128852006608, 0.06689128852006608, 0.06689128852006608, 0.06689128852006608, 0.06689128852006608, 0.3371811481812184, 0.3371811481812184, 0.1685905740906092, 0.1717413341660328, 0.572471113886776, 0.0572471113886776, 0.1144942227773552, 0.0572471113886776, 0.0572471113886776, 0.15185915781508277, 0.15185915781508277, 0.4555774734452483, 0.15185915781508277, 0.7174827081553161, 0.23624695860064976, 0.11812347930032488, 0.23624695860064976, 0.11812347930032488, 0.11812347930032488, 0.11812347930032488, 0.5258430212937328, 0.17528100709791095, 0.17528100709791095, 0.22472073543798374, 0.22472073543798374, 0.11236036771899187, 0.11236036771899187, 0.11236036771899187, 0.11236036771899187, 0.11236036771899187, 0.41365922809704736, 0.41365922809704736, 0.6692893892497622, 0.6390411168601107, 0.31952055843005533, 1.0622116407057682, 0.6298057803605398, 1.196391204159944, 0.9308536466415124, 1.2507122786973992, 0.7118290574038857, 0.14236581148077712, 1.4421860455551792, 1.8108095912827944, 0.45315677370887514, 0.45315677370887514, 0.6027665527306549, 0.12055331054613098, 0.12055331054613098, 0.12055331054613098, 0.3202748831527022, 0.1601374415763511, 0.08006872078817555, 0.08006872078817555, 0.08006872078817555, 0.08006872078817555, 0.08006872078817555, 0.08006872078817555, 0.1601374415763511, 0.6616674442080165, 0.2205558147360055, 0.7979951692543218, 0.2259164586257912, 0.282395573282239, 0.0564791146564478, 0.0564791146564478, 0.0564791146564478, 0.0564791146564478, 0.0564791146564478, 0.0564791146564478, 0.0564791146564478, 0.33358206600133544, 0.33358206600133544, 0.1183990169989975, 0.710394101993985, 0.1183990169989975, 0.1183990169989975, 0.32100749595830097, 0.08025187398957524, 0.08025187398957524, 0.08025187398957524, 0.08025187398957524, 0.08025187398957524, 0.08025187398957524, 0.08025187398957524, 0.08025187398957524, 0.17683098061923785, 0.17683098061923785, 0.17683098061923785, 0.05894366020641261, 0.05894366020641261, 0.05894366020641261, 0.05894366020641261, 0.05894366020641261, 0.05894366020641261, 0.17683098061923785, 0.32566590932711253, 0.3450367819670067, 0.3450367819670067, 0.22693894743303195, 0.22693894743303195, 0.07564631581101065, 0.07564631581101065, 0.07564631581101065, 0.07564631581101065, 0.07564631581101065, 0.07564631581101065, 0.07564631581101065, 0.14347463207544447, 0.28694926415088895, 0.07173731603772224, 0.07173731603772224, 0.07173731603772224, 0.07173731603772224, 0.07173731603772224, 0.07173731603772224, 0.07173731603772224, 0.07173731603772224, 0.21559551861537463, 0.28746069148716613, 0.14373034574358307, 0.07186517287179153, 0.07186517287179153, 0.07186517287179153, 0.07186517287179153, 0.07186517287179153, 0.07186517287179153, 0.07186517287179153, 1.1821789995776477, 0.9453869568248005, 0.4437784985443654, 0.14792616618145513, 0.14792616618145513, 0.10091117200100932, 0.30273351600302795, 0.10091117200100932, 0.10091117200100932, 0.10091117200100932, 0.10091117200100932, 0.7493972101849036, 0.38454173790197677, 0.38454173790197677, 0.708558432153837, 0.6025922205314065, 0.15064805513285162, 0.5267447645848219, 0.11035371828322002, 0.3310611548496601, 0.22070743656644004, 0.11035371828322002, 0.11035371828322002, 0.11035371828322002, 0.11035371828322002, 0.11035371828322002, 0.8220679285519474, 0.7315259069711983, 0.7315259069711983, 0.8181881956370022, 0.5771148561990564, 0.3245239815195578, 0.25961918521564625, 0.06490479630391156, 0.06490479630391156, 0.06490479630391156, 0.06490479630391156, 0.06490479630391156, 0.06490479630391156, 0.06490479630391156, 0.2107004260019113, 0.10535021300095565, 0.10535021300095565, 0.4214008520038226, 0.10535021300095565, 0.32727282307113903, 0.32727282307113903, 0.8427777769681951, 0.07023148141401625, 0.6883779248849534, 0.07648643609832816, 0.1529728721966563, 0.07648643609832816, 0.2955345915406951, 0.2955345915406951, 0.05910691830813903, 0.11821383661627806, 0.11821383661627806, 0.05910691830813903, 0.21712757425237753, 0.21712757425237753, 0.21712757425237753, 0.2915651457330655, 0.2915651457330655, 1.3169087544265723, 0.8515353190123487, 0.11624129201096384, 0.697447752065783, 0.11624129201096384, 0.4726911213859102, 0.6585433395517079, 1.638346188363067, 0.2817164293739, 0.25354478643651, 0.056343285874780005, 0.056343285874780005, 0.08451492881217001, 0.056343285874780005, 0.056343285874780005, 0.056343285874780005, 0.056343285874780005, 0.056343285874780005, 0.559413732175248, 0.11188274643504961, 0.11188274643504961, 0.11188274643504961, 0.32900247882208344, 0.08225061970552086, 0.08225061970552086, 0.16450123941104172, 0.08225061970552086, 0.08225061970552086, 0.08225061970552086, 0.47162400416555456, 0.31441600277703635, 0.9813237107442953, 0.7327824531448236, 0.12882299187530166, 0.5152919675012066, 0.12882299187530166, 0.4359565179972752, 0.8285632815037975, 0.4988371195817362, 0.7419220026868225, 0.030913416778617604, 0.06182683355723521, 0.09274025033585281, 0.030913416778617604, 0.030913416778617604, 0.15253448217015858, 0.6101379286806343, 0.6115832746828844, 0.1528958186707211, 0.6995685681656253, 1.015367769780233, 0.04167560708356353, 0.70848532042058, 0.04167560708356353, 0.04167560708356353, 0.08335121416712706, 0.04167560708356353, 0.04167560708356353, 0.3187486635078342, 0.3187486635078342, 0.07968716587695855, 0.07968716587695855, 0.07968716587695855, 0.07968716587695855, 0.07968716587695855, 0.7102380198922766, 0.17755950497306916, 0.33483293869464353, 0.33483293869464353, 0.33483293869464353, 0.7654697885988286, 0.3448233801907647, 0.3448233801907647, 1.0524153543130368, 1.2072277566055312, 0.4355286501350439, 0.4355286501350439, 0.4641410518098163, 0.23207052590490815, 0.179186776957649, 0.179186776957649, 0.179186776957649, 0.179186776957649, 0.179186776957649, 0.2695540667174617, 0.2695540667174617, 0.06738851667936542, 0.06738851667936542, 0.06738851667936542, 0.06738851667936542, 0.06738851667936542, 0.06738851667936542, 0.06738851667936542, 0.6606370333462572, 0.1651592583365643, 0.922209981714348, 0.19528599181683165, 0.3905719836336633, 0.3905719836336633, 0.6018332784161574, 0.3009166392080787, 0.18199380841539567, 0.18199380841539567, 0.18199380841539567, 0.18199380841539567, 0.23032918480238207, 0.3071055797365094, 0.07677639493412736, 0.07677639493412736, 0.07677639493412736, 0.07677639493412736, 0.07677639493412736, 0.07677639493412736, 0.07677639493412736, 0.23066995573150756, 0.23066995573150756, 0.4613399114630151, 1.3248353871870633, 0.7539065497495754, 0.7649026035406844, 0.8544405937552161, 0.2837279712298093, 0.2837279712298093, 0.3987670745126066, 0.2278668997214895, 0.03560420308148274, 0.05696672493037237, 0.09969176862815166, 0.05696672493037237, 0.014241681232593093, 0.04272504369777928, 0.028483362465186186, 0.02136252184888964, 0.6104088701040645, 1.6281569208672853, 0.3669749263200112, 0.1834874631600056, 0.1834874631600056, 0.1834874631600056, 0.6573952382291894, 0.6573952382291894, 0.2403479887828445, 0.18026099158713338, 0.18026099158713338, 0.12017399439142225, 0.060086997195711124, 0.060086997195711124, 0.060086997195711124, 0.060086997195711124, 0.060086997195711124, 0.060086997195711124, 0.40036412729119286, 0.10009103182279822, 0.10009103182279822, 0.10009103182279822, 0.10009103182279822, 0.10009103182279822, 0.10009103182279822, 0.4116119541332241, 0.8543648545635043, 0.11333015683094505, 0.4533206273237802, 0.11333015683094505, 0.11333015683094505, 0.2266603136618901, 0.11333015683094505, 0.8489208996733351, 0.16978417993466702, 0.6811382085907921, 0.5585306483446996, 0.9848761415939015, 0.2868912865185232, 0.2868912865185232, 0.1434456432592616, 0.1434456432592616, 0.1434456432592616, 0.7720879098773914, 0.4974253415249182, 0.4974253415249182, 0.7960337574645697, 0.11371910820922425, 0.11371910820922425, 0.703554789294226, 0.2662991137934953, 0.17753274252899687, 0.08876637126449843, 0.08876637126449843, 0.08876637126449843, 0.08876637126449843, 0.08876637126449843, 0.08876637126449843, 0.08876637126449843, 0.08876637126449843, 0.4827038986850902, 0.7953816451906213, 0.8579694664014101, 1.2393383910565225, 0.3792482653734016, 0.12641608845780053, 0.12641608845780053, 0.25283217691560106, 0.7540221558424868, 1.0571894520359764, 1.0231725060590704, 0.8555795830611453, 1.6342872138927942, 0.3576334796762845, 0.31789642637891957, 0.039737053297364947, 0.039737053297364947, 0.039737053297364947, 0.07947410659472989, 0.039737053297364947, 0.039737053297364947, 0.039737053297364947, 0.039737053297364947, 0.26806286061137025, 0.26806286061137025, 0.08935428687045675, 0.08935428687045675, 0.08935428687045675, 0.08935428687045675, 1.546673805338434, 0.3730377821319697, 0.3730377821319697, 0.21312259795494762, 0.21312259795494762, 0.10656129897747381, 0.10656129897747381, 0.10656129897747381, 0.10656129897747381, 0.10656129897747381, 0.10656129897747381, 0.10656129897747381, 0.29097859870064524, 0.14548929935032262, 0.14548929935032262, 0.14548929935032262, 0.14548929935032262, 0.14548929935032262, 0.12164648256001129, 0.36493944768003383, 0.48658593024004515, 0.7363549657459313, 0.7956585439307892, 0.40055260051578706, 0.40055260051578706, 0.6835306870051578, 0.6818085640139457, 0.13919421845983374, 0.13919421845983374, 0.13919421845983374, 0.13919421845983374, 0.13919421845983374, 0.13919421845983374, 0.13919421845983374, 0.6525262364177424, 0.2645987180797321, 0.2645987180797321, 0.2645987180797321, 0.12961709971305366, 0.2592341994261073, 0.12961709971305366, 0.12961709971305366, 0.12961709971305366, 0.20046634375135455, 0.30069951562703184, 0.10023317187567728, 0.10023317187567728, 0.10023317187567728, 0.10023317187567728, 0.4027669586584869, 0.16110678346339477, 0.08055339173169739, 0.08055339173169739, 0.08055339173169739, 0.08055339173169739, 0.08055339173169739, 0.08055339173169739, 0.08055339173169739, 0.08055339173169739, 0.24017879460143962, 0.24017879460143962, 0.10293376911490269, 0.06862251274326846, 0.03431125637163423, 0.03431125637163423, 0.06862251274326846, 0.06862251274326846, 0.03431125637163423, 0.06862251274326846, 0.4014764697059444, 0.1784339865359753, 0.04460849663399383, 0.04460849663399383, 0.08921699326798765, 0.04460849663399383, 0.08921699326798765, 0.04460849663399383, 0.04460849663399383, 0.3480067554956788, 0.3480067554956788, 1.1177237423726571, 0.6583309387854933, 0.19362674670161567, 0.03872534934032314, 0.17227881875368295, 0.4594101833431546, 0.057426272917894323, 0.057426272917894323, 0.17227881875368295, 0.057426272917894323, 0.7198766948154433, 1.5265776045917885, 0.10120766884298855, 0.5060383442149428, 0.10120766884298855, 0.10120766884298855, 0.10120766884298855, 0.2290325965677222, 0.1145162982838611, 0.2290325965677222, 0.1145162982838611, 0.1145162982838611, 0.1145162982838611, 0.20771642864829146, 0.10385821432414573, 0.20771642864829146, 0.10385821432414573, 0.10385821432414573, 0.10385821432414573, 0.10385821432414573, 0.1814734445720525, 0.1814734445720525, 0.1814734445720525, 0.1814734445720525, 0.5016653503853673, 0.25083267519268365, 0.7548380379472485, 0.43433682683727526, 0.10858420670931881, 0.21716841341863763, 0.10858420670931881, 0.10858420670931881, 0.8084890768511933, 0.4315758601565526, 0.4315758601565526, 0.20643934820713086, 0.3096590223106963, 0.10321967410356543, 0.10321967410356543, 0.10321967410356543, 0.10321967410356543, 0.10321967410356543, 0.10321967410356543, 0.4771717580445918, 0.11929293951114794, 0.35787881853344383, 0.7840214264747968, 0.18056789696318315, 0.4514197424079579, 0.09028394848159157, 0.09028394848159157, 0.38946205996683736, 0.12982068665561244, 0.06491034332780622, 0.06491034332780622, 0.06491034332780622, 0.06491034332780622, 0.12982068665561244, 0.06491034332780622, 0.06491034332780622, 0.1898857201548812, 0.1898857201548812, 0.0949428600774406, 0.0949428600774406, 0.0949428600774406, 0.0949428600774406, 0.0949428600774406, 0.0949428600774406, 0.0949428600774406, 0.0949428600774406, 0.0936652184821356, 0.2809956554464068, 0.1873304369642712, 0.0936652184821356, 0.0936652184821356, 0.0936652184821356, 0.0936652184821356, 0.18210229953423712, 0.39021921328765097, 0.07804384265753019, 0.05202922843835346, 0.05202922843835346, 0.07804384265753019, 0.05202922843835346, 0.05202922843835346, 0.02601461421917673, 0.05202922843835346, 0.21187645542222183, 0.3178146831333327, 0.13242278463888865, 0.07945367078333318, 0.02648455692777773, 0.02648455692777773, 0.05296911385555546, 0.05296911385555546, 0.02648455692777773, 0.05296911385555546, 1.2567808349239673, 0.2537717872770861, 0.21751867480893095, 0.10875933740446547, 0.07250622493631032, 0.07250622493631032, 0.03625311246815516, 0.03625311246815516, 0.07250622493631032, 0.03625311246815516, 0.07250622493631032], \"Term\": [\"2018\", \"2018\", \"abortion\", \"accident\", \"accident\", \"according\", \"according\", \"according\", \"according\", \"according\", \"according\", \"according\", \"according\", \"according\", \"administration\", \"administration\", \"adult\", \"adult\", \"agency\", \"agency\", \"agency\", \"agency\", \"aircraft\", \"airport\", \"airport\", \"also\", \"also\", \"also\", \"also\", \"also\", \"also\", \"also\", \"also\", \"also\", \"also\", \"analysis\", \"analysis\", \"ancient\", \"animal\", \"animal\", \"apple\", \"area\", \"area\", \"area\", \"area\", \"around\", \"around\", \"around\", \"around\", \"around\", \"around\", \"around\", \"around\", \"arrest\", \"arrested\", \"attack\", \"attack\", \"attack\", \"attack\", \"attack\", \"attack\", \"attorney\", \"attorney\", \"attorney\", \"attorney\", \"authorities\", \"authority\", \"authority\", \"authority\", \"authority\", \"baby\", \"baby\", \"back\", \"back\", \"back\", \"back\", \"back\", \"back\", \"back\", \"back\", \"bacteria\", \"bill\", \"bill\", \"bipartisan\", \"bird\", \"boehner\", \"bone\", \"book\", \"boston\", \"brain\", \"brain\", \"breast\", \"budget\", \"campaign\", \"campaign\", \"campaign\", \"cancer\", \"candidate\", \"candidate\", \"caption\", \"caption\", \"caption\", \"case\", \"case\", \"case\", \"case\", \"case\", \"century\", \"charge\", \"charge\", \"charge\", \"charged\", \"charleston\", \"child\", \"child\", \"child\", \"child\", \"child\", \"child\", \"child\", \"christie\", \"church\", \"church\", \"church\", \"city\", \"city\", \"city\", \"city\", \"city\", \"city\", \"city\", \"city\", \"clinton\", \"clinton\", \"coach\", \"committee\", \"committee\", \"company\", \"company\", \"company\", \"company\", \"company\", \"company\", \"company\", \"company\", \"complaint\", \"complaint\", \"congress\", \"congressional\", \"convicted\", \"could\", \"could\", \"could\", \"could\", \"could\", \"could\", \"could\", \"could\", \"could\", \"could\", \"country\", \"country\", \"country\", \"country\", \"country\", \"county\", \"county\", \"couple\", \"couple\", \"court\", \"court\", \"court\", \"crash\", \"crash\", \"crew\", \"crew\", \"crime\", \"crime\", \"customer\", \"cut\", \"data\", \"data\", \"data\", \"daughter\", \"daughter\", \"death\", \"death\", \"death\", \"death\", \"death\", \"death\", \"death\", \"debt\", \"deficit\", \"democratic\", \"democrats\", \"demonstration\", \"disease\", \"disease\", \"driver\", \"driver\", \"drug\", \"drug\", \"drug\", \"earth\", \"economic\", \"economy\", \"effect\", \"effect\", \"effect\", \"election\", \"email\", \"email\", \"email\", \"embassy\", \"enforcement\", \"even\", \"even\", \"even\", \"even\", \"even\", \"even\", \"even\", \"even\", \"even\", \"execution\", \"factor\", \"family\", \"family\", \"family\", \"family\", \"family\", \"family\", \"family\", \"family\", \"ferguson\", \"film\", \"fire\", \"fire\", \"first\", \"first\", \"first\", \"first\", \"first\", \"first\", \"first\", \"first\", \"first\", \"first\", \"first-degree\", \"fish\", \"flight\", \"food\", \"football\", \"force\", \"force\", \"force\", \"force\", \"found\", \"found\", \"found\", \"found\", \"found\", \"found\", \"found\", \"francis\", \"friend\", \"friend\", \"friend\", \"friend\", \"friend\", \"game\", \"game\", \"gene\", \"gene\", \"girl\", \"girl\", \"going\", \"going\", \"going\", \"going\", \"going\", \"going\", \"going\", \"good\", \"good\", \"good\", \"good\", \"google\", \"gorsuch\", \"government\", \"government\", \"government\", \"government\", \"group\", \"group\", \"group\", \"group\", \"group\", \"group\", \"group\", \"guilty\", \"health\", \"health\", \"health\", \"health\", \"health\", \"health\", \"hernandez\", \"hide\", \"hide\", \"home\", \"home\", \"home\", \"home\", \"home\", \"home\", \"home\", \"hospital\", \"hospital\", \"hospital\", \"house\", \"house\", \"house\", \"house\", \"house\", \"house\", \"human\", \"human\", \"human\", \"human\", \"hurricane\", \"image\", \"image\", \"image\", \"image\", \"image\", \"image\", \"incident\", \"incident\", \"incident\", \"information\", \"information\", \"information\", \"information\", \"information\", \"information\", \"information\", \"injured\", \"injured\", \"inmate\", \"intelligence\", \"intelligence\", \"iphone\", \"israel\", \"israeli\", \"jail\", \"jong\", \"judge\", \"judge\", \"juror\", \"kadyrov\", \"kelly\", \"kelly\", \"killed\", \"killed\", \"killed\", \"killed\", \"know\", \"know\", \"know\", \"know\", \"know\", \"know\", \"know\", \"know\", \"know\", \"korea\", \"korea\", \"korean\", \"last\", \"last\", \"last\", \"last\", \"last\", \"last\", \"last\", \"last\", \"last\", \"lawsuit\", \"lawsuit\", \"leader\", \"leader\", \"leader\", \"leader\", \"life\", \"life\", \"life\", \"life\", \"life\", \"life\", \"life\", \"life\", \"life\", \"like\", \"like\", \"like\", \"like\", \"like\", \"like\", \"like\", \"like\", \"like\", \"like\", \"link\", \"love\", \"love\", \"made\", \"made\", \"made\", \"made\", \"made\", \"made\", \"made\", \"made\", \"made\", \"make\", \"make\", \"make\", \"make\", \"make\", \"make\", \"make\", \"make\", \"make\", \"make\", \"many\", \"many\", \"many\", \"many\", \"many\", \"many\", \"many\", \"many\", \"many\", \"many\", \"mars\", \"medicine\", \"military\", \"military\", \"military\", \"million\", \"million\", \"million\", \"million\", \"million\", \"million\", \"missile\", \"model\", \"model\", \"moon\", \"mother\", \"mother\", \"movie\", \"much\", \"much\", \"much\", \"much\", \"much\", \"much\", \"much\", \"much\", \"murder\", \"muslim\", \"muslim\", \"nasa\", \"natural\", \"news\", \"news\", \"news\", \"news\", \"news\", \"news\", \"news\", \"news\", \"news\", \"north\", \"north\", \"north\", \"north\", \"north\", \"nuclear\", \"nuclear\", \"obama\", \"obama\", \"officer\", \"officer\", \"officer\", \"officer\", \"official\", \"official\", \"official\", \"official\", \"official\", \"official\", \"page\", \"page\", \"page\", \"park\", \"park\", \"parole\", \"participant\", \"party\", \"party\", \"party\", \"passenger\", \"patient\", \"pelosi\", \"people\", \"people\", \"people\", \"people\", \"people\", \"people\", \"people\", \"people\", \"people\", \"people\", \"percent\", \"percent\", \"percent\", \"percent\", \"photo\", \"photo\", \"photo\", \"photo\", \"photo\", \"photo\", \"photo\", \"photos\", \"photos\", \"pilot\", \"pistorius\", \"plan\", \"plan\", \"plan\", \"plane\", \"planet\", \"player\", \"police\", \"police\", \"police\", \"police\", \"police\", \"police\", \"policy\", \"policy\", \"political\", \"political\", \"poll\", \"pope\", \"president\", \"president\", \"president\", \"president\", \"president\", \"president\", \"president\", \"press\", \"press\", \"press\", \"press\", \"press\", \"press\", \"press\", \"prison\", \"prison\", \"product\", \"product\", \"product\", \"prosecutor\", \"protest\", \"protest\", \"putin\", \"pyongyang\", \"race\", \"race\", \"rate\", \"rate\", \"really\", \"really\", \"really\", \"really\", \"really\", \"report\", \"report\", \"report\", \"report\", \"report\", \"report\", \"report\", \"report\", \"report\", \"republican\", \"republican\", \"republicans\", \"research\", \"research\", \"research\", \"researcher\", \"researcher\", \"result\", \"result\", \"result\", \"result\", \"right\", \"right\", \"right\", \"right\", \"right\", \"right\", \"right\", \"right\", \"right\", \"risk\", \"risk\", \"risk\", \"robbery\", \"romney\", \"russia\", \"russian\", \"safety\", \"safety\", \"said\", \"said\", \"said\", \"said\", \"said\", \"said\", \"said\", \"said\", \"said\", \"said\", \"sample\", \"sandusky\", \"saturday\", \"saturday\", \"saturday\", \"saturday\", \"saudi\", \"saudi\", \"say\", \"say\", \"say\", \"say\", \"say\", \"say\", \"say\", \"say\", \"say\", \"say\", \"school\", \"school\", \"school\", \"school\", \"school\", \"school\", \"school\", \"science\", \"scientist\", \"security\", \"security\", \"security\", \"security\", \"security\", \"security\", \"senate\", \"senate\", \"sentence\", \"sentenced\", \"sentencing\", \"service\", \"service\", \"service\", \"service\", \"service\", \"sheriff\", \"ship\", \"ship\", \"shooting\", \"shooting\", \"shooting\", \"shot\", \"show\", \"show\", \"show\", \"show\", \"show\", \"show\", \"show\", \"show\", \"show\", \"show\", \"size\", \"sleep\", \"snowden\", \"solar\", \"south\", \"south\", \"south\", \"south\", \"space\", \"speaker\", \"specie\", \"spending\", \"stabbing\", \"state\", \"state\", \"state\", \"state\", \"state\", \"state\", \"state\", \"state\", \"state\", \"state\", \"statement\", \"statement\", \"statement\", \"statement\", \"statement\", \"statement\", \"steenkamp\", \"store\", \"store\", \"story\", \"story\", \"story\", \"story\", \"story\", \"story\", \"story\", \"story\", \"story\", \"student\", \"student\", \"student\", \"student\", \"student\", \"student\", \"study\", \"study\", \"study\", \"surface\", \"suspect\", \"syria\", \"syria\", \"syrian\", \"tax\", \"team\", \"team\", \"team\", \"team\", \"team\", \"team\", \"team\", \"temperature\", \"test\", \"test\", \"test\", \"thing\", \"thing\", \"thing\", \"thing\", \"thing\", \"think\", \"think\", \"think\", \"think\", \"think\", \"think\", \"three\", \"three\", \"three\", \"three\", \"three\", \"three\", \"three\", \"three\", \"three\", \"three\", \"time\", \"time\", \"time\", \"time\", \"time\", \"time\", \"time\", \"time\", \"time\", \"time\", \"told\", \"told\", \"told\", \"told\", \"told\", \"told\", \"told\", \"told\", \"told\", \"treatment\", \"treatment\", \"trillion\", \"trump\", \"trump\", \"trump\", \"u.s.\", \"u.s.\", \"u.s.\", \"u.s.\", \"u.s.\", \"u.s.\", \"ukraine\", \"unemployment\", \"united\", \"united\", \"united\", \"united\", \"united\", \"university\", \"university\", \"university\", \"university\", \"university\", \"university\", \"used\", \"used\", \"used\", \"used\", \"used\", \"used\", \"used\", \"using\", \"using\", \"using\", \"using\", \"vehicle\", \"vehicle\", \"victim\", \"video\", \"video\", \"video\", \"video\", \"video\", \"vote\", \"voter\", \"voter\", \"want\", \"want\", \"want\", \"want\", \"want\", \"want\", \"want\", \"want\", \"water\", \"water\", \"water\", \"weight\", \"white\", \"white\", \"white\", \"white\", \"woman\", \"woman\", \"woman\", \"woman\", \"woman\", \"woman\", \"woman\", \"woman\", \"woman\", \"work\", \"work\", \"work\", \"work\", \"work\", \"work\", \"work\", \"work\", \"work\", \"work\", \"world\", \"world\", \"world\", \"world\", \"world\", \"world\", \"world\", \"would\", \"would\", \"would\", \"would\", \"would\", \"would\", \"would\", \"would\", \"would\", \"would\", \"year\", \"year\", \"year\", \"year\", \"year\", \"year\", \"year\", \"year\", \"year\", \"year\", \"zimmer\", \"|||||\", \"|||||\", \"|||||\", \"|||||\", \"|||||\", \"|||||\", \"|||||\", \"|||||\", \"|||||\", \"|||||\"]}, \"R\": 30, \"lambda.step\": 0.01, \"plot.opts\": {\"xlab\": \"PC1\", \"ylab\": \"PC2\"}, \"topic.order\": [7, 6, 1, 3, 10, 2, 5, 4, 9, 8]};\n",
              "\n",
              "function LDAvis_load_lib(url, callback){\n",
              "  var s = document.createElement('script');\n",
              "  s.src = url;\n",
              "  s.async = true;\n",
              "  s.onreadystatechange = s.onload = callback;\n",
              "  s.onerror = function(){console.warn(\"failed to load library \" + url);};\n",
              "  document.getElementsByTagName(\"head\")[0].appendChild(s);\n",
              "}\n",
              "\n",
              "if(typeof(LDAvis) !== \"undefined\"){\n",
              "   // already loaded: just create the visualization\n",
              "   !function(LDAvis){\n",
              "       new LDAvis(\"#\" + \"ldavis_el721400003970504489460411384\", ldavis_el721400003970504489460411384_data);\n",
              "   }(LDAvis);\n",
              "}else if(typeof define === \"function\" && define.amd){\n",
              "   // require.js is available: use it to load d3/LDAvis\n",
              "   require.config({paths: {d3: \"https://d3js.org/d3.v5\"}});\n",
              "   require([\"d3\"], function(d3){\n",
              "      window.d3 = d3;\n",
              "      LDAvis_load_lib(\"https://cdn.jsdelivr.net/gh/bmabey/pyLDAvis@3.3.1/pyLDAvis/js/ldavis.v3.0.0.js\", function(){\n",
              "        new LDAvis(\"#\" + \"ldavis_el721400003970504489460411384\", ldavis_el721400003970504489460411384_data);\n",
              "      });\n",
              "    });\n",
              "}else{\n",
              "    // require.js not available: dynamically load d3 & LDAvis\n",
              "    LDAvis_load_lib(\"https://d3js.org/d3.v5.js\", function(){\n",
              "         LDAvis_load_lib(\"https://cdn.jsdelivr.net/gh/bmabey/pyLDAvis@3.3.1/pyLDAvis/js/ldavis.v3.0.0.js\", function(){\n",
              "                 new LDAvis(\"#\" + \"ldavis_el721400003970504489460411384\", ldavis_el721400003970504489460411384_data);\n",
              "            })\n",
              "         });\n",
              "}\n",
              "</script>"
            ]
          },
          "metadata": {},
          "execution_count": 59
        }
      ]
    },
    {
      "cell_type": "markdown",
      "metadata": {
        "id": "prYWJBmr2ntt"
      },
      "source": [
        "## (2) (10 points) Generate K topics by using LSA, the number of topics K should be decided by the coherence score, then summarize what are the topics. You may refer the code here:\n",
        "\n",
        "https://www.datacamp.com/community/tutorials/discovering-hidden-topics-python"
      ]
    },
    {
      "cell_type": "code",
      "source": [
        "def compute_coherence_values(dictionary, doc_term_matrix, doc_clean, stop, start=2, step=3):\n",
        "    \"\"\"\n",
        "    Input   : dictionary : Gensim dictionary\n",
        "              corpus : Gensim corpus\n",
        "              texts : List of input texts\n",
        "              stop : Max num of topics\n",
        "    purpose : Compute c_v coherence for various number of topics\n",
        "    Output  : model_list : List of LSA topic models\n",
        "              coherence_values : Coherence values corresponding to the LDA model with respective number of topics\n",
        "    \"\"\"\n",
        "    coherence_values = []\n",
        "    model_list = []\n",
        "    for num_topics in range(start, stop, step):\n",
        "        # generate LSA model\n",
        "        model = models.LsiModel(doc_term_matrix, num_topics=num_topics, id2word = dictionary)  # train model\n",
        "        model_list.append(model)\n",
        "        coherencemodel = CoherenceModel(model=model, texts=doc_clean, dictionary=dictionary, coherence='c_v')\n",
        "        coherence_values.append(coherencemodel.get_coherence())\n",
        "    return model_list, coherence_values\n",
        "model_list, coherence_values = compute_coherence_values(dictionary, corpus_lda,texts,\n",
        "                                                            10, 2, 1)"
      ],
      "metadata": {
        "id": "VhHK69mFL9AJ"
      },
      "execution_count": null,
      "outputs": []
    },
    {
      "cell_type": "code",
      "source": [
        "x=range(2, 10, 1)\n",
        "plt.plot(x, coherence_values)\n",
        "plt.xlabel(\"Number of Topics\")\n",
        "plt.ylabel(\"Coherence score\")\n",
        "plt.legend((\"coherence_values\"), loc='best')\n",
        "plt.show()\n",
        "coherence_values"
      ],
      "metadata": {
        "colab": {
          "base_uri": "https://localhost:8080/",
          "height": 415
        },
        "id": "TeBiMatsN9TM",
        "outputId": "cdcae822-c2e7-4bab-9786-d83366a4dd83"
      },
      "execution_count": null,
      "outputs": [
        {
          "output_type": "display_data",
          "data": {
            "text/plain": [
              "<Figure size 432x288 with 1 Axes>"
            ],
            "image/png": "[encoded data removed]"
          },
          "metadata": {
            "needs_background": "light"
          }
        },
        {
          "output_type": "execute_result",
          "data": {
            "text/plain": [
              "[0.23019345517966366,\n",
              " 0.33981552581164115,\n",
              " 0.34468008871563605,\n",
              " 0.33050207703585743,\n",
              " 0.3550513914715762,\n",
              " 0.3366086524794592,\n",
              " 0.34473185809765927,\n",
              " 0.35003162471308497]"
            ]
          },
          "metadata": {},
          "execution_count": 84
        }
      ]
    },
    {
      "cell_type": "code",
      "source": [
        "lsa = models.LsiModel(corpus, id2word=dictionary, num_topics=9)\n",
        "corpus_lsa = lsa[corpus_tfidf] \n",
        "lsa.show_topics(total_topics,10)"
      ],
      "metadata": {
        "colab": {
          "base_uri": "https://localhost:8080/"
        },
        "id": "tVrpySXvTcOt",
        "outputId": "0c60948e-26f5-498f-aa5c-98952a5eda32"
      },
      "execution_count": null,
      "outputs": [
        {
          "output_type": "execute_result",
          "data": {
            "text/plain": [
              "[(0,\n",
              "  '0.299*\"mayor\" + 0.277*\"governor\" + 0.267*\"said\" + 0.233*\"zimmer\" + 0.205*\"2013\" + 0.170*\"email\" + 0.149*\"wildstein\" + 0.147*\"would\" + 0.124*\"hoboken\" + 0.124*\"office\"'),\n",
              " (1,\n",
              "  '-0.441*\"said\" + 0.261*\"mayor\" + 0.226*\"governor\" + 0.212*\"zimmer\" + 0.156*\"2013\" + -0.150*\"people\" + -0.136*\"trump\" + 0.136*\"wildstein\" + 0.131*\"email\" + -0.127*\"year\"'),\n",
              " (2,\n",
              "  '0.519*\"tobacco\" + 0.459*\"child\" + 0.216*\"human\" + 0.198*\"work\" + 0.184*\"rights\" + 0.168*\"watch\" + 0.166*\"labor\" + 0.164*\"working\" + -0.162*\"trump\" + 0.151*\"worker\"'),\n",
              " (3,\n",
              "  '0.499*\"trump\" + -0.438*\"said\" + -0.259*\"police\" + 0.192*\"president\" + 0.135*\"clinton\" + 0.135*\"would\" + -0.104*\"officer\" + 0.099*\"think\" + 0.098*\"campaign\" + 0.093*\"going\"'),\n",
              " (4,\n",
              "  '0.375*\"trump\" + 0.312*\"said\" + 0.181*\"tobacco\" + -0.172*\"study\" + -0.152*\"brain\" + -0.146*\"year\" + -0.132*\"time\" + 0.130*\"child\" + 0.125*\"president\" + -0.122*\"injury\"')]"
            ]
          },
          "metadata": {},
          "execution_count": 85
        }
      ]
    },
    {
      "cell_type": "markdown",
      "metadata": {
        "id": "gGnS6Vnn2nty"
      },
      "source": [
        "## (3) (10 points) Generate K topics by using  lda2vec, the number of topics K should be decided by the coherence score, then summarize what are the topics. You may refer the code here:\n",
        "\n",
        "https://nbviewer.org/github/cemoody/lda2vec/blob/master/examples/twenty_newsgroups/lda2vec/lda2vec.ipynb"
      ]
    },
    {
      "cell_type": "code",
      "execution_count": 88,
      "metadata": {
        "id": "nXDnLtV62ntz",
        "colab": {
          "base_uri": "https://localhost:8080/"
        },
        "outputId": "1b37e097-9360-4bd2-9e23-fcc8cf62eac2"
      },
      "outputs": [
        {
          "output_type": "stream",
          "name": "stdout",
          "text": [
            "Collecting pyLDAvis\n",
            "  Cloning https://github.com/bmabey/pyLDAvis.git (to revision master) to /tmp/pip-install-5tym6gzj/pyldavis_6cb862c08a38474eb100faa327e01be9\n",
            "  Running command git clone -q https://github.com/bmabey/pyLDAvis.git /tmp/pip-install-5tym6gzj/pyldavis_6cb862c08a38474eb100faa327e01be9\n",
            "  Installing build dependencies ... \u001b[?25l\u001b[?25hdone\n",
            "  Getting requirements to build wheel ... \u001b[?25l\u001b[?25hcanceled\n",
            "\u001b[31mERROR: Operation cancelled by user\u001b[0m\n"
          ]
        }
      ],
      "source": [
        "# Write your code here\n",
        "\n",
        "!pip install git+https://github.com/bmabey/pyLDAvis.git@master#egg=pyLDAvis\n",
        "\n"
      ]
    },
    {
      "cell_type": "code",
      "source": [
        "!pip install lda2vec\n",
        "import lda2vec"
      ],
      "metadata": {
        "colab": {
          "base_uri": "https://localhost:8080/"
        },
        "id": "m6-d0Sl1XD3y",
        "outputId": "33617e38-d610-4055-d742-f6beafbb5c02"
      },
      "execution_count": 91,
      "outputs": [
        {
          "output_type": "stream",
          "name": "stdout",
          "text": [
            "Requirement already satisfied: lda2vec in /usr/local/lib/python3.7/dist-packages (0.16.10)\n"
          ]
        }
      ]
    },
    {
      "cell_type": "code",
      "source": [
        ""
      ],
      "metadata": {
        "id": "bbhSUfg4Xj0d"
      },
      "execution_count": 110,
      "outputs": []
    },
    {
      "cell_type": "markdown",
      "metadata": {
        "id": "TqA_ktaC2nt0"
      },
      "source": [
        "## (4) (10 points) Generate K topics by using BERTopic, the number of topics K should be decided by the coherence score, then summarize what are the topics. You may refer the code here: \n",
        "\n",
        "https://colab.research.google.com/drive/1FieRA9fLdkQEGDIMYl0I3MCjSUKVF8C-?usp=sharing"
      ]
    },
    {
      "cell_type": "code",
      "execution_count": 98,
      "metadata": {
        "id": "x4_oyYVd2nt1",
        "colab": {
          "base_uri": "https://localhost:8080/",
          "height": 1000
        },
        "outputId": "646899af-4ec7-46e9-fc3b-5fdb956f7231"
      },
      "outputs": [
        {
          "output_type": "stream",
          "name": "stdout",
          "text": [
            "Collecting bertopic[visualization]\n",
            "  Downloading bertopic-0.9.4-py2.py3-none-any.whl (57 kB)\n",
            "\u001b[?25l\r\u001b[K     |█████▊                          | 10 kB 9.8 MB/s eta 0:00:01\r\u001b[K     |███████████▍                    | 20 kB 14.1 MB/s eta 0:00:01\r\u001b[K     |█████████████████               | 30 kB 16.6 MB/s eta 0:00:01\r\u001b[K     |██████████████████████▊         | 40 kB 12.8 MB/s eta 0:00:01\r\u001b[K     |████████████████████████████▍   | 51 kB 11.9 MB/s eta 0:00:01\r\u001b[K     |████████████████████████████████| 57 kB 3.1 MB/s \n",
            "\u001b[33mWARNING: bertopic 0.9.4 does not provide the extra 'visualization'\u001b[0m\n",
            "\u001b[?25hRequirement already satisfied: pyyaml<6.0 in /usr/local/lib/python3.7/dist-packages (from bertopic[visualization]) (3.13)\n",
            "Requirement already satisfied: pandas>=1.1.5 in /usr/local/lib/python3.7/dist-packages (from bertopic[visualization]) (1.3.5)\n",
            "Requirement already satisfied: scikit-learn>=0.22.2.post1 in /usr/local/lib/python3.7/dist-packages (from bertopic[visualization]) (1.0.2)\n",
            "Collecting umap-learn>=0.5.0\n",
            "  Downloading umap-learn-0.5.2.tar.gz (86 kB)\n",
            "\u001b[K     |████████████████████████████████| 86 kB 4.6 MB/s \n",
            "\u001b[?25hCollecting hdbscan>=0.8.27\n",
            "  Downloading hdbscan-0.8.28.tar.gz (5.2 MB)\n",
            "\u001b[K     |████████████████████████████████| 5.2 MB 22.2 MB/s \n",
            "\u001b[?25h  Installing build dependencies ... \u001b[?25l\u001b[?25hdone\n",
            "  Getting requirements to build wheel ... \u001b[?25l\u001b[?25hdone\n",
            "    Preparing wheel metadata ... \u001b[?25l\u001b[?25hdone\n",
            "Collecting sentence-transformers>=0.4.1\n",
            "  Downloading sentence-transformers-2.2.0.tar.gz (79 kB)\n",
            "\u001b[K     |████████████████████████████████| 79 kB 7.3 MB/s \n",
            "\u001b[?25hRequirement already satisfied: plotly>=4.7.0 in /usr/local/lib/python3.7/dist-packages (from bertopic[visualization]) (5.5.0)\n",
            "Requirement already satisfied: numpy>=1.20.0 in /usr/local/lib/python3.7/dist-packages (from bertopic[visualization]) (1.21.5)\n",
            "Requirement already satisfied: tqdm>=4.41.1 in /usr/local/lib/python3.7/dist-packages (from bertopic[visualization]) (4.63.0)\n",
            "Requirement already satisfied: joblib>=1.0 in /usr/local/lib/python3.7/dist-packages (from hdbscan>=0.8.27->bertopic[visualization]) (1.1.0)\n",
            "Requirement already satisfied: cython>=0.27 in /usr/local/lib/python3.7/dist-packages (from hdbscan>=0.8.27->bertopic[visualization]) (0.29.28)\n",
            "Requirement already satisfied: scipy>=1.0 in /usr/local/lib/python3.7/dist-packages (from hdbscan>=0.8.27->bertopic[visualization]) (1.4.1)\n",
            "Requirement already satisfied: pytz>=2017.3 in /usr/local/lib/python3.7/dist-packages (from pandas>=1.1.5->bertopic[visualization]) (2018.9)\n",
            "Requirement already satisfied: python-dateutil>=2.7.3 in /usr/local/lib/python3.7/dist-packages (from pandas>=1.1.5->bertopic[visualization]) (2.8.2)\n",
            "Requirement already satisfied: six in /usr/local/lib/python3.7/dist-packages (from plotly>=4.7.0->bertopic[visualization]) (1.15.0)\n",
            "Requirement already satisfied: tenacity>=6.2.0 in /usr/local/lib/python3.7/dist-packages (from plotly>=4.7.0->bertopic[visualization]) (8.0.1)\n",
            "Requirement already satisfied: threadpoolctl>=2.0.0 in /usr/local/lib/python3.7/dist-packages (from scikit-learn>=0.22.2.post1->bertopic[visualization]) (3.1.0)\n",
            "Collecting transformers<5.0.0,>=4.6.0\n",
            "  Downloading transformers-4.17.0-py3-none-any.whl (3.8 MB)\n",
            "\u001b[K     |████████████████████████████████| 3.8 MB 45.2 MB/s \n",
            "\u001b[?25hRequirement already satisfied: torch>=1.6.0 in /usr/local/lib/python3.7/dist-packages (from sentence-transformers>=0.4.1->bertopic[visualization]) (1.10.0+cu111)\n",
            "Requirement already satisfied: torchvision in /usr/local/lib/python3.7/dist-packages (from sentence-transformers>=0.4.1->bertopic[visualization]) (0.11.1+cu111)\n",
            "Requirement already satisfied: nltk in /usr/local/lib/python3.7/dist-packages (from sentence-transformers>=0.4.1->bertopic[visualization]) (3.2.5)\n",
            "Collecting sentencepiece\n",
            "  Downloading sentencepiece-0.1.96-cp37-cp37m-manylinux_2_17_x86_64.manylinux2014_x86_64.whl (1.2 MB)\n",
            "\u001b[K     |████████████████████████████████| 1.2 MB 40.3 MB/s \n",
            "\u001b[?25hRequirement already satisfied: huggingface-hub in /usr/local/lib/python3.7/dist-packages (from sentence-transformers>=0.4.1->bertopic[visualization]) (0.4.0)\n",
            "Requirement already satisfied: typing-extensions in /usr/local/lib/python3.7/dist-packages (from torch>=1.6.0->sentence-transformers>=0.4.1->bertopic[visualization]) (3.10.0.2)\n",
            "Requirement already satisfied: requests in /usr/local/lib/python3.7/dist-packages (from transformers<5.0.0,>=4.6.0->sentence-transformers>=0.4.1->bertopic[visualization]) (2.23.0)\n",
            "Collecting sacremoses\n",
            "  Downloading sacremoses-0.0.49-py3-none-any.whl (895 kB)\n",
            "\u001b[K     |████████████████████████████████| 895 kB 40.5 MB/s \n",
            "\u001b[?25hRequirement already satisfied: packaging>=20.0 in /usr/local/lib/python3.7/dist-packages (from transformers<5.0.0,>=4.6.0->sentence-transformers>=0.4.1->bertopic[visualization]) (21.3)\n",
            "Collecting pyyaml<6.0\n",
            "  Downloading PyYAML-5.4.1-cp37-cp37m-manylinux1_x86_64.whl (636 kB)\n",
            "\u001b[K     |████████████████████████████████| 636 kB 40.4 MB/s \n",
            "\u001b[?25hCollecting tokenizers!=0.11.3,>=0.11.1\n",
            "  Downloading tokenizers-0.11.6-cp37-cp37m-manylinux_2_12_x86_64.manylinux2010_x86_64.whl (6.5 MB)\n",
            "\u001b[K     |████████████████████████████████| 6.5 MB 39.2 MB/s \n",
            "\u001b[?25hRequirement already satisfied: regex!=2019.12.17 in /usr/local/lib/python3.7/dist-packages (from transformers<5.0.0,>=4.6.0->sentence-transformers>=0.4.1->bertopic[visualization]) (2019.12.20)\n",
            "Requirement already satisfied: filelock in /usr/local/lib/python3.7/dist-packages (from transformers<5.0.0,>=4.6.0->sentence-transformers>=0.4.1->bertopic[visualization]) (3.6.0)\n",
            "Requirement already satisfied: importlib-metadata in /usr/local/lib/python3.7/dist-packages (from transformers<5.0.0,>=4.6.0->sentence-transformers>=0.4.1->bertopic[visualization]) (4.11.3)\n",
            "Requirement already satisfied: pyparsing!=3.0.5,>=2.0.2 in /usr/local/lib/python3.7/dist-packages (from packaging>=20.0->transformers<5.0.0,>=4.6.0->sentence-transformers>=0.4.1->bertopic[visualization]) (3.0.7)\n",
            "Requirement already satisfied: numba>=0.49 in /usr/local/lib/python3.7/dist-packages (from umap-learn>=0.5.0->bertopic[visualization]) (0.51.2)\n",
            "Collecting pynndescent>=0.5\n",
            "  Downloading pynndescent-0.5.6.tar.gz (1.1 MB)\n",
            "\u001b[K     |████████████████████████████████| 1.1 MB 40.3 MB/s \n",
            "\u001b[?25hRequirement already satisfied: llvmlite<0.35,>=0.34.0.dev0 in /usr/local/lib/python3.7/dist-packages (from numba>=0.49->umap-learn>=0.5.0->bertopic[visualization]) (0.34.0)\n",
            "Requirement already satisfied: setuptools in /usr/local/lib/python3.7/dist-packages (from numba>=0.49->umap-learn>=0.5.0->bertopic[visualization]) (57.4.0)\n",
            "Requirement already satisfied: zipp>=0.5 in /usr/local/lib/python3.7/dist-packages (from importlib-metadata->transformers<5.0.0,>=4.6.0->sentence-transformers>=0.4.1->bertopic[visualization]) (3.7.0)\n",
            "Requirement already satisfied: certifi>=2017.4.17 in /usr/local/lib/python3.7/dist-packages (from requests->transformers<5.0.0,>=4.6.0->sentence-transformers>=0.4.1->bertopic[visualization]) (2021.10.8)\n",
            "Requirement already satisfied: chardet<4,>=3.0.2 in /usr/local/lib/python3.7/dist-packages (from requests->transformers<5.0.0,>=4.6.0->sentence-transformers>=0.4.1->bertopic[visualization]) (3.0.4)\n",
            "Requirement already satisfied: urllib3!=1.25.0,!=1.25.1,<1.26,>=1.21.1 in /usr/local/lib/python3.7/dist-packages (from requests->transformers<5.0.0,>=4.6.0->sentence-transformers>=0.4.1->bertopic[visualization]) (1.25.11)\n",
            "Requirement already satisfied: idna<3,>=2.5 in /usr/local/lib/python3.7/dist-packages (from requests->transformers<5.0.0,>=4.6.0->sentence-transformers>=0.4.1->bertopic[visualization]) (2.10)\n",
            "Requirement already satisfied: click in /usr/local/lib/python3.7/dist-packages (from sacremoses->transformers<5.0.0,>=4.6.0->sentence-transformers>=0.4.1->bertopic[visualization]) (7.1.2)\n",
            "Requirement already satisfied: pillow!=8.3.0,>=5.3.0 in /usr/local/lib/python3.7/dist-packages (from torchvision->sentence-transformers>=0.4.1->bertopic[visualization]) (7.1.2)\n",
            "Building wheels for collected packages: hdbscan, sentence-transformers, umap-learn, pynndescent\n",
            "  Building wheel for hdbscan (PEP 517) ... \u001b[?25l\u001b[?25hdone\n",
            "  Created wheel for hdbscan: filename=hdbscan-0.8.28-cp37-cp37m-linux_x86_64.whl size=2330847 sha256=bbb0cc4a32404230e152ac4046200aa265f665fefc1a7be04eeacab47ace4b75\n",
            "  Stored in directory: /root/.cache/pip/wheels/6e/7a/5e/259ccc841c085fc41b99ef4a71e896b62f5161f2bc8a14c97a\n",
            "  Building wheel for sentence-transformers (setup.py) ... \u001b[?25l\u001b[?25hdone\n",
            "  Created wheel for sentence-transformers: filename=sentence_transformers-2.2.0-py3-none-any.whl size=120747 sha256=11a3d7ef7ed2f456a87bbadeb2e05998989fa244166ac49f063a2da96bf6ad55\n",
            "  Stored in directory: /root/.cache/pip/wheels/83/c0/df/b6873ab7aac3f2465aa9144b6b4c41c4391cfecc027c8b07e7\n",
            "  Building wheel for umap-learn (setup.py) ... \u001b[?25l\u001b[?25hdone\n",
            "  Created wheel for umap-learn: filename=umap_learn-0.5.2-py3-none-any.whl size=82708 sha256=304a4c2772b85c5534066efdfa4b683399eb69a437634bf4ba810bdad5cff1d7\n",
            "  Stored in directory: /root/.cache/pip/wheels/84/1b/c6/aaf68a748122632967cef4dffef68224eb16798b6793257d82\n",
            "  Building wheel for pynndescent (setup.py) ... \u001b[?25l\u001b[?25hdone\n",
            "  Created wheel for pynndescent: filename=pynndescent-0.5.6-py3-none-any.whl size=53943 sha256=041df53e202b01d4f509847742bd466c2b0537b4212b71f9c740d63f03bbbab9\n",
            "  Stored in directory: /root/.cache/pip/wheels/03/f1/56/f80d72741e400345b5a5b50ec3d929aca581bf45e0225d5c50\n",
            "Successfully built hdbscan sentence-transformers umap-learn pynndescent\n",
            "Installing collected packages: pyyaml, tokenizers, sacremoses, transformers, sentencepiece, pynndescent, umap-learn, sentence-transformers, hdbscan, bertopic\n",
            "  Attempting uninstall: pyyaml\n",
            "    Found existing installation: PyYAML 3.13\n",
            "    Uninstalling PyYAML-3.13:\n",
            "      Successfully uninstalled PyYAML-3.13\n",
            "Successfully installed bertopic-0.9.4 hdbscan-0.8.28 pynndescent-0.5.6 pyyaml-5.4.1 sacremoses-0.0.49 sentence-transformers-2.2.0 sentencepiece-0.1.96 tokenizers-0.11.6 transformers-4.17.0 umap-learn-0.5.2\n"
          ]
        },
        {
          "output_type": "display_data",
          "data": {
            "application/vnd.colab-display-data+json": {
              "pip_warning": {
                "packages": [
                  "yaml"
                ]
              }
            }
          },
          "metadata": {}
        }
      ],
      "source": [
        "# Write your code here\n",
        "!pip install bertopic[visualization]\n",
        "from bertopic import BERTopic\n",
        "\n"
      ]
    },
    {
      "cell_type": "code",
      "source": [
        "model = BERTopic(verbose=True,nr_topics=10)\n",
        "\n",
        "docs =df['processed data']\n",
        " \n",
        "topics, probabilities = model.fit_transform(docs)"
      ],
      "metadata": {
        "colab": {
          "base_uri": "https://localhost:8080/",
          "height": 116,
          "referenced_widgets": [
            "f68a55d6bc5944f3ac61d737cb667b86",
            "3128319a0a5843b18ac75c5a549dcffc",
            "94e959f9da11421898e42cda9f7e4d62",
            "c7380b160376443c8b15fe2a9fc6be28",
            "ceceb7632e574d6f9402ffc22c5f9728",
            "f96f5fd3622d4f8890ef7c5c27e85b45",
            "05c2b5da56f44453a7ee5640feb17f38",
            "f0722caf795a499cb8012454998acbb6",
            "fad0dbc3316847c0b11ae74b8c9437a8",
            "4fc0607fb21d4b95b38b317eeb12a5ce",
            "0956ef06b234443fbec6b1b14172daaa"
          ]
        },
        "id": "oZ1Cwvm2ZbJH",
        "outputId": "d3f158d2-b532-4b8c-eceb-353e45dfdff2"
      },
      "execution_count": 106,
      "outputs": [
        {
          "output_type": "display_data",
          "data": {
            "text/plain": [
              "Batches:   0%|          | 0/313 [00:00<?, ?it/s]"
            ],
            "application/vnd.jupyter.widget-view+json": {
              "version_major": 2,
              "version_minor": 0,
              "model_id": "f68a55d6bc5944f3ac61d737cb667b86"
            }
          },
          "metadata": {}
        },
        {
          "output_type": "stream",
          "name": "stderr",
          "text": [
            "2022-04-02 08:43:49,477 - BERTopic - Transformed documents to Embeddings\n",
            "2022-04-02 08:44:17,765 - BERTopic - Reduced dimensionality with UMAP\n",
            "2022-04-02 08:44:18,321 - BERTopic - Clustered UMAP embeddings with HDBSCAN\n",
            "2022-04-02 08:44:58,743 - BERTopic - Reduced number of topics from 158 to 11\n"
          ]
        }
      ]
    },
    {
      "cell_type": "code",
      "source": [
        "model.visualize_topics()"
      ],
      "metadata": {
        "colab": {
          "base_uri": "https://localhost:8080/",
          "height": 667
        },
        "id": "90LfVZ0TbNum",
        "outputId": "f3d1b518-e349-4597-b0a5-3d639bce7025"
      },
      "execution_count": 107,
      "outputs": [
        {
          "output_type": "display_data",
          "data": {
            "text/html": [
              "<html>\n",
              "<head><meta charset=\"utf-8\" /></head>\n",
              "<body>\n",
              "    <div>            <script src=\"https://cdnjs.cloudflare.com/ajax/libs/mathjax/2.7.5/MathJax.js?config=TeX-AMS-MML_SVG\"></script><script type=\"text/javascript\">if (window.MathJax) {MathJax.Hub.Config({SVG: {font: \"STIX-Web\"}});}</script>                <script type=\"text/javascript\">window.PlotlyConfig = {MathJaxConfig: 'local'};</script>\n",
              "        <script src=\"https://cdn.plot.ly/plotly-2.8.3.min.js\"></script>                <div id=\"f80819b0-e42b-41cb-b80d-d1a6e080ec1a\" class=\"plotly-graph-div\" style=\"height:650px; width:650px;\"></div>            <script type=\"text/javascript\">                                    window.PLOTLYENV=window.PLOTLYENV || {};                                    if (document.getElementById(\"f80819b0-e42b-41cb-b80d-d1a6e080ec1a\")) {                    Plotly.newPlot(                        \"f80819b0-e42b-41cb-b80d-d1a6e080ec1a\",                        [{\"customdata\":[[0,\"said | police | officer | shooting | county\",943],[1,\"film | movie | show | like | time\",473],[2,\"romney | trump | campaign | republican | state\",252],[3,\"music | album | song | like | bieber\",247],[4,\"trump | president | clinton | said | house\",185],[5,\"student | school | said | university | college\",183],[6,\"food | diet | more | study | sugar\",165],[7,\"cancer | said | baby | woman | doctor\",162],[8,\"syria | syrian | said | rebel | isis\",143],[9,\"wedding | couple | pete | remini | divorce\",140]],\"hovertemplate\":\"<b>Topic %{customdata[0]}</b><br>Words: %{customdata[1]}<br>Size: %{customdata[2]}\",\"legendgroup\":\"\",\"marker\":{\"color\":\"#B0BEC5\",\"size\":[943,473,252,247,185,183,165,162,143,140],\"sizemode\":\"area\",\"sizeref\":0.589375,\"symbol\":\"circle\",\"line\":{\"color\":\"DarkSlateGrey\",\"width\":2}},\"mode\":\"markers\",\"name\":\"\",\"orientation\":\"v\",\"showlegend\":false,\"x\":[-3.167048692703247,-20.88079261779785,-3.3979334831237793,-21.14325523376465,-3.927647829055786,-3.907757520675659,29.108030319213867,29.353227615356445,-4.0596113204956055,-20.43391227722168],\"xaxis\":\"x\",\"y\":[1.071980595588684,-18.597742080688477,-0.14823201298713684,-18.335330963134766,0.0905311331152916,0.9010025858879089,31.906213760375977,32.15230178833008,-0.36557915806770325,-19.044431686401367],\"yaxis\":\"y\",\"type\":\"scatter\"}],                        {\"template\":{\"data\":{\"barpolar\":[{\"marker\":{\"line\":{\"color\":\"white\",\"width\":0.5},\"pattern\":{\"fillmode\":\"overlay\",\"size\":10,\"solidity\":0.2}},\"type\":\"barpolar\"}],\"bar\":[{\"error_x\":{\"color\":\"rgb(36,36,36)\"},\"error_y\":{\"color\":\"rgb(36,36,36)\"},\"marker\":{\"line\":{\"color\":\"white\",\"width\":0.5},\"pattern\":{\"fillmode\":\"overlay\",\"size\":10,\"solidity\":0.2}},\"type\":\"bar\"}],\"carpet\":[{\"aaxis\":{\"endlinecolor\":\"rgb(36,36,36)\",\"gridcolor\":\"white\",\"linecolor\":\"white\",\"minorgridcolor\":\"white\",\"startlinecolor\":\"rgb(36,36,36)\"},\"baxis\":{\"endlinecolor\":\"rgb(36,36,36)\",\"gridcolor\":\"white\",\"linecolor\":\"white\",\"minorgridcolor\":\"white\",\"startlinecolor\":\"rgb(36,36,36)\"},\"type\":\"carpet\"}],\"choropleth\":[{\"colorbar\":{\"outlinewidth\":1,\"tickcolor\":\"rgb(36,36,36)\",\"ticks\":\"outside\"},\"type\":\"choropleth\"}],\"contourcarpet\":[{\"colorbar\":{\"outlinewidth\":1,\"tickcolor\":\"rgb(36,36,36)\",\"ticks\":\"outside\"},\"type\":\"contourcarpet\"}],\"contour\":[{\"colorbar\":{\"outlinewidth\":1,\"tickcolor\":\"rgb(36,36,36)\",\"ticks\":\"outside\"},\"colorscale\":[[0.0,\"#440154\"],[0.1111111111111111,\"#482878\"],[0.2222222222222222,\"#3e4989\"],[0.3333333333333333,\"#31688e\"],[0.4444444444444444,\"#26828e\"],[0.5555555555555556,\"#1f9e89\"],[0.6666666666666666,\"#35b779\"],[0.7777777777777778,\"#6ece58\"],[0.8888888888888888,\"#b5de2b\"],[1.0,\"#fde725\"]],\"type\":\"contour\"}],\"heatmapgl\":[{\"colorbar\":{\"outlinewidth\":1,\"tickcolor\":\"rgb(36,36,36)\",\"ticks\":\"outside\"},\"colorscale\":[[0.0,\"#440154\"],[0.1111111111111111,\"#482878\"],[0.2222222222222222,\"#3e4989\"],[0.3333333333333333,\"#31688e\"],[0.4444444444444444,\"#26828e\"],[0.5555555555555556,\"#1f9e89\"],[0.6666666666666666,\"#35b779\"],[0.7777777777777778,\"#6ece58\"],[0.8888888888888888,\"#b5de2b\"],[1.0,\"#fde725\"]],\"type\":\"heatmapgl\"}],\"heatmap\":[{\"colorbar\":{\"outlinewidth\":1,\"tickcolor\":\"rgb(36,36,36)\",\"ticks\":\"outside\"},\"colorscale\":[[0.0,\"#440154\"],[0.1111111111111111,\"#482878\"],[0.2222222222222222,\"#3e4989\"],[0.3333333333333333,\"#31688e\"],[0.4444444444444444,\"#26828e\"],[0.5555555555555556,\"#1f9e89\"],[0.6666666666666666,\"#35b779\"],[0.7777777777777778,\"#6ece58\"],[0.8888888888888888,\"#b5de2b\"],[1.0,\"#fde725\"]],\"type\":\"heatmap\"}],\"histogram2dcontour\":[{\"colorbar\":{\"outlinewidth\":1,\"tickcolor\":\"rgb(36,36,36)\",\"ticks\":\"outside\"},\"colorscale\":[[0.0,\"#440154\"],[0.1111111111111111,\"#482878\"],[0.2222222222222222,\"#3e4989\"],[0.3333333333333333,\"#31688e\"],[0.4444444444444444,\"#26828e\"],[0.5555555555555556,\"#1f9e89\"],[0.6666666666666666,\"#35b779\"],[0.7777777777777778,\"#6ece58\"],[0.8888888888888888,\"#b5de2b\"],[1.0,\"#fde725\"]],\"type\":\"histogram2dcontour\"}],\"histogram2d\":[{\"colorbar\":{\"outlinewidth\":1,\"tickcolor\":\"rgb(36,36,36)\",\"ticks\":\"outside\"},\"colorscale\":[[0.0,\"#440154\"],[0.1111111111111111,\"#482878\"],[0.2222222222222222,\"#3e4989\"],[0.3333333333333333,\"#31688e\"],[0.4444444444444444,\"#26828e\"],[0.5555555555555556,\"#1f9e89\"],[0.6666666666666666,\"#35b779\"],[0.7777777777777778,\"#6ece58\"],[0.8888888888888888,\"#b5de2b\"],[1.0,\"#fde725\"]],\"type\":\"histogram2d\"}],\"histogram\":[{\"marker\":{\"line\":{\"color\":\"white\",\"width\":0.6}},\"type\":\"histogram\"}],\"mesh3d\":[{\"colorbar\":{\"outlinewidth\":1,\"tickcolor\":\"rgb(36,36,36)\",\"ticks\":\"outside\"},\"type\":\"mesh3d\"}],\"parcoords\":[{\"line\":{\"colorbar\":{\"outlinewidth\":1,\"tickcolor\":\"rgb(36,36,36)\",\"ticks\":\"outside\"}},\"type\":\"parcoords\"}],\"pie\":[{\"automargin\":true,\"type\":\"pie\"}],\"scatter3d\":[{\"line\":{\"colorbar\":{\"outlinewidth\":1,\"tickcolor\":\"rgb(36,36,36)\",\"ticks\":\"outside\"}},\"marker\":{\"colorbar\":{\"outlinewidth\":1,\"tickcolor\":\"rgb(36,36,36)\",\"ticks\":\"outside\"}},\"type\":\"scatter3d\"}],\"scattercarpet\":[{\"marker\":{\"colorbar\":{\"outlinewidth\":1,\"tickcolor\":\"rgb(36,36,36)\",\"ticks\":\"outside\"}},\"type\":\"scattercarpet\"}],\"scattergeo\":[{\"marker\":{\"colorbar\":{\"outlinewidth\":1,\"tickcolor\":\"rgb(36,36,36)\",\"ticks\":\"outside\"}},\"type\":\"scattergeo\"}],\"scattergl\":[{\"marker\":{\"colorbar\":{\"outlinewidth\":1,\"tickcolor\":\"rgb(36,36,36)\",\"ticks\":\"outside\"}},\"type\":\"scattergl\"}],\"scattermapbox\":[{\"marker\":{\"colorbar\":{\"outlinewidth\":1,\"tickcolor\":\"rgb(36,36,36)\",\"ticks\":\"outside\"}},\"type\":\"scattermapbox\"}],\"scatterpolargl\":[{\"marker\":{\"colorbar\":{\"outlinewidth\":1,\"tickcolor\":\"rgb(36,36,36)\",\"ticks\":\"outside\"}},\"type\":\"scatterpolargl\"}],\"scatterpolar\":[{\"marker\":{\"colorbar\":{\"outlinewidth\":1,\"tickcolor\":\"rgb(36,36,36)\",\"ticks\":\"outside\"}},\"type\":\"scatterpolar\"}],\"scatter\":[{\"marker\":{\"colorbar\":{\"outlinewidth\":1,\"tickcolor\":\"rgb(36,36,36)\",\"ticks\":\"outside\"}},\"type\":\"scatter\"}],\"scatterternary\":[{\"marker\":{\"colorbar\":{\"outlinewidth\":1,\"tickcolor\":\"rgb(36,36,36)\",\"ticks\":\"outside\"}},\"type\":\"scatterternary\"}],\"surface\":[{\"colorbar\":{\"outlinewidth\":1,\"tickcolor\":\"rgb(36,36,36)\",\"ticks\":\"outside\"},\"colorscale\":[[0.0,\"#440154\"],[0.1111111111111111,\"#482878\"],[0.2222222222222222,\"#3e4989\"],[0.3333333333333333,\"#31688e\"],[0.4444444444444444,\"#26828e\"],[0.5555555555555556,\"#1f9e89\"],[0.6666666666666666,\"#35b779\"],[0.7777777777777778,\"#6ece58\"],[0.8888888888888888,\"#b5de2b\"],[1.0,\"#fde725\"]],\"type\":\"surface\"}],\"table\":[{\"cells\":{\"fill\":{\"color\":\"rgb(237,237,237)\"},\"line\":{\"color\":\"white\"}},\"header\":{\"fill\":{\"color\":\"rgb(217,217,217)\"},\"line\":{\"color\":\"white\"}},\"type\":\"table\"}]},\"layout\":{\"annotationdefaults\":{\"arrowhead\":0,\"arrowwidth\":1},\"autotypenumbers\":\"strict\",\"coloraxis\":{\"colorbar\":{\"outlinewidth\":1,\"tickcolor\":\"rgb(36,36,36)\",\"ticks\":\"outside\"}},\"colorscale\":{\"diverging\":[[0.0,\"rgb(103,0,31)\"],[0.1,\"rgb(178,24,43)\"],[0.2,\"rgb(214,96,77)\"],[0.3,\"rgb(244,165,130)\"],[0.4,\"rgb(253,219,199)\"],[0.5,\"rgb(247,247,247)\"],[0.6,\"rgb(209,229,240)\"],[0.7,\"rgb(146,197,222)\"],[0.8,\"rgb(67,147,195)\"],[0.9,\"rgb(33,102,172)\"],[1.0,\"rgb(5,48,97)\"]],\"sequential\":[[0.0,\"#440154\"],[0.1111111111111111,\"#482878\"],[0.2222222222222222,\"#3e4989\"],[0.3333333333333333,\"#31688e\"],[0.4444444444444444,\"#26828e\"],[0.5555555555555556,\"#1f9e89\"],[0.6666666666666666,\"#35b779\"],[0.7777777777777778,\"#6ece58\"],[0.8888888888888888,\"#b5de2b\"],[1.0,\"#fde725\"]],\"sequentialminus\":[[0.0,\"#440154\"],[0.1111111111111111,\"#482878\"],[0.2222222222222222,\"#3e4989\"],[0.3333333333333333,\"#31688e\"],[0.4444444444444444,\"#26828e\"],[0.5555555555555556,\"#1f9e89\"],[0.6666666666666666,\"#35b779\"],[0.7777777777777778,\"#6ece58\"],[0.8888888888888888,\"#b5de2b\"],[1.0,\"#fde725\"]]},\"colorway\":[\"#1F77B4\",\"#FF7F0E\",\"#2CA02C\",\"#D62728\",\"#9467BD\",\"#8C564B\",\"#E377C2\",\"#7F7F7F\",\"#BCBD22\",\"#17BECF\"],\"font\":{\"color\":\"rgb(36,36,36)\"},\"geo\":{\"bgcolor\":\"white\",\"lakecolor\":\"white\",\"landcolor\":\"white\",\"showlakes\":true,\"showland\":true,\"subunitcolor\":\"white\"},\"hoverlabel\":{\"align\":\"left\"},\"hovermode\":\"closest\",\"mapbox\":{\"style\":\"light\"},\"paper_bgcolor\":\"white\",\"plot_bgcolor\":\"white\",\"polar\":{\"angularaxis\":{\"gridcolor\":\"rgb(232,232,232)\",\"linecolor\":\"rgb(36,36,36)\",\"showgrid\":false,\"showline\":true,\"ticks\":\"outside\"},\"bgcolor\":\"white\",\"radialaxis\":{\"gridcolor\":\"rgb(232,232,232)\",\"linecolor\":\"rgb(36,36,36)\",\"showgrid\":false,\"showline\":true,\"ticks\":\"outside\"}},\"scene\":{\"xaxis\":{\"backgroundcolor\":\"white\",\"gridcolor\":\"rgb(232,232,232)\",\"gridwidth\":2,\"linecolor\":\"rgb(36,36,36)\",\"showbackground\":true,\"showgrid\":false,\"showline\":true,\"ticks\":\"outside\",\"zeroline\":false,\"zerolinecolor\":\"rgb(36,36,36)\"},\"yaxis\":{\"backgroundcolor\":\"white\",\"gridcolor\":\"rgb(232,232,232)\",\"gridwidth\":2,\"linecolor\":\"rgb(36,36,36)\",\"showbackground\":true,\"showgrid\":false,\"showline\":true,\"ticks\":\"outside\",\"zeroline\":false,\"zerolinecolor\":\"rgb(36,36,36)\"},\"zaxis\":{\"backgroundcolor\":\"white\",\"gridcolor\":\"rgb(232,232,232)\",\"gridwidth\":2,\"linecolor\":\"rgb(36,36,36)\",\"showbackground\":true,\"showgrid\":false,\"showline\":true,\"ticks\":\"outside\",\"zeroline\":false,\"zerolinecolor\":\"rgb(36,36,36)\"}},\"shapedefaults\":{\"fillcolor\":\"black\",\"line\":{\"width\":0},\"opacity\":0.3},\"ternary\":{\"aaxis\":{\"gridcolor\":\"rgb(232,232,232)\",\"linecolor\":\"rgb(36,36,36)\",\"showgrid\":false,\"showline\":true,\"ticks\":\"outside\"},\"baxis\":{\"gridcolor\":\"rgb(232,232,232)\",\"linecolor\":\"rgb(36,36,36)\",\"showgrid\":false,\"showline\":true,\"ticks\":\"outside\"},\"bgcolor\":\"white\",\"caxis\":{\"gridcolor\":\"rgb(232,232,232)\",\"linecolor\":\"rgb(36,36,36)\",\"showgrid\":false,\"showline\":true,\"ticks\":\"outside\"}},\"title\":{\"x\":0.05},\"xaxis\":{\"automargin\":true,\"gridcolor\":\"rgb(232,232,232)\",\"linecolor\":\"rgb(36,36,36)\",\"showgrid\":false,\"showline\":true,\"ticks\":\"outside\",\"title\":{\"standoff\":15},\"zeroline\":false,\"zerolinecolor\":\"rgb(36,36,36)\"},\"yaxis\":{\"automargin\":true,\"gridcolor\":\"rgb(232,232,232)\",\"linecolor\":\"rgb(36,36,36)\",\"showgrid\":false,\"showline\":true,\"ticks\":\"outside\",\"title\":{\"standoff\":15},\"zeroline\":false,\"zerolinecolor\":\"rgb(36,36,36)\"}}},\"xaxis\":{\"anchor\":\"y\",\"domain\":[0.0,1.0],\"title\":{\"text\":\"\"},\"visible\":false,\"range\":[-24.314743518829346,33.75621175765991]},\"yaxis\":{\"anchor\":\"x\",\"domain\":[0.0,1.0],\"title\":{\"text\":\"\"},\"visible\":false,\"range\":[-21.901096439361574,36.97514705657959]},\"legend\":{\"tracegroupgap\":0,\"itemsizing\":\"constant\"},\"margin\":{\"t\":60},\"title\":{\"font\":{\"size\":22,\"color\":\"Black\"},\"text\":\"<b>Intertopic Distance Map\",\"y\":0.95,\"x\":0.5,\"xanchor\":\"center\",\"yanchor\":\"top\"},\"hoverlabel\":{\"font\":{\"size\":16,\"family\":\"Rockwell\"},\"bgcolor\":\"white\"},\"width\":650,\"height\":650,\"sliders\":[{\"active\":0,\"pad\":{\"t\":50},\"steps\":[{\"args\":[{\"marker.color\":[[\"red\",\"#B0BEC5\",\"#B0BEC5\",\"#B0BEC5\",\"#B0BEC5\",\"#B0BEC5\",\"#B0BEC5\",\"#B0BEC5\",\"#B0BEC5\",\"#B0BEC5\"]]}],\"label\":\"Topic 0\",\"method\":\"update\"},{\"args\":[{\"marker.color\":[[\"#B0BEC5\",\"red\",\"#B0BEC5\",\"#B0BEC5\",\"#B0BEC5\",\"#B0BEC5\",\"#B0BEC5\",\"#B0BEC5\",\"#B0BEC5\",\"#B0BEC5\"]]}],\"label\":\"Topic 1\",\"method\":\"update\"},{\"args\":[{\"marker.color\":[[\"#B0BEC5\",\"#B0BEC5\",\"red\",\"#B0BEC5\",\"#B0BEC5\",\"#B0BEC5\",\"#B0BEC5\",\"#B0BEC5\",\"#B0BEC5\",\"#B0BEC5\"]]}],\"label\":\"Topic 2\",\"method\":\"update\"},{\"args\":[{\"marker.color\":[[\"#B0BEC5\",\"#B0BEC5\",\"#B0BEC5\",\"red\",\"#B0BEC5\",\"#B0BEC5\",\"#B0BEC5\",\"#B0BEC5\",\"#B0BEC5\",\"#B0BEC5\"]]}],\"label\":\"Topic 3\",\"method\":\"update\"},{\"args\":[{\"marker.color\":[[\"#B0BEC5\",\"#B0BEC5\",\"#B0BEC5\",\"#B0BEC5\",\"red\",\"#B0BEC5\",\"#B0BEC5\",\"#B0BEC5\",\"#B0BEC5\",\"#B0BEC5\"]]}],\"label\":\"Topic 4\",\"method\":\"update\"},{\"args\":[{\"marker.color\":[[\"#B0BEC5\",\"#B0BEC5\",\"#B0BEC5\",\"#B0BEC5\",\"#B0BEC5\",\"red\",\"#B0BEC5\",\"#B0BEC5\",\"#B0BEC5\",\"#B0BEC5\"]]}],\"label\":\"Topic 5\",\"method\":\"update\"},{\"args\":[{\"marker.color\":[[\"#B0BEC5\",\"#B0BEC5\",\"#B0BEC5\",\"#B0BEC5\",\"#B0BEC5\",\"#B0BEC5\",\"red\",\"#B0BEC5\",\"#B0BEC5\",\"#B0BEC5\"]]}],\"label\":\"Topic 6\",\"method\":\"update\"},{\"args\":[{\"marker.color\":[[\"#B0BEC5\",\"#B0BEC5\",\"#B0BEC5\",\"#B0BEC5\",\"#B0BEC5\",\"#B0BEC5\",\"#B0BEC5\",\"red\",\"#B0BEC5\",\"#B0BEC5\"]]}],\"label\":\"Topic 7\",\"method\":\"update\"},{\"args\":[{\"marker.color\":[[\"#B0BEC5\",\"#B0BEC5\",\"#B0BEC5\",\"#B0BEC5\",\"#B0BEC5\",\"#B0BEC5\",\"#B0BEC5\",\"#B0BEC5\",\"red\",\"#B0BEC5\"]]}],\"label\":\"Topic 8\",\"method\":\"update\"},{\"args\":[{\"marker.color\":[[\"#B0BEC5\",\"#B0BEC5\",\"#B0BEC5\",\"#B0BEC5\",\"#B0BEC5\",\"#B0BEC5\",\"#B0BEC5\",\"#B0BEC5\",\"#B0BEC5\",\"red\"]]}],\"label\":\"Topic 9\",\"method\":\"update\"}]}],\"shapes\":[{\"line\":{\"color\":\"#CFD8DC\",\"width\":2},\"type\":\"line\",\"x0\":4.720734119415283,\"x1\":4.720734119415283,\"y0\":-21.901096439361574,\"y1\":36.97514705657959},{\"line\":{\"color\":\"#9E9E9E\",\"width\":2},\"type\":\"line\",\"x0\":-24.314743518829346,\"x1\":33.75621175765991,\"y0\":7.537025308609007,\"y1\":7.537025308609007}],\"annotations\":[{\"showarrow\":false,\"text\":\"D1\",\"x\":-24.314743518829346,\"y\":7.537025308609007,\"yshift\":10},{\"showarrow\":false,\"text\":\"D2\",\"x\":4.720734119415283,\"xshift\":10,\"y\":36.97514705657959}]},                        {\"responsive\": true}                    ).then(function(){\n",
              "                            \n",
              "var gd = document.getElementById('f80819b0-e42b-41cb-b80d-d1a6e080ec1a');\n",
              "var x = new MutationObserver(function (mutations, observer) {{\n",
              "        var display = window.getComputedStyle(gd).display;\n",
              "        if (!display || display === 'none') {{\n",
              "            console.log([gd, 'removed!']);\n",
              "            Plotly.purge(gd);\n",
              "            observer.disconnect();\n",
              "        }}\n",
              "}});\n",
              "\n",
              "// Listen for the removal of the full notebook cells\n",
              "var notebookContainer = gd.closest('#notebook-container');\n",
              "if (notebookContainer) {{\n",
              "    x.observe(notebookContainer, {childList: true});\n",
              "}}\n",
              "\n",
              "// Listen for the clearing of the current output cell\n",
              "var outputEl = gd.closest('.output');\n",
              "if (outputEl) {{\n",
              "    x.observe(outputEl, {childList: true});\n",
              "}}\n",
              "\n",
              "                        })                };                            </script>        </div>\n",
              "</body>\n",
              "</html>"
            ]
          },
          "metadata": {}
        }
      ]
    },
    {
      "cell_type": "code",
      "source": [
        "model.visualize_barchart(n_words=10,top_n_topics=10)"
      ],
      "metadata": {
        "colab": {
          "base_uri": "https://localhost:8080/",
          "height": 767
        },
        "id": "kfBCmLRKbPNL",
        "outputId": "f553c0ad-467f-4152-8884-b631b141bd62"
      },
      "execution_count": 110,
      "outputs": [
        {
          "output_type": "display_data",
          "data": {
            "text/html": [
              "<html>\n",
              "<head><meta charset=\"utf-8\" /></head>\n",
              "<body>\n",
              "    <div>            <script src=\"https://cdnjs.cloudflare.com/ajax/libs/mathjax/2.7.5/MathJax.js?config=TeX-AMS-MML_SVG\"></script><script type=\"text/javascript\">if (window.MathJax) {MathJax.Hub.Config({SVG: {font: \"STIX-Web\"}});}</script>                <script type=\"text/javascript\">window.PlotlyConfig = {MathJaxConfig: 'local'};</script>\n",
              "        <script src=\"https://cdn.plot.ly/plotly-2.8.3.min.js\"></script>                <div id=\"126f78e7-995d-40e0-b513-f429794dc698\" class=\"plotly-graph-div\" style=\"height:750px; width:1000px;\"></div>            <script type=\"text/javascript\">                                    window.PLOTLYENV=window.PLOTLYENV || {};                                    if (document.getElementById(\"126f78e7-995d-40e0-b513-f429794dc698\")) {                    Plotly.newPlot(                        \"126f78e7-995d-40e0-b513-f429794dc698\",                        [{\"marker\":{\"color\":\"#D55E00\"},\"orientation\":\"h\",\"x\":[0.014824349786827621,0.01500295307746116,0.015398959319157147,0.015822839146228007,0.01605234840377526,0.01627919530368685,0.022241022624019457,0.02341769784321945,0.04381891120751896,0.046099121137810735],\"y\":[\"told  \",\"home  \",\"shot  \",\"child  \",\"family  \",\"county  \",\"shooting  \",\"officer  \",\"police  \",\"said  \"],\"type\":\"bar\",\"xaxis\":\"x\",\"yaxis\":\"y\"},{\"marker\":{\"color\":\"#0072B2\"},\"orientation\":\"h\",\"x\":[0.011040059805072791,0.011152978373881843,0.01123217654861226,0.012452735794357728,0.012799103930682695,0.013516630283582834,0.01862885878049164,0.0211787781807344,0.023178603542653428,0.02424680271722442],\"y\":[\"make  \",\"star  \",\"woman  \",\"year  \",\"character  \",\"time  \",\"like  \",\"show  \",\"movie  \",\"film  \"],\"type\":\"bar\",\"xaxis\":\"x2\",\"yaxis\":\"y2\"},{\"marker\":{\"color\":\"#CC79A7\"},\"orientation\":\"h\",\"x\":[0.019830421742460125,0.020403687515482976,0.022053561442846526,0.023569889328792733,0.025332100089005848,0.026848774679588225,0.028479818930209636,0.02920997131106535,0.03609297768796308,0.04680245153246343],\"y\":[\"governor  \",\"would  \",\"voter  \",\"said  \",\"candidate  \",\"state  \",\"republican  \",\"campaign  \",\"trump  \",\"romney  \"],\"type\":\"bar\",\"xaxis\":\"x3\",\"yaxis\":\"y3\"},{\"marker\":{\"color\":\"#E69F00\"},\"orientation\":\"h\",\"x\":[0.014081800670966942,0.015026284001508041,0.015363520767932194,0.015437596243257938,0.016089189810566243,0.01765362802195085,0.017863828637921624,0.027618272202813356,0.028263095189522372,0.0320478050975269],\"y\":[\"band  \",\"time  \",\"singer  \",\"year  \",\"show  \",\"bieber  \",\"like  \",\"song  \",\"album  \",\"music  \"],\"type\":\"bar\",\"xaxis\":\"x4\",\"yaxis\":\"y4\"},{\"marker\":{\"color\":\"#56B4E9\"},\"orientation\":\"h\",\"x\":[0.01825024434735998,0.019381282375257287,0.021223515678948604,0.022515933712185833,0.024455103230640752,0.027131493613867127,0.028236966974415554,0.03202978421730226,0.03626157368839,0.08774782541293595],\"y\":[\"cohen  \",\"donald  \",\"mueller  \",\"campaign  \",\"white  \",\"house  \",\"said  \",\"clinton  \",\"president  \",\"trump  \"],\"type\":\"bar\",\"xaxis\":\"x5\",\"yaxis\":\"y5\"},{\"marker\":{\"color\":\"#009E73\"},\"orientation\":\"h\",\"x\":[0.015104240432137945,0.01589720355074994,0.015919688608780104,0.016746636437174577,0.01766474004379373,0.019309716930281332,0.020882128150855342,0.03084469649746814,0.05494490008455606,0.05836228171310796],\"y\":[\"campus  \",\"year  \",\"rape  \",\"sexual  \",\"teacher  \",\"college  \",\"university  \",\"said  \",\"school  \",\"student  \"],\"type\":\"bar\",\"xaxis\":\"x6\",\"yaxis\":\"y6\"},{\"marker\":{\"color\":\"#F0E442\"},\"orientation\":\"h\",\"x\":[0.014392283276255607,0.014451002801240186,0.015377982242437973,0.01557272156282339,0.015625431565518346,0.01660373151973376,0.01810959778379282,0.01885181880228883,0.019079316069437285,0.04192034891818088],\"y\":[\"milk  \",\"beer  \",\"fruit  \",\"product  \",\"juice  \",\"sugar  \",\"study  \",\"more  \",\"diet  \",\"food  \"],\"type\":\"bar\",\"xaxis\":\"x7\",\"yaxis\":\"y7\"},{\"marker\":{\"color\":\"#D55E00\"},\"orientation\":\"h\",\"x\":[0.01733162787871303,0.018250883598770383,0.01873995353506447,0.018831483189483886,0.01993181203295811,0.020851021316518736,0.02139228922942013,0.022203464028630188,0.023288591435115993,0.04546752124373333],\"y\":[\"transplant  \",\"katie  \",\"patient  \",\"birth  \",\"hospital  \",\"doctor  \",\"woman  \",\"baby  \",\"said  \",\"cancer  \"],\"type\":\"bar\",\"xaxis\":\"x8\",\"yaxis\":\"y8\"},{\"marker\":{\"color\":\"#0072B2\"},\"orientation\":\"h\",\"x\":[0.020475224707995697,0.02117781484531006,0.023755803909509376,0.025811432218320912,0.026638178917175796,0.028559524931758694,0.03575172520194604,0.039865852978541304,0.0470566825574712,0.05514001410162646],\"y\":[\"city  \",\"iraq  \",\"government  \",\"assad  \",\"force  \",\"isis  \",\"rebel  \",\"said  \",\"syrian  \",\"syria  \"],\"type\":\"bar\",\"xaxis\":\"x9\",\"yaxis\":\"y9\"},{\"marker\":{\"color\":\"#CC79A7\"},\"orientation\":\"h\",\"x\":[0.01790494505312748,0.019196729032045078,0.019300558032463028,0.019896334762431217,0.02083987991147274,0.021159848565221913,0.022542478791757196,0.023484536237479127,0.02614200896859912,0.0342468252269315],\"y\":[\"church  \",\"said  \",\"ariana  \",\"scientology  \",\"kardashian  \",\"divorce  \",\"remini  \",\"pete  \",\"couple  \",\"wedding  \"],\"type\":\"bar\",\"xaxis\":\"x10\",\"yaxis\":\"y10\"}],                        {\"template\":{\"data\":{\"barpolar\":[{\"marker\":{\"line\":{\"color\":\"white\",\"width\":0.5},\"pattern\":{\"fillmode\":\"overlay\",\"size\":10,\"solidity\":0.2}},\"type\":\"barpolar\"}],\"bar\":[{\"error_x\":{\"color\":\"#2a3f5f\"},\"error_y\":{\"color\":\"#2a3f5f\"},\"marker\":{\"line\":{\"color\":\"white\",\"width\":0.5},\"pattern\":{\"fillmode\":\"overlay\",\"size\":10,\"solidity\":0.2}},\"type\":\"bar\"}],\"carpet\":[{\"aaxis\":{\"endlinecolor\":\"#2a3f5f\",\"gridcolor\":\"#C8D4E3\",\"linecolor\":\"#C8D4E3\",\"minorgridcolor\":\"#C8D4E3\",\"startlinecolor\":\"#2a3f5f\"},\"baxis\":{\"endlinecolor\":\"#2a3f5f\",\"gridcolor\":\"#C8D4E3\",\"linecolor\":\"#C8D4E3\",\"minorgridcolor\":\"#C8D4E3\",\"startlinecolor\":\"#2a3f5f\"},\"type\":\"carpet\"}],\"choropleth\":[{\"colorbar\":{\"outlinewidth\":0,\"ticks\":\"\"},\"type\":\"choropleth\"}],\"contourcarpet\":[{\"colorbar\":{\"outlinewidth\":0,\"ticks\":\"\"},\"type\":\"contourcarpet\"}],\"contour\":[{\"colorbar\":{\"outlinewidth\":0,\"ticks\":\"\"},\"colorscale\":[[0.0,\"#0d0887\"],[0.1111111111111111,\"#46039f\"],[0.2222222222222222,\"#7201a8\"],[0.3333333333333333,\"#9c179e\"],[0.4444444444444444,\"#bd3786\"],[0.5555555555555556,\"#d8576b\"],[0.6666666666666666,\"#ed7953\"],[0.7777777777777778,\"#fb9f3a\"],[0.8888888888888888,\"#fdca26\"],[1.0,\"#f0f921\"]],\"type\":\"contour\"}],\"heatmapgl\":[{\"colorbar\":{\"outlinewidth\":0,\"ticks\":\"\"},\"colorscale\":[[0.0,\"#0d0887\"],[0.1111111111111111,\"#46039f\"],[0.2222222222222222,\"#7201a8\"],[0.3333333333333333,\"#9c179e\"],[0.4444444444444444,\"#bd3786\"],[0.5555555555555556,\"#d8576b\"],[0.6666666666666666,\"#ed7953\"],[0.7777777777777778,\"#fb9f3a\"],[0.8888888888888888,\"#fdca26\"],[1.0,\"#f0f921\"]],\"type\":\"heatmapgl\"}],\"heatmap\":[{\"colorbar\":{\"outlinewidth\":0,\"ticks\":\"\"},\"colorscale\":[[0.0,\"#0d0887\"],[0.1111111111111111,\"#46039f\"],[0.2222222222222222,\"#7201a8\"],[0.3333333333333333,\"#9c179e\"],[0.4444444444444444,\"#bd3786\"],[0.5555555555555556,\"#d8576b\"],[0.6666666666666666,\"#ed7953\"],[0.7777777777777778,\"#fb9f3a\"],[0.8888888888888888,\"#fdca26\"],[1.0,\"#f0f921\"]],\"type\":\"heatmap\"}],\"histogram2dcontour\":[{\"colorbar\":{\"outlinewidth\":0,\"ticks\":\"\"},\"colorscale\":[[0.0,\"#0d0887\"],[0.1111111111111111,\"#46039f\"],[0.2222222222222222,\"#7201a8\"],[0.3333333333333333,\"#9c179e\"],[0.4444444444444444,\"#bd3786\"],[0.5555555555555556,\"#d8576b\"],[0.6666666666666666,\"#ed7953\"],[0.7777777777777778,\"#fb9f3a\"],[0.8888888888888888,\"#fdca26\"],[1.0,\"#f0f921\"]],\"type\":\"histogram2dcontour\"}],\"histogram2d\":[{\"colorbar\":{\"outlinewidth\":0,\"ticks\":\"\"},\"colorscale\":[[0.0,\"#0d0887\"],[0.1111111111111111,\"#46039f\"],[0.2222222222222222,\"#7201a8\"],[0.3333333333333333,\"#9c179e\"],[0.4444444444444444,\"#bd3786\"],[0.5555555555555556,\"#d8576b\"],[0.6666666666666666,\"#ed7953\"],[0.7777777777777778,\"#fb9f3a\"],[0.8888888888888888,\"#fdca26\"],[1.0,\"#f0f921\"]],\"type\":\"histogram2d\"}],\"histogram\":[{\"marker\":{\"pattern\":{\"fillmode\":\"overlay\",\"size\":10,\"solidity\":0.2}},\"type\":\"histogram\"}],\"mesh3d\":[{\"colorbar\":{\"outlinewidth\":0,\"ticks\":\"\"},\"type\":\"mesh3d\"}],\"parcoords\":[{\"line\":{\"colorbar\":{\"outlinewidth\":0,\"ticks\":\"\"}},\"type\":\"parcoords\"}],\"pie\":[{\"automargin\":true,\"type\":\"pie\"}],\"scatter3d\":[{\"line\":{\"colorbar\":{\"outlinewidth\":0,\"ticks\":\"\"}},\"marker\":{\"colorbar\":{\"outlinewidth\":0,\"ticks\":\"\"}},\"type\":\"scatter3d\"}],\"scattercarpet\":[{\"marker\":{\"colorbar\":{\"outlinewidth\":0,\"ticks\":\"\"}},\"type\":\"scattercarpet\"}],\"scattergeo\":[{\"marker\":{\"colorbar\":{\"outlinewidth\":0,\"ticks\":\"\"}},\"type\":\"scattergeo\"}],\"scattergl\":[{\"marker\":{\"colorbar\":{\"outlinewidth\":0,\"ticks\":\"\"}},\"type\":\"scattergl\"}],\"scattermapbox\":[{\"marker\":{\"colorbar\":{\"outlinewidth\":0,\"ticks\":\"\"}},\"type\":\"scattermapbox\"}],\"scatterpolargl\":[{\"marker\":{\"colorbar\":{\"outlinewidth\":0,\"ticks\":\"\"}},\"type\":\"scatterpolargl\"}],\"scatterpolar\":[{\"marker\":{\"colorbar\":{\"outlinewidth\":0,\"ticks\":\"\"}},\"type\":\"scatterpolar\"}],\"scatter\":[{\"marker\":{\"colorbar\":{\"outlinewidth\":0,\"ticks\":\"\"}},\"type\":\"scatter\"}],\"scatterternary\":[{\"marker\":{\"colorbar\":{\"outlinewidth\":0,\"ticks\":\"\"}},\"type\":\"scatterternary\"}],\"surface\":[{\"colorbar\":{\"outlinewidth\":0,\"ticks\":\"\"},\"colorscale\":[[0.0,\"#0d0887\"],[0.1111111111111111,\"#46039f\"],[0.2222222222222222,\"#7201a8\"],[0.3333333333333333,\"#9c179e\"],[0.4444444444444444,\"#bd3786\"],[0.5555555555555556,\"#d8576b\"],[0.6666666666666666,\"#ed7953\"],[0.7777777777777778,\"#fb9f3a\"],[0.8888888888888888,\"#fdca26\"],[1.0,\"#f0f921\"]],\"type\":\"surface\"}],\"table\":[{\"cells\":{\"fill\":{\"color\":\"#EBF0F8\"},\"line\":{\"color\":\"white\"}},\"header\":{\"fill\":{\"color\":\"#C8D4E3\"},\"line\":{\"color\":\"white\"}},\"type\":\"table\"}]},\"layout\":{\"annotationdefaults\":{\"arrowcolor\":\"#2a3f5f\",\"arrowhead\":0,\"arrowwidth\":1},\"autotypenumbers\":\"strict\",\"coloraxis\":{\"colorbar\":{\"outlinewidth\":0,\"ticks\":\"\"}},\"colorscale\":{\"diverging\":[[0,\"#8e0152\"],[0.1,\"#c51b7d\"],[0.2,\"#de77ae\"],[0.3,\"#f1b6da\"],[0.4,\"#fde0ef\"],[0.5,\"#f7f7f7\"],[0.6,\"#e6f5d0\"],[0.7,\"#b8e186\"],[0.8,\"#7fbc41\"],[0.9,\"#4d9221\"],[1,\"#276419\"]],\"sequential\":[[0.0,\"#0d0887\"],[0.1111111111111111,\"#46039f\"],[0.2222222222222222,\"#7201a8\"],[0.3333333333333333,\"#9c179e\"],[0.4444444444444444,\"#bd3786\"],[0.5555555555555556,\"#d8576b\"],[0.6666666666666666,\"#ed7953\"],[0.7777777777777778,\"#fb9f3a\"],[0.8888888888888888,\"#fdca26\"],[1.0,\"#f0f921\"]],\"sequentialminus\":[[0.0,\"#0d0887\"],[0.1111111111111111,\"#46039f\"],[0.2222222222222222,\"#7201a8\"],[0.3333333333333333,\"#9c179e\"],[0.4444444444444444,\"#bd3786\"],[0.5555555555555556,\"#d8576b\"],[0.6666666666666666,\"#ed7953\"],[0.7777777777777778,\"#fb9f3a\"],[0.8888888888888888,\"#fdca26\"],[1.0,\"#f0f921\"]]},\"colorway\":[\"#636efa\",\"#EF553B\",\"#00cc96\",\"#ab63fa\",\"#FFA15A\",\"#19d3f3\",\"#FF6692\",\"#B6E880\",\"#FF97FF\",\"#FECB52\"],\"font\":{\"color\":\"#2a3f5f\"},\"geo\":{\"bgcolor\":\"white\",\"lakecolor\":\"white\",\"landcolor\":\"white\",\"showlakes\":true,\"showland\":true,\"subunitcolor\":\"#C8D4E3\"},\"hoverlabel\":{\"align\":\"left\"},\"hovermode\":\"closest\",\"mapbox\":{\"style\":\"light\"},\"paper_bgcolor\":\"white\",\"plot_bgcolor\":\"white\",\"polar\":{\"angularaxis\":{\"gridcolor\":\"#EBF0F8\",\"linecolor\":\"#EBF0F8\",\"ticks\":\"\"},\"bgcolor\":\"white\",\"radialaxis\":{\"gridcolor\":\"#EBF0F8\",\"linecolor\":\"#EBF0F8\",\"ticks\":\"\"}},\"scene\":{\"xaxis\":{\"backgroundcolor\":\"white\",\"gridcolor\":\"#DFE8F3\",\"gridwidth\":2,\"linecolor\":\"#EBF0F8\",\"showbackground\":true,\"ticks\":\"\",\"zerolinecolor\":\"#EBF0F8\"},\"yaxis\":{\"backgroundcolor\":\"white\",\"gridcolor\":\"#DFE8F3\",\"gridwidth\":2,\"linecolor\":\"#EBF0F8\",\"showbackground\":true,\"ticks\":\"\",\"zerolinecolor\":\"#EBF0F8\"},\"zaxis\":{\"backgroundcolor\":\"white\",\"gridcolor\":\"#DFE8F3\",\"gridwidth\":2,\"linecolor\":\"#EBF0F8\",\"showbackground\":true,\"ticks\":\"\",\"zerolinecolor\":\"#EBF0F8\"}},\"shapedefaults\":{\"line\":{\"color\":\"#2a3f5f\"}},\"ternary\":{\"aaxis\":{\"gridcolor\":\"#DFE8F3\",\"linecolor\":\"#A2B1C6\",\"ticks\":\"\"},\"baxis\":{\"gridcolor\":\"#DFE8F3\",\"linecolor\":\"#A2B1C6\",\"ticks\":\"\"},\"bgcolor\":\"white\",\"caxis\":{\"gridcolor\":\"#DFE8F3\",\"linecolor\":\"#A2B1C6\",\"ticks\":\"\"}},\"title\":{\"x\":0.05},\"xaxis\":{\"automargin\":true,\"gridcolor\":\"#EBF0F8\",\"linecolor\":\"#EBF0F8\",\"ticks\":\"\",\"title\":{\"standoff\":15},\"zerolinecolor\":\"#EBF0F8\",\"zerolinewidth\":2},\"yaxis\":{\"automargin\":true,\"gridcolor\":\"#EBF0F8\",\"linecolor\":\"#EBF0F8\",\"ticks\":\"\",\"title\":{\"standoff\":15},\"zerolinecolor\":\"#EBF0F8\",\"zerolinewidth\":2}}},\"xaxis\":{\"anchor\":\"y\",\"domain\":[0.0,0.175],\"showgrid\":true},\"yaxis\":{\"anchor\":\"x\",\"domain\":[0.7555555555555555,1.0],\"showgrid\":true},\"xaxis2\":{\"anchor\":\"y2\",\"domain\":[0.275,0.45],\"showgrid\":true},\"yaxis2\":{\"anchor\":\"x2\",\"domain\":[0.7555555555555555,1.0],\"showgrid\":true},\"xaxis3\":{\"anchor\":\"y3\",\"domain\":[0.55,0.7250000000000001],\"showgrid\":true},\"yaxis3\":{\"anchor\":\"x3\",\"domain\":[0.7555555555555555,1.0],\"showgrid\":true},\"xaxis4\":{\"anchor\":\"y4\",\"domain\":[0.825,1.0],\"showgrid\":true},\"yaxis4\":{\"anchor\":\"x4\",\"domain\":[0.7555555555555555,1.0],\"showgrid\":true},\"xaxis5\":{\"anchor\":\"y5\",\"domain\":[0.0,0.175],\"showgrid\":true},\"yaxis5\":{\"anchor\":\"x5\",\"domain\":[0.37777777777777777,0.6222222222222222],\"showgrid\":true},\"xaxis6\":{\"anchor\":\"y6\",\"domain\":[0.275,0.45],\"showgrid\":true},\"yaxis6\":{\"anchor\":\"x6\",\"domain\":[0.37777777777777777,0.6222222222222222],\"showgrid\":true},\"xaxis7\":{\"anchor\":\"y7\",\"domain\":[0.55,0.7250000000000001],\"showgrid\":true},\"yaxis7\":{\"anchor\":\"x7\",\"domain\":[0.37777777777777777,0.6222222222222222],\"showgrid\":true},\"xaxis8\":{\"anchor\":\"y8\",\"domain\":[0.825,1.0],\"showgrid\":true},\"yaxis8\":{\"anchor\":\"x8\",\"domain\":[0.37777777777777777,0.6222222222222222],\"showgrid\":true},\"xaxis9\":{\"anchor\":\"y9\",\"domain\":[0.0,0.175],\"showgrid\":true},\"yaxis9\":{\"anchor\":\"x9\",\"domain\":[0.0,0.24444444444444446],\"showgrid\":true},\"xaxis10\":{\"anchor\":\"y10\",\"domain\":[0.275,0.45],\"showgrid\":true},\"yaxis10\":{\"anchor\":\"x10\",\"domain\":[0.0,0.24444444444444446],\"showgrid\":true},\"xaxis11\":{\"anchor\":\"y11\",\"domain\":[0.55,0.7250000000000001],\"showgrid\":true},\"yaxis11\":{\"anchor\":\"x11\",\"domain\":[0.0,0.24444444444444446],\"showgrid\":true},\"xaxis12\":{\"anchor\":\"y12\",\"domain\":[0.825,1.0],\"showgrid\":true},\"yaxis12\":{\"anchor\":\"x12\",\"domain\":[0.0,0.24444444444444446],\"showgrid\":true},\"annotations\":[{\"font\":{\"size\":16},\"showarrow\":false,\"text\":\"Topic 0\",\"x\":0.0875,\"xanchor\":\"center\",\"xref\":\"paper\",\"y\":1.0,\"yanchor\":\"bottom\",\"yref\":\"paper\"},{\"font\":{\"size\":16},\"showarrow\":false,\"text\":\"Topic 1\",\"x\":0.36250000000000004,\"xanchor\":\"center\",\"xref\":\"paper\",\"y\":1.0,\"yanchor\":\"bottom\",\"yref\":\"paper\"},{\"font\":{\"size\":16},\"showarrow\":false,\"text\":\"Topic 2\",\"x\":0.6375000000000001,\"xanchor\":\"center\",\"xref\":\"paper\",\"y\":1.0,\"yanchor\":\"bottom\",\"yref\":\"paper\"},{\"font\":{\"size\":16},\"showarrow\":false,\"text\":\"Topic 3\",\"x\":0.9125,\"xanchor\":\"center\",\"xref\":\"paper\",\"y\":1.0,\"yanchor\":\"bottom\",\"yref\":\"paper\"},{\"font\":{\"size\":16},\"showarrow\":false,\"text\":\"Topic 4\",\"x\":0.0875,\"xanchor\":\"center\",\"xref\":\"paper\",\"y\":0.6222222222222222,\"yanchor\":\"bottom\",\"yref\":\"paper\"},{\"font\":{\"size\":16},\"showarrow\":false,\"text\":\"Topic 5\",\"x\":0.36250000000000004,\"xanchor\":\"center\",\"xref\":\"paper\",\"y\":0.6222222222222222,\"yanchor\":\"bottom\",\"yref\":\"paper\"},{\"font\":{\"size\":16},\"showarrow\":false,\"text\":\"Topic 6\",\"x\":0.6375000000000001,\"xanchor\":\"center\",\"xref\":\"paper\",\"y\":0.6222222222222222,\"yanchor\":\"bottom\",\"yref\":\"paper\"},{\"font\":{\"size\":16},\"showarrow\":false,\"text\":\"Topic 7\",\"x\":0.9125,\"xanchor\":\"center\",\"xref\":\"paper\",\"y\":0.6222222222222222,\"yanchor\":\"bottom\",\"yref\":\"paper\"},{\"font\":{\"size\":16},\"showarrow\":false,\"text\":\"Topic 8\",\"x\":0.0875,\"xanchor\":\"center\",\"xref\":\"paper\",\"y\":0.24444444444444446,\"yanchor\":\"bottom\",\"yref\":\"paper\"},{\"font\":{\"size\":16},\"showarrow\":false,\"text\":\"Topic 9\",\"x\":0.36250000000000004,\"xanchor\":\"center\",\"xref\":\"paper\",\"y\":0.24444444444444446,\"yanchor\":\"bottom\",\"yref\":\"paper\"}],\"title\":{\"font\":{\"size\":22,\"color\":\"Black\"},\"text\":\"<b>Topic Word Scores\",\"x\":0.5,\"xanchor\":\"center\",\"yanchor\":\"top\"},\"hoverlabel\":{\"font\":{\"size\":16,\"family\":\"Rockwell\"},\"bgcolor\":\"white\"},\"showlegend\":false,\"width\":1000,\"height\":750},                        {\"responsive\": true}                    ).then(function(){\n",
              "                            \n",
              "var gd = document.getElementById('126f78e7-995d-40e0-b513-f429794dc698');\n",
              "var x = new MutationObserver(function (mutations, observer) {{\n",
              "        var display = window.getComputedStyle(gd).display;\n",
              "        if (!display || display === 'none') {{\n",
              "            console.log([gd, 'removed!']);\n",
              "            Plotly.purge(gd);\n",
              "            observer.disconnect();\n",
              "        }}\n",
              "}});\n",
              "\n",
              "// Listen for the removal of the full notebook cells\n",
              "var notebookContainer = gd.closest('#notebook-container');\n",
              "if (notebookContainer) {{\n",
              "    x.observe(notebookContainer, {childList: true});\n",
              "}}\n",
              "\n",
              "// Listen for the clearing of the current output cell\n",
              "var outputEl = gd.closest('.output');\n",
              "if (outputEl) {{\n",
              "    x.observe(outputEl, {childList: true});\n",
              "}}\n",
              "\n",
              "                        })                };                            </script>        </div>\n",
              "</body>\n",
              "</html>"
            ]
          },
          "metadata": {}
        }
      ]
    },
    {
      "cell_type": "markdown",
      "metadata": {
        "id": "bkeWRz1D2nt2"
      },
      "source": [
        "## (5) (10 extra points) Compare the results generated by the four topic modeling algorithms, which one is better? You should explain the reasons in details."
      ]
    },
    {
      "cell_type": "code",
      "execution_count": 120,
      "metadata": {
        "id": "VR2oDM9b2nt2"
      },
      "outputs": [],
      "source": [
        "coherencemodel = CoherenceModel(model=lda, texts=texts, dictionary=dictionary, coherence='c_v')\n",
        "coh_lda=coherencemodel.get_coherence()\n"
      ]
    },
    {
      "cell_type": "code",
      "source": [
        "coherencemodel2=CoherenceModel(model=lsa, texts=texts, dictionary=dictionary, coherence='c_v')\n",
        "coh_lsa=coherencemodel.get_coherence()"
      ],
      "metadata": {
        "id": "A5rtCtjNitOK"
      },
      "execution_count": 119,
      "outputs": []
    },
    {
      "cell_type": "code",
      "source": [
        "coherence=['LDA','LSA']\n",
        "value=[coh_lda,coh_lsa]\n",
        "plt.bar(coherence,value)\n",
        "plt.xlabel('Algorithms')\n",
        "plt.ylabel('Coherence Score')\n",
        "plt.title('Comparision between LDA and LSA')\n",
        "plt.show()"
      ],
      "metadata": {
        "colab": {
          "base_uri": "https://localhost:8080/",
          "height": 295
        },
        "id": "6sK0ixR9sf8f",
        "outputId": "d060a942-b28c-45dc-8ec5-3e28e390962f"
      },
      "execution_count": 125,
      "outputs": [
        {
          "output_type": "display_data",
          "data": {
            "text/plain": [
              "<Figure size 432x288 with 1 Axes>"
            ],
            "image/png": "[encoded data removed]"
          },
          "metadata": {
            "needs_background": "light"
          }
        }
      ]
    }
  ],
  "metadata": {
    "accelerator": "GPU",
    "colab": {
      "name": "In-class-exercise-04-2.ipynb",
      "provenance": [],
      "collapsed_sections": []
    },
    "kernelspec": {
      "display_name": "Python 3 (ipykernel)",
      "language": "python",
      "name": "python3"
    },
    "language_info": {
      "codemirror_mode": {
        "name": "ipython",
        "version": 3
      },
      "file_extension": ".py",
      "mimetype": "text/x-python",
      "name": "python",
      "nbconvert_exporter": "python",
      "pygments_lexer": "ipython3",
      "version": "3.9.7"
    },
    "widgets": {
      "application/vnd.jupyter.widget-state+json": {
        "00ef7b60ffcb414d839132ca26942f31": {
          "model_module": "@jupyter-widgets/base",
          "model_module_version": "1.2.0",
          "model_name": "LayoutModel",
          "state": {
            "_model_module": "@jupyter-widgets/base",
            "_model_module_version": "1.2.0",
            "_model_name": "LayoutModel",
            "_view_count": null,
            "_view_module": "@jupyter-widgets/base",
            "_view_module_version": "1.2.0",
            "_view_name": "LayoutView",
            "align_content": null,
            "align_items": null,
            "align_self": null,
            "border": null,
            "bottom": null,
            "display": null,
            "flex": null,
            "flex_flow": null,
            "grid_area": null,
            "grid_auto_columns": null,
            "grid_auto_flow": null,
            "grid_auto_rows": null,
            "grid_column": null,
            "grid_gap": null,
            "grid_row": null,
            "grid_template_areas": null,
            "grid_template_columns": null,
            "grid_template_rows": null,
            "height": null,
            "justify_content": null,
            "justify_items": null,
            "left": null,
            "margin": null,
            "max_height": null,
            "max_width": null,
            "min_height": null,
            "min_width": null,
            "object_fit": null,
            "object_position": null,
            "order": null,
            "overflow": null,
            "overflow_x": null,
            "overflow_y": null,
            "padding": null,
            "right": null,
            "top": null,
            "visibility": null,
            "width": null
          }
        },
        "01835e3c2ffa4e4981ead5dfc6be669b": {
          "model_module": "@jupyter-widgets/controls",
          "model_module_version": "1.5.0",
          "model_name": "FloatProgressModel",
          "state": {
            "_dom_classes": [],
            "_model_module": "@jupyter-widgets/controls",
            "_model_module_version": "1.5.0",
            "_model_name": "FloatProgressModel",
            "_view_count": null,
            "_view_module": "@jupyter-widgets/controls",
            "_view_module_version": "1.5.0",
            "_view_name": "ProgressView",
            "bar_style": "success",
            "description": "",
            "description_tooltip": null,
            "layout": "IPY_MODEL_1bc00a13a1e646ed90883eb07f94b2d6",
            "max": 256966232,
            "min": 0,
            "orientation": "horizontal",
            "style": "IPY_MODEL_c44346ca9af145008153b36be31a4ef8",
            "value": 256966232
          }
        },
        "02c67bc3854a4603b536177386e061fa": {
          "model_module": "@jupyter-widgets/controls",
          "model_module_version": "1.5.0",
          "model_name": "ProgressStyleModel",
          "state": {
            "_model_module": "@jupyter-widgets/controls",
            "_model_module_version": "1.5.0",
            "_model_name": "ProgressStyleModel",
            "_view_count": null,
            "_view_module": "@jupyter-widgets/base",
            "_view_module_version": "1.2.0",
            "_view_name": "StyleView",
            "bar_color": null,
            "description_width": ""
          }
        },
        "0759b1dba2be400dae3587b4137aa532": {
          "model_module": "@jupyter-widgets/controls",
          "model_module_version": "1.5.0",
          "model_name": "ProgressStyleModel",
          "state": {
            "_model_module": "@jupyter-widgets/controls",
            "_model_module_version": "1.5.0",
            "_model_name": "ProgressStyleModel",
            "_view_count": null,
            "_view_module": "@jupyter-widgets/base",
            "_view_module_version": "1.2.0",
            "_view_name": "StyleView",
            "bar_color": null,
            "description_width": ""
          }
        },
        "0bbea2bd26964d4bae6ef4d575c755c2": {
          "model_module": "@jupyter-widgets/controls",
          "model_module_version": "1.5.0",
          "model_name": "DescriptionStyleModel",
          "state": {
            "_model_module": "@jupyter-widgets/controls",
            "_model_module_version": "1.5.0",
            "_model_name": "DescriptionStyleModel",
            "_view_count": null,
            "_view_module": "@jupyter-widgets/base",
            "_view_module_version": "1.2.0",
            "_view_name": "StyleView",
            "description_width": ""
          }
        },
        "0f0b81cda7774233b455707d5e5174b6": {
          "model_module": "@jupyter-widgets/controls",
          "model_module_version": "1.5.0",
          "model_name": "FloatProgressModel",
          "state": {
            "_dom_classes": [],
            "_model_module": "@jupyter-widgets/controls",
            "_model_module_version": "1.5.0",
            "_model_name": "FloatProgressModel",
            "_view_count": null,
            "_view_module": "@jupyter-widgets/controls",
            "_view_module_version": "1.5.0",
            "_view_name": "ProgressView",
            "bar_style": "success",
            "description": "",
            "description_tooltip": null,
            "layout": "IPY_MODEL_d1169867e7044ed4b3e05a626a7e8ee5",
            "max": 932,
            "min": 0,
            "orientation": "horizontal",
            "style": "IPY_MODEL_02c67bc3854a4603b536177386e061fa",
            "value": 932
          }
        },
        "12e57e0e65414338a47c5562e9939b51": {
          "model_module": "@jupyter-widgets/base",
          "model_module_version": "1.2.0",
          "model_name": "LayoutModel",
          "state": {
            "_model_module": "@jupyter-widgets/base",
            "_model_module_version": "1.2.0",
            "_model_name": "LayoutModel",
            "_view_count": null,
            "_view_module": "@jupyter-widgets/base",
            "_view_module_version": "1.2.0",
            "_view_name": "LayoutView",
            "align_content": null,
            "align_items": null,
            "align_self": null,
            "border": null,
            "bottom": null,
            "display": null,
            "flex": null,
            "flex_flow": null,
            "grid_area": null,
            "grid_auto_columns": null,
            "grid_auto_flow": null,
            "grid_auto_rows": null,
            "grid_column": null,
            "grid_gap": null,
            "grid_row": null,
            "grid_template_areas": null,
            "grid_template_columns": null,
            "grid_template_rows": null,
            "height": null,
            "justify_content": null,
            "justify_items": null,
            "left": null,
            "margin": null,
            "max_height": null,
            "max_width": null,
            "min_height": null,
            "min_width": null,
            "object_fit": null,
            "object_position": null,
            "order": null,
            "overflow": null,
            "overflow_x": null,
            "overflow_y": null,
            "padding": null,
            "right": null,
            "top": null,
            "visibility": null,
            "width": null
          }
        },
        "150da5e284f3484b849c82db8f227fa5": {
          "model_module": "@jupyter-widgets/controls",
          "model_module_version": "1.5.0",
          "model_name": "HTMLModel",
          "state": {
            "_dom_classes": [],
            "_model_module": "@jupyter-widgets/controls",
            "_model_module_version": "1.5.0",
            "_model_name": "HTMLModel",
            "_view_count": null,
            "_view_module": "@jupyter-widgets/controls",
            "_view_module_version": "1.5.0",
            "_view_name": "HTMLView",
            "description": "",
            "description_tooltip": null,
            "layout": "IPY_MODEL_770ed0bbd6f44aa08871ac417469d3d9",
            "placeholder": "​",
            "style": "IPY_MODEL_0bbea2bd26964d4bae6ef4d575c755c2",
            "value": " 5355/5622 [00:00&lt;00:00, 9767.09 examples/s]"
          }
        },
        "155b6d0bf73d4d66ba8d32c6a083a367": {
          "model_module": "@jupyter-widgets/base",
          "model_module_version": "1.2.0",
          "model_name": "LayoutModel",
          "state": {
            "_model_module": "@jupyter-widgets/base",
            "_model_module_version": "1.2.0",
            "_model_name": "LayoutModel",
            "_view_count": null,
            "_view_module": "@jupyter-widgets/base",
            "_view_module_version": "1.2.0",
            "_view_name": "LayoutView",
            "align_content": null,
            "align_items": null,
            "align_self": null,
            "border": null,
            "bottom": null,
            "display": null,
            "flex": null,
            "flex_flow": null,
            "grid_area": null,
            "grid_auto_columns": null,
            "grid_auto_flow": null,
            "grid_auto_rows": null,
            "grid_column": null,
            "grid_gap": null,
            "grid_row": null,
            "grid_template_areas": null,
            "grid_template_columns": null,
            "grid_template_rows": null,
            "height": null,
            "justify_content": null,
            "justify_items": null,
            "left": null,
            "margin": null,
            "max_height": null,
            "max_width": null,
            "min_height": null,
            "min_width": null,
            "object_fit": null,
            "object_position": null,
            "order": null,
            "overflow": null,
            "overflow_x": null,
            "overflow_y": null,
            "padding": null,
            "right": null,
            "top": null,
            "visibility": null,
            "width": null
          }
        },
        "1a6c61a5c9b9440ea419b79ee320f4c8": {
          "model_module": "@jupyter-widgets/controls",
          "model_module_version": "1.5.0",
          "model_name": "DescriptionStyleModel",
          "state": {
            "_model_module": "@jupyter-widgets/controls",
            "_model_module_version": "1.5.0",
            "_model_name": "DescriptionStyleModel",
            "_view_count": null,
            "_view_module": "@jupyter-widgets/base",
            "_view_module_version": "1.2.0",
            "_view_name": "StyleView",
            "description_width": ""
          }
        },
        "1aed88e4fd9e4a95ba9a1ee2093be17c": {
          "model_module": "@jupyter-widgets/base",
          "model_module_version": "1.2.0",
          "model_name": "LayoutModel",
          "state": {
            "_model_module": "@jupyter-widgets/base",
            "_model_module_version": "1.2.0",
            "_model_name": "LayoutModel",
            "_view_count": null,
            "_view_module": "@jupyter-widgets/base",
            "_view_module_version": "1.2.0",
            "_view_name": "LayoutView",
            "align_content": null,
            "align_items": null,
            "align_self": null,
            "border": null,
            "bottom": null,
            "display": null,
            "flex": null,
            "flex_flow": null,
            "grid_area": null,
            "grid_auto_columns": null,
            "grid_auto_flow": null,
            "grid_auto_rows": null,
            "grid_column": null,
            "grid_gap": null,
            "grid_row": null,
            "grid_template_areas": null,
            "grid_template_columns": null,
            "grid_template_rows": null,
            "height": null,
            "justify_content": null,
            "justify_items": null,
            "left": null,
            "margin": null,
            "max_height": null,
            "max_width": null,
            "min_height": null,
            "min_width": null,
            "object_fit": null,
            "object_position": null,
            "order": null,
            "overflow": null,
            "overflow_x": null,
            "overflow_y": null,
            "padding": null,
            "right": null,
            "top": null,
            "visibility": null,
            "width": null
          }
        },
        "1b2c1412b42846ce950021a0ff33b982": {
          "model_module": "@jupyter-widgets/base",
          "model_module_version": "1.2.0",
          "model_name": "LayoutModel",
          "state": {
            "_model_module": "@jupyter-widgets/base",
            "_model_module_version": "1.2.0",
            "_model_name": "LayoutModel",
            "_view_count": null,
            "_view_module": "@jupyter-widgets/base",
            "_view_module_version": "1.2.0",
            "_view_name": "LayoutView",
            "align_content": null,
            "align_items": null,
            "align_self": null,
            "border": null,
            "bottom": null,
            "display": null,
            "flex": null,
            "flex_flow": null,
            "grid_area": null,
            "grid_auto_columns": null,
            "grid_auto_flow": null,
            "grid_auto_rows": null,
            "grid_column": null,
            "grid_gap": null,
            "grid_row": null,
            "grid_template_areas": null,
            "grid_template_columns": null,
            "grid_template_rows": null,
            "height": null,
            "justify_content": null,
            "justify_items": null,
            "left": null,
            "margin": null,
            "max_height": null,
            "max_width": null,
            "min_height": null,
            "min_width": null,
            "object_fit": null,
            "object_position": null,
            "order": null,
            "overflow": null,
            "overflow_x": null,
            "overflow_y": null,
            "padding": null,
            "right": null,
            "top": null,
            "visibility": null,
            "width": null
          }
        },
        "1bc00a13a1e646ed90883eb07f94b2d6": {
          "model_module": "@jupyter-widgets/base",
          "model_module_version": "1.2.0",
          "model_name": "LayoutModel",
          "state": {
            "_model_module": "@jupyter-widgets/base",
            "_model_module_version": "1.2.0",
            "_model_name": "LayoutModel",
            "_view_count": null,
            "_view_module": "@jupyter-widgets/base",
            "_view_module_version": "1.2.0",
            "_view_name": "LayoutView",
            "align_content": null,
            "align_items": null,
            "align_self": null,
            "border": null,
            "bottom": null,
            "display": null,
            "flex": null,
            "flex_flow": null,
            "grid_area": null,
            "grid_auto_columns": null,
            "grid_auto_flow": null,
            "grid_auto_rows": null,
            "grid_column": null,
            "grid_gap": null,
            "grid_row": null,
            "grid_template_areas": null,
            "grid_template_columns": null,
            "grid_template_rows": null,
            "height": null,
            "justify_content": null,
            "justify_items": null,
            "left": null,
            "margin": null,
            "max_height": null,
            "max_width": null,
            "min_height": null,
            "min_width": null,
            "object_fit": null,
            "object_position": null,
            "order": null,
            "overflow": null,
            "overflow_x": null,
            "overflow_y": null,
            "padding": null,
            "right": null,
            "top": null,
            "visibility": null,
            "width": null
          }
        },
        "212ae24db6434089871eddf5a72913a3": {
          "model_module": "@jupyter-widgets/base",
          "model_module_version": "1.2.0",
          "model_name": "LayoutModel",
          "state": {
            "_model_module": "@jupyter-widgets/base",
            "_model_module_version": "1.2.0",
            "_model_name": "LayoutModel",
            "_view_count": null,
            "_view_module": "@jupyter-widgets/base",
            "_view_module_version": "1.2.0",
            "_view_name": "LayoutView",
            "align_content": null,
            "align_items": null,
            "align_self": null,
            "border": null,
            "bottom": null,
            "display": null,
            "flex": null,
            "flex_flow": null,
            "grid_area": null,
            "grid_auto_columns": null,
            "grid_auto_flow": null,
            "grid_auto_rows": null,
            "grid_column": null,
            "grid_gap": null,
            "grid_row": null,
            "grid_template_areas": null,
            "grid_template_columns": null,
            "grid_template_rows": null,
            "height": null,
            "justify_content": null,
            "justify_items": null,
            "left": null,
            "margin": null,
            "max_height": null,
            "max_width": null,
            "min_height": null,
            "min_width": null,
            "object_fit": null,
            "object_position": null,
            "order": null,
            "overflow": null,
            "overflow_x": null,
            "overflow_y": null,
            "padding": null,
            "right": null,
            "top": null,
            "visibility": null,
            "width": null
          }
        },
        "22969d2f92d2492ca9d7ac239f75f921": {
          "model_module": "@jupyter-widgets/controls",
          "model_module_version": "1.5.0",
          "model_name": "HTMLModel",
          "state": {
            "_dom_classes": [],
            "_model_module": "@jupyter-widgets/controls",
            "_model_module_version": "1.5.0",
            "_model_name": "HTMLModel",
            "_view_count": null,
            "_view_module": "@jupyter-widgets/controls",
            "_view_module_version": "1.5.0",
            "_view_name": "HTMLView",
            "description": "",
            "description_tooltip": null,
            "layout": "IPY_MODEL_86bf0b47793540f8957491ec858343c6",
            "placeholder": "​",
            "style": "IPY_MODEL_a5d6a7d00617413d88b373bd9a8b54d2",
            "value": "Downloading metadata: "
          }
        },
        "2574ed5663bf4ee6bdf793b147893eea": {
          "model_module": "@jupyter-widgets/base",
          "model_module_version": "1.2.0",
          "model_name": "LayoutModel",
          "state": {
            "_model_module": "@jupyter-widgets/base",
            "_model_module_version": "1.2.0",
            "_model_name": "LayoutModel",
            "_view_count": null,
            "_view_module": "@jupyter-widgets/base",
            "_view_module_version": "1.2.0",
            "_view_name": "LayoutView",
            "align_content": null,
            "align_items": null,
            "align_self": null,
            "border": null,
            "bottom": null,
            "display": null,
            "flex": null,
            "flex_flow": null,
            "grid_area": null,
            "grid_auto_columns": null,
            "grid_auto_flow": null,
            "grid_auto_rows": null,
            "grid_column": null,
            "grid_gap": null,
            "grid_row": null,
            "grid_template_areas": null,
            "grid_template_columns": null,
            "grid_template_rows": null,
            "height": null,
            "justify_content": null,
            "justify_items": null,
            "left": null,
            "margin": null,
            "max_height": null,
            "max_width": null,
            "min_height": null,
            "min_width": null,
            "object_fit": null,
            "object_position": null,
            "order": null,
            "overflow": null,
            "overflow_x": null,
            "overflow_y": null,
            "padding": null,
            "right": null,
            "top": null,
            "visibility": null,
            "width": null
          }
        },
        "2adadb2d74fb44108d89dfe206be5f1a": {
          "model_module": "@jupyter-widgets/controls",
          "model_module_version": "1.5.0",
          "model_name": "DescriptionStyleModel",
          "state": {
            "_model_module": "@jupyter-widgets/controls",
            "_model_module_version": "1.5.0",
            "_model_name": "DescriptionStyleModel",
            "_view_count": null,
            "_view_module": "@jupyter-widgets/base",
            "_view_module_version": "1.2.0",
            "_view_name": "StyleView",
            "description_width": ""
          }
        },
        "2af3325570514baf9b3f5a66da752748": {
          "model_module": "@jupyter-widgets/controls",
          "model_module_version": "1.5.0",
          "model_name": "HTMLModel",
          "state": {
            "_dom_classes": [],
            "_model_module": "@jupyter-widgets/controls",
            "_model_module_version": "1.5.0",
            "_model_name": "HTMLModel",
            "_view_count": null,
            "_view_module": "@jupyter-widgets/controls",
            "_view_module_version": "1.5.0",
            "_view_name": "HTMLView",
            "description": "",
            "description_tooltip": null,
            "layout": "IPY_MODEL_1aed88e4fd9e4a95ba9a1ee2093be17c",
            "placeholder": "​",
            "style": "IPY_MODEL_b68b64aa81e3429e8067ea9e150ffd80",
            "value": " 4914/5622 [00:00&lt;00:00, 9139.84 examples/s]"
          }
        },
        "2c1a349b019842beaa3ecfac8e312cd0": {
          "model_module": "@jupyter-widgets/base",
          "model_module_version": "1.2.0",
          "model_name": "LayoutModel",
          "state": {
            "_model_module": "@jupyter-widgets/base",
            "_model_module_version": "1.2.0",
            "_model_name": "LayoutModel",
            "_view_count": null,
            "_view_module": "@jupyter-widgets/base",
            "_view_module_version": "1.2.0",
            "_view_name": "LayoutView",
            "align_content": null,
            "align_items": null,
            "align_self": null,
            "border": null,
            "bottom": null,
            "display": null,
            "flex": null,
            "flex_flow": null,
            "grid_area": null,
            "grid_auto_columns": null,
            "grid_auto_flow": null,
            "grid_auto_rows": null,
            "grid_column": null,
            "grid_gap": null,
            "grid_row": null,
            "grid_template_areas": null,
            "grid_template_columns": null,
            "grid_template_rows": null,
            "height": null,
            "justify_content": null,
            "justify_items": null,
            "left": null,
            "margin": null,
            "max_height": null,
            "max_width": null,
            "min_height": null,
            "min_width": null,
            "object_fit": null,
            "object_position": null,
            "order": null,
            "overflow": null,
            "overflow_x": null,
            "overflow_y": null,
            "padding": null,
            "right": null,
            "top": null,
            "visibility": null,
            "width": null
          }
        },
        "3230f7e0bac74451a968a588324e0e8b": {
          "model_module": "@jupyter-widgets/controls",
          "model_module_version": "1.5.0",
          "model_name": "DescriptionStyleModel",
          "state": {
            "_model_module": "@jupyter-widgets/controls",
            "_model_module_version": "1.5.0",
            "_model_name": "DescriptionStyleModel",
            "_view_count": null,
            "_view_module": "@jupyter-widgets/base",
            "_view_module_version": "1.2.0",
            "_view_name": "StyleView",
            "description_width": ""
          }
        },
        "38322db69e394ffcb3dbb46a4c0db509": {
          "model_module": "@jupyter-widgets/controls",
          "model_module_version": "1.5.0",
          "model_name": "ProgressStyleModel",
          "state": {
            "_model_module": "@jupyter-widgets/controls",
            "_model_module_version": "1.5.0",
            "_model_name": "ProgressStyleModel",
            "_view_count": null,
            "_view_module": "@jupyter-widgets/base",
            "_view_module_version": "1.2.0",
            "_view_name": "StyleView",
            "bar_color": null,
            "description_width": ""
          }
        },
        "398924f5e5b84f51bfec520c2d37101b": {
          "model_module": "@jupyter-widgets/base",
          "model_module_version": "1.2.0",
          "model_name": "LayoutModel",
          "state": {
            "_model_module": "@jupyter-widgets/base",
            "_model_module_version": "1.2.0",
            "_model_name": "LayoutModel",
            "_view_count": null,
            "_view_module": "@jupyter-widgets/base",
            "_view_module_version": "1.2.0",
            "_view_name": "LayoutView",
            "align_content": null,
            "align_items": null,
            "align_self": null,
            "border": null,
            "bottom": null,
            "display": null,
            "flex": null,
            "flex_flow": null,
            "grid_area": null,
            "grid_auto_columns": null,
            "grid_auto_flow": null,
            "grid_auto_rows": null,
            "grid_column": null,
            "grid_gap": null,
            "grid_row": null,
            "grid_template_areas": null,
            "grid_template_columns": null,
            "grid_template_rows": null,
            "height": null,
            "justify_content": null,
            "justify_items": null,
            "left": null,
            "margin": null,
            "max_height": null,
            "max_width": null,
            "min_height": null,
            "min_width": null,
            "object_fit": null,
            "object_position": null,
            "order": null,
            "overflow": null,
            "overflow_x": null,
            "overflow_y": null,
            "padding": null,
            "right": null,
            "top": null,
            "visibility": null,
            "width": null
          }
        },
        "3af5f421a54b4612beab702869094d7d": {
          "model_module": "@jupyter-widgets/controls",
          "model_module_version": "1.5.0",
          "model_name": "HTMLModel",
          "state": {
            "_dom_classes": [],
            "_model_module": "@jupyter-widgets/controls",
            "_model_module_version": "1.5.0",
            "_model_name": "HTMLModel",
            "_view_count": null,
            "_view_module": "@jupyter-widgets/controls",
            "_view_module_version": "1.5.0",
            "_view_name": "HTMLView",
            "description": "",
            "description_tooltip": null,
            "layout": "IPY_MODEL_f2db89ce44144ba1b6c730bae386b3a0",
            "placeholder": "​",
            "style": "IPY_MODEL_961b0ae6e8bd4899a09640553751df41",
            "value": "Downloading data: 100%"
          }
        },
        "43ccd763941e495c9414c0a836d44b12": {
          "model_module": "@jupyter-widgets/controls",
          "model_module_version": "1.5.0",
          "model_name": "DescriptionStyleModel",
          "state": {
            "_model_module": "@jupyter-widgets/controls",
            "_model_module_version": "1.5.0",
            "_model_name": "DescriptionStyleModel",
            "_view_count": null,
            "_view_module": "@jupyter-widgets/base",
            "_view_module_version": "1.2.0",
            "_view_name": "StyleView",
            "description_width": ""
          }
        },
        "587c49dc4ce14095a0512e736452fde7": {
          "model_module": "@jupyter-widgets/controls",
          "model_module_version": "1.5.0",
          "model_name": "HTMLModel",
          "state": {
            "_dom_classes": [],
            "_model_module": "@jupyter-widgets/controls",
            "_model_module_version": "1.5.0",
            "_model_name": "HTMLModel",
            "_view_count": null,
            "_view_module": "@jupyter-widgets/controls",
            "_view_module_version": "1.5.0",
            "_view_name": "HTMLView",
            "description": "",
            "description_tooltip": null,
            "layout": "IPY_MODEL_ec7455280bff40bdaf9d6a5129d71f58",
            "placeholder": "​",
            "style": "IPY_MODEL_43ccd763941e495c9414c0a836d44b12",
            "value": " 3/3 [00:00&lt;00:00, 51.02it/s]"
          }
        },
        "5eb53334bc3742b1889505c7310d7f08": {
          "model_module": "@jupyter-widgets/base",
          "model_module_version": "1.2.0",
          "model_name": "LayoutModel",
          "state": {
            "_model_module": "@jupyter-widgets/base",
            "_model_module_version": "1.2.0",
            "_model_name": "LayoutModel",
            "_view_count": null,
            "_view_module": "@jupyter-widgets/base",
            "_view_module_version": "1.2.0",
            "_view_name": "LayoutView",
            "align_content": null,
            "align_items": null,
            "align_self": null,
            "border": null,
            "bottom": null,
            "display": null,
            "flex": null,
            "flex_flow": null,
            "grid_area": null,
            "grid_auto_columns": null,
            "grid_auto_flow": null,
            "grid_auto_rows": null,
            "grid_column": null,
            "grid_gap": null,
            "grid_row": null,
            "grid_template_areas": null,
            "grid_template_columns": null,
            "grid_template_rows": null,
            "height": null,
            "justify_content": null,
            "justify_items": null,
            "left": null,
            "margin": null,
            "max_height": null,
            "max_width": null,
            "min_height": null,
            "min_width": null,
            "object_fit": null,
            "object_position": null,
            "order": null,
            "overflow": null,
            "overflow_x": null,
            "overflow_y": null,
            "padding": null,
            "right": null,
            "top": null,
            "visibility": null,
            "width": null
          }
        },
        "5edeba277f0249efa3e784c778943ec9": {
          "model_module": "@jupyter-widgets/controls",
          "model_module_version": "1.5.0",
          "model_name": "DescriptionStyleModel",
          "state": {
            "_model_module": "@jupyter-widgets/controls",
            "_model_module_version": "1.5.0",
            "_model_name": "DescriptionStyleModel",
            "_view_count": null,
            "_view_module": "@jupyter-widgets/base",
            "_view_module_version": "1.2.0",
            "_view_name": "StyleView",
            "description_width": ""
          }
        },
        "626404bda77a41d0ae1b27aef1479ea3": {
          "model_module": "@jupyter-widgets/base",
          "model_module_version": "1.2.0",
          "model_name": "LayoutModel",
          "state": {
            "_model_module": "@jupyter-widgets/base",
            "_model_module_version": "1.2.0",
            "_model_name": "LayoutModel",
            "_view_count": null,
            "_view_module": "@jupyter-widgets/base",
            "_view_module_version": "1.2.0",
            "_view_name": "LayoutView",
            "align_content": null,
            "align_items": null,
            "align_self": null,
            "border": null,
            "bottom": null,
            "display": null,
            "flex": null,
            "flex_flow": null,
            "grid_area": null,
            "grid_auto_columns": null,
            "grid_auto_flow": null,
            "grid_auto_rows": null,
            "grid_column": null,
            "grid_gap": null,
            "grid_row": null,
            "grid_template_areas": null,
            "grid_template_columns": null,
            "grid_template_rows": null,
            "height": null,
            "justify_content": null,
            "justify_items": null,
            "left": null,
            "margin": null,
            "max_height": null,
            "max_width": null,
            "min_height": null,
            "min_width": null,
            "object_fit": null,
            "object_position": null,
            "order": null,
            "overflow": null,
            "overflow_x": null,
            "overflow_y": null,
            "padding": null,
            "right": null,
            "top": null,
            "visibility": null,
            "width": null
          }
        },
        "6746382a70354f42a6c68163a109ed6a": {
          "model_module": "@jupyter-widgets/controls",
          "model_module_version": "1.5.0",
          "model_name": "FloatProgressModel",
          "state": {
            "_dom_classes": [],
            "_model_module": "@jupyter-widgets/controls",
            "_model_module_version": "1.5.0",
            "_model_name": "FloatProgressModel",
            "_view_count": null,
            "_view_module": "@jupyter-widgets/controls",
            "_view_module_version": "1.5.0",
            "_view_name": "ProgressView",
            "bar_style": "",
            "description": "",
            "description_tooltip": null,
            "layout": "IPY_MODEL_12e57e0e65414338a47c5562e9939b51",
            "max": 5622,
            "min": 0,
            "orientation": "horizontal",
            "style": "IPY_MODEL_d5aa54b040214447ae1aed8be7c58904",
            "value": 5622
          }
        },
        "770ed0bbd6f44aa08871ac417469d3d9": {
          "model_module": "@jupyter-widgets/base",
          "model_module_version": "1.2.0",
          "model_name": "LayoutModel",
          "state": {
            "_model_module": "@jupyter-widgets/base",
            "_model_module_version": "1.2.0",
            "_model_name": "LayoutModel",
            "_view_count": null,
            "_view_module": "@jupyter-widgets/base",
            "_view_module_version": "1.2.0",
            "_view_name": "LayoutView",
            "align_content": null,
            "align_items": null,
            "align_self": null,
            "border": null,
            "bottom": null,
            "display": null,
            "flex": null,
            "flex_flow": null,
            "grid_area": null,
            "grid_auto_columns": null,
            "grid_auto_flow": null,
            "grid_auto_rows": null,
            "grid_column": null,
            "grid_gap": null,
            "grid_row": null,
            "grid_template_areas": null,
            "grid_template_columns": null,
            "grid_template_rows": null,
            "height": null,
            "justify_content": null,
            "justify_items": null,
            "left": null,
            "margin": null,
            "max_height": null,
            "max_width": null,
            "min_height": null,
            "min_width": null,
            "object_fit": null,
            "object_position": null,
            "order": null,
            "overflow": null,
            "overflow_x": null,
            "overflow_y": null,
            "padding": null,
            "right": null,
            "top": null,
            "visibility": null,
            "width": null
          }
        },
        "7ab91d8884674388a876d23f75a8357d": {
          "model_module": "@jupyter-widgets/controls",
          "model_module_version": "1.5.0",
          "model_name": "HBoxModel",
          "state": {
            "_dom_classes": [],
            "_model_module": "@jupyter-widgets/controls",
            "_model_module_version": "1.5.0",
            "_model_name": "HBoxModel",
            "_view_count": null,
            "_view_module": "@jupyter-widgets/controls",
            "_view_module_version": "1.5.0",
            "_view_name": "HBoxView",
            "box_style": "",
            "children": [
              "IPY_MODEL_c31d757e760a450192618d5170913dae",
              "IPY_MODEL_cc481b7552db4f56aa0c58f5beab7a15",
              "IPY_MODEL_587c49dc4ce14095a0512e736452fde7"
            ],
            "layout": "IPY_MODEL_aac8164bf5014e3ab3d5126effad1828"
          }
        },
        "7b635a58f5a4406fa81d59e552b67180": {
          "model_module": "@jupyter-widgets/base",
          "model_module_version": "1.2.0",
          "model_name": "LayoutModel",
          "state": {
            "_model_module": "@jupyter-widgets/base",
            "_model_module_version": "1.2.0",
            "_model_name": "LayoutModel",
            "_view_count": null,
            "_view_module": "@jupyter-widgets/base",
            "_view_module_version": "1.2.0",
            "_view_name": "LayoutView",
            "align_content": null,
            "align_items": null,
            "align_self": null,
            "border": null,
            "bottom": null,
            "display": null,
            "flex": null,
            "flex_flow": null,
            "grid_area": null,
            "grid_auto_columns": null,
            "grid_auto_flow": null,
            "grid_auto_rows": null,
            "grid_column": null,
            "grid_gap": null,
            "grid_row": null,
            "grid_template_areas": null,
            "grid_template_columns": null,
            "grid_template_rows": null,
            "height": null,
            "justify_content": null,
            "justify_items": null,
            "left": null,
            "margin": null,
            "max_height": null,
            "max_width": null,
            "min_height": null,
            "min_width": null,
            "object_fit": null,
            "object_position": null,
            "order": null,
            "overflow": null,
            "overflow_x": null,
            "overflow_y": null,
            "padding": null,
            "right": null,
            "top": null,
            "visibility": null,
            "width": null
          }
        },
        "8565a51f99c44a9f97aebafbfb7bcfcf": {
          "model_module": "@jupyter-widgets/base",
          "model_module_version": "1.2.0",
          "model_name": "LayoutModel",
          "state": {
            "_model_module": "@jupyter-widgets/base",
            "_model_module_version": "1.2.0",
            "_model_name": "LayoutModel",
            "_view_count": null,
            "_view_module": "@jupyter-widgets/base",
            "_view_module_version": "1.2.0",
            "_view_name": "LayoutView",
            "align_content": null,
            "align_items": null,
            "align_self": null,
            "border": null,
            "bottom": null,
            "display": null,
            "flex": null,
            "flex_flow": null,
            "grid_area": null,
            "grid_auto_columns": null,
            "grid_auto_flow": null,
            "grid_auto_rows": null,
            "grid_column": null,
            "grid_gap": null,
            "grid_row": null,
            "grid_template_areas": null,
            "grid_template_columns": null,
            "grid_template_rows": null,
            "height": null,
            "justify_content": null,
            "justify_items": null,
            "left": null,
            "margin": null,
            "max_height": null,
            "max_width": null,
            "min_height": null,
            "min_width": null,
            "object_fit": null,
            "object_position": null,
            "order": null,
            "overflow": null,
            "overflow_x": null,
            "overflow_y": null,
            "padding": null,
            "right": null,
            "top": null,
            "visibility": null,
            "width": null
          }
        },
        "862829f1b7ad42deb3e202142058bd7e": {
          "model_module": "@jupyter-widgets/base",
          "model_module_version": "1.2.0",
          "model_name": "LayoutModel",
          "state": {
            "_model_module": "@jupyter-widgets/base",
            "_model_module_version": "1.2.0",
            "_model_name": "LayoutModel",
            "_view_count": null,
            "_view_module": "@jupyter-widgets/base",
            "_view_module_version": "1.2.0",
            "_view_name": "LayoutView",
            "align_content": null,
            "align_items": null,
            "align_self": null,
            "border": null,
            "bottom": null,
            "display": null,
            "flex": null,
            "flex_flow": null,
            "grid_area": null,
            "grid_auto_columns": null,
            "grid_auto_flow": null,
            "grid_auto_rows": null,
            "grid_column": null,
            "grid_gap": null,
            "grid_row": null,
            "grid_template_areas": null,
            "grid_template_columns": null,
            "grid_template_rows": null,
            "height": null,
            "justify_content": null,
            "justify_items": null,
            "left": null,
            "margin": null,
            "max_height": null,
            "max_width": null,
            "min_height": null,
            "min_width": null,
            "object_fit": null,
            "object_position": null,
            "order": null,
            "overflow": null,
            "overflow_x": null,
            "overflow_y": null,
            "padding": null,
            "right": null,
            "top": null,
            "visibility": null,
            "width": null
          }
        },
        "86b155bace5c4c009cfb4a6365945e80": {
          "model_module": "@jupyter-widgets/controls",
          "model_module_version": "1.5.0",
          "model_name": "HBoxModel",
          "state": {
            "_dom_classes": [],
            "_model_module": "@jupyter-widgets/controls",
            "_model_module_version": "1.5.0",
            "_model_name": "HBoxModel",
            "_view_count": null,
            "_view_module": "@jupyter-widgets/controls",
            "_view_module_version": "1.5.0",
            "_view_name": "HBoxView",
            "box_style": "",
            "children": [
              "IPY_MODEL_3af5f421a54b4612beab702869094d7d",
              "IPY_MODEL_01835e3c2ffa4e4981ead5dfc6be669b",
              "IPY_MODEL_b7fbde66905247809254250dc5aa4c58"
            ],
            "layout": "IPY_MODEL_fd4a9d646f5b4227b8c0fc223f251110"
          }
        },
        "86bf0b47793540f8957491ec858343c6": {
          "model_module": "@jupyter-widgets/base",
          "model_module_version": "1.2.0",
          "model_name": "LayoutModel",
          "state": {
            "_model_module": "@jupyter-widgets/base",
            "_model_module_version": "1.2.0",
            "_model_name": "LayoutModel",
            "_view_count": null,
            "_view_module": "@jupyter-widgets/base",
            "_view_module_version": "1.2.0",
            "_view_name": "LayoutView",
            "align_content": null,
            "align_items": null,
            "align_self": null,
            "border": null,
            "bottom": null,
            "display": null,
            "flex": null,
            "flex_flow": null,
            "grid_area": null,
            "grid_auto_columns": null,
            "grid_auto_flow": null,
            "grid_auto_rows": null,
            "grid_column": null,
            "grid_gap": null,
            "grid_row": null,
            "grid_template_areas": null,
            "grid_template_columns": null,
            "grid_template_rows": null,
            "height": null,
            "justify_content": null,
            "justify_items": null,
            "left": null,
            "margin": null,
            "max_height": null,
            "max_width": null,
            "min_height": null,
            "min_width": null,
            "object_fit": null,
            "object_position": null,
            "order": null,
            "overflow": null,
            "overflow_x": null,
            "overflow_y": null,
            "padding": null,
            "right": null,
            "top": null,
            "visibility": null,
            "width": null
          }
        },
        "8b23027d0bb74f4a84a663e2e64faa53": {
          "model_module": "@jupyter-widgets/controls",
          "model_module_version": "1.5.0",
          "model_name": "HTMLModel",
          "state": {
            "_dom_classes": [],
            "_model_module": "@jupyter-widgets/controls",
            "_model_module_version": "1.5.0",
            "_model_name": "HTMLModel",
            "_view_count": null,
            "_view_module": "@jupyter-widgets/controls",
            "_view_module_version": "1.5.0",
            "_view_name": "HTMLView",
            "description": "",
            "description_tooltip": null,
            "layout": "IPY_MODEL_9c9241d543fb4944a2d9ecfb6e5534e0",
            "placeholder": "​",
            "style": "IPY_MODEL_1a6c61a5c9b9440ea419b79ee320f4c8",
            "value": " 3.61k/? [00:00&lt;00:00, 58.1kB/s]"
          }
        },
        "8b4b7210c0994527afd18fc301daaed6": {
          "model_module": "@jupyter-widgets/controls",
          "model_module_version": "1.5.0",
          "model_name": "HTMLModel",
          "state": {
            "_dom_classes": [],
            "_model_module": "@jupyter-widgets/controls",
            "_model_module_version": "1.5.0",
            "_model_name": "HTMLModel",
            "_view_count": null,
            "_view_module": "@jupyter-widgets/controls",
            "_view_module_version": "1.5.0",
            "_view_name": "HTMLView",
            "description": "",
            "description_tooltip": null,
            "layout": "IPY_MODEL_2c1a349b019842beaa3ecfac8e312cd0",
            "placeholder": "​",
            "style": "IPY_MODEL_926066f233eb47b59453797331fbfcbf",
            "value": "Generating train split:  99%"
          }
        },
        "926066f233eb47b59453797331fbfcbf": {
          "model_module": "@jupyter-widgets/controls",
          "model_module_version": "1.5.0",
          "model_name": "DescriptionStyleModel",
          "state": {
            "_model_module": "@jupyter-widgets/controls",
            "_model_module_version": "1.5.0",
            "_model_name": "DescriptionStyleModel",
            "_view_count": null,
            "_view_module": "@jupyter-widgets/base",
            "_view_module_version": "1.2.0",
            "_view_name": "StyleView",
            "description_width": ""
          }
        },
        "95d3947442a84b40b0d7d39d071c6fbb": {
          "model_module": "@jupyter-widgets/controls",
          "model_module_version": "1.5.0",
          "model_name": "ProgressStyleModel",
          "state": {
            "_model_module": "@jupyter-widgets/controls",
            "_model_module_version": "1.5.0",
            "_model_name": "ProgressStyleModel",
            "_view_count": null,
            "_view_module": "@jupyter-widgets/base",
            "_view_module_version": "1.2.0",
            "_view_name": "StyleView",
            "bar_color": null,
            "description_width": ""
          }
        },
        "961b0ae6e8bd4899a09640553751df41": {
          "model_module": "@jupyter-widgets/controls",
          "model_module_version": "1.5.0",
          "model_name": "DescriptionStyleModel",
          "state": {
            "_model_module": "@jupyter-widgets/controls",
            "_model_module_version": "1.5.0",
            "_model_name": "DescriptionStyleModel",
            "_view_count": null,
            "_view_module": "@jupyter-widgets/base",
            "_view_module_version": "1.2.0",
            "_view_name": "StyleView",
            "description_width": ""
          }
        },
        "978432b1fe0243a1ab816f400df16619": {
          "model_module": "@jupyter-widgets/controls",
          "model_module_version": "1.5.0",
          "model_name": "DescriptionStyleModel",
          "state": {
            "_model_module": "@jupyter-widgets/controls",
            "_model_module_version": "1.5.0",
            "_model_name": "DescriptionStyleModel",
            "_view_count": null,
            "_view_module": "@jupyter-widgets/base",
            "_view_module_version": "1.2.0",
            "_view_name": "StyleView",
            "description_width": ""
          }
        },
        "993beb97de384bcaa2ca40510a18113b": {
          "model_module": "@jupyter-widgets/controls",
          "model_module_version": "1.5.0",
          "model_name": "HTMLModel",
          "state": {
            "_dom_classes": [],
            "_model_module": "@jupyter-widgets/controls",
            "_model_module_version": "1.5.0",
            "_model_name": "HTMLModel",
            "_view_count": null,
            "_view_module": "@jupyter-widgets/controls",
            "_view_module_version": "1.5.0",
            "_view_name": "HTMLView",
            "description": "",
            "description_tooltip": null,
            "layout": "IPY_MODEL_f5991f70f0b74f0d84440c0df9e6f510",
            "placeholder": "​",
            "style": "IPY_MODEL_3230f7e0bac74451a968a588324e0e8b",
            "value": "Generating test split:  87%"
          }
        },
        "9a96a67953fc4aabb3f59ca378ed5752": {
          "model_module": "@jupyter-widgets/controls",
          "model_module_version": "1.5.0",
          "model_name": "FloatProgressModel",
          "state": {
            "_dom_classes": [],
            "_model_module": "@jupyter-widgets/controls",
            "_model_module_version": "1.5.0",
            "_model_name": "FloatProgressModel",
            "_view_count": null,
            "_view_module": "@jupyter-widgets/controls",
            "_view_module_version": "1.5.0",
            "_view_name": "ProgressView",
            "bar_style": "success",
            "description": "",
            "description_tooltip": null,
            "layout": "IPY_MODEL_1b2c1412b42846ce950021a0ff33b982",
            "max": 1610,
            "min": 0,
            "orientation": "horizontal",
            "style": "IPY_MODEL_95d3947442a84b40b0d7d39d071c6fbb",
            "value": 1610
          }
        },
        "9c9241d543fb4944a2d9ecfb6e5534e0": {
          "model_module": "@jupyter-widgets/base",
          "model_module_version": "1.2.0",
          "model_name": "LayoutModel",
          "state": {
            "_model_module": "@jupyter-widgets/base",
            "_model_module_version": "1.2.0",
            "_model_name": "LayoutModel",
            "_view_count": null,
            "_view_module": "@jupyter-widgets/base",
            "_view_module_version": "1.2.0",
            "_view_name": "LayoutView",
            "align_content": null,
            "align_items": null,
            "align_self": null,
            "border": null,
            "bottom": null,
            "display": null,
            "flex": null,
            "flex_flow": null,
            "grid_area": null,
            "grid_auto_columns": null,
            "grid_auto_flow": null,
            "grid_auto_rows": null,
            "grid_column": null,
            "grid_gap": null,
            "grid_row": null,
            "grid_template_areas": null,
            "grid_template_columns": null,
            "grid_template_rows": null,
            "height": null,
            "justify_content": null,
            "justify_items": null,
            "left": null,
            "margin": null,
            "max_height": null,
            "max_width": null,
            "min_height": null,
            "min_width": null,
            "object_fit": null,
            "object_position": null,
            "order": null,
            "overflow": null,
            "overflow_x": null,
            "overflow_y": null,
            "padding": null,
            "right": null,
            "top": null,
            "visibility": null,
            "width": null
          }
        },
        "a02587280519433bb81ee0ae2eaab2c1": {
          "model_module": "@jupyter-widgets/base",
          "model_module_version": "1.2.0",
          "model_name": "LayoutModel",
          "state": {
            "_model_module": "@jupyter-widgets/base",
            "_model_module_version": "1.2.0",
            "_model_name": "LayoutModel",
            "_view_count": null,
            "_view_module": "@jupyter-widgets/base",
            "_view_module_version": "1.2.0",
            "_view_name": "LayoutView",
            "align_content": null,
            "align_items": null,
            "align_self": null,
            "border": null,
            "bottom": null,
            "display": null,
            "flex": null,
            "flex_flow": null,
            "grid_area": null,
            "grid_auto_columns": null,
            "grid_auto_flow": null,
            "grid_auto_rows": null,
            "grid_column": null,
            "grid_gap": null,
            "grid_row": null,
            "grid_template_areas": null,
            "grid_template_columns": null,
            "grid_template_rows": null,
            "height": null,
            "justify_content": null,
            "justify_items": null,
            "left": null,
            "margin": null,
            "max_height": null,
            "max_width": null,
            "min_height": null,
            "min_width": null,
            "object_fit": null,
            "object_position": null,
            "order": null,
            "overflow": null,
            "overflow_x": null,
            "overflow_y": null,
            "padding": null,
            "right": null,
            "top": null,
            "visibility": null,
            "width": null
          }
        },
        "a125c2122fb2438d9b6cff831bcc80a6": {
          "model_module": "@jupyter-widgets/controls",
          "model_module_version": "1.5.0",
          "model_name": "HBoxModel",
          "state": {
            "_dom_classes": [],
            "_model_module": "@jupyter-widgets/controls",
            "_model_module_version": "1.5.0",
            "_model_name": "HBoxModel",
            "_view_count": null,
            "_view_module": "@jupyter-widgets/controls",
            "_view_module_version": "1.5.0",
            "_view_name": "HBoxView",
            "box_style": "",
            "children": [
              "IPY_MODEL_22969d2f92d2492ca9d7ac239f75f921",
              "IPY_MODEL_0f0b81cda7774233b455707d5e5174b6",
              "IPY_MODEL_eddb0df44b24477fb7de368057b55b68"
            ],
            "layout": "IPY_MODEL_212ae24db6434089871eddf5a72913a3"
          }
        },
        "a5d6a7d00617413d88b373bd9a8b54d2": {
          "model_module": "@jupyter-widgets/controls",
          "model_module_version": "1.5.0",
          "model_name": "DescriptionStyleModel",
          "state": {
            "_model_module": "@jupyter-widgets/controls",
            "_model_module_version": "1.5.0",
            "_model_name": "DescriptionStyleModel",
            "_view_count": null,
            "_view_module": "@jupyter-widgets/base",
            "_view_module_version": "1.2.0",
            "_view_name": "StyleView",
            "description_width": ""
          }
        },
        "aac8164bf5014e3ab3d5126effad1828": {
          "model_module": "@jupyter-widgets/base",
          "model_module_version": "1.2.0",
          "model_name": "LayoutModel",
          "state": {
            "_model_module": "@jupyter-widgets/base",
            "_model_module_version": "1.2.0",
            "_model_name": "LayoutModel",
            "_view_count": null,
            "_view_module": "@jupyter-widgets/base",
            "_view_module_version": "1.2.0",
            "_view_name": "LayoutView",
            "align_content": null,
            "align_items": null,
            "align_self": null,
            "border": null,
            "bottom": null,
            "display": null,
            "flex": null,
            "flex_flow": null,
            "grid_area": null,
            "grid_auto_columns": null,
            "grid_auto_flow": null,
            "grid_auto_rows": null,
            "grid_column": null,
            "grid_gap": null,
            "grid_row": null,
            "grid_template_areas": null,
            "grid_template_columns": null,
            "grid_template_rows": null,
            "height": null,
            "justify_content": null,
            "justify_items": null,
            "left": null,
            "margin": null,
            "max_height": null,
            "max_width": null,
            "min_height": null,
            "min_width": null,
            "object_fit": null,
            "object_position": null,
            "order": null,
            "overflow": null,
            "overflow_x": null,
            "overflow_y": null,
            "padding": null,
            "right": null,
            "top": null,
            "visibility": null,
            "width": null
          }
        },
        "b065fc3ae2e148f7b63e7a0c510e4e93": {
          "model_module": "@jupyter-widgets/controls",
          "model_module_version": "1.5.0",
          "model_name": "HTMLModel",
          "state": {
            "_dom_classes": [],
            "_model_module": "@jupyter-widgets/controls",
            "_model_module_version": "1.5.0",
            "_model_name": "HTMLModel",
            "_view_count": null,
            "_view_module": "@jupyter-widgets/controls",
            "_view_module_version": "1.5.0",
            "_view_name": "HTMLView",
            "description": "",
            "description_tooltip": null,
            "layout": "IPY_MODEL_5eb53334bc3742b1889505c7310d7f08",
            "placeholder": "​",
            "style": "IPY_MODEL_5edeba277f0249efa3e784c778943ec9",
            "value": "Downloading builder script: "
          }
        },
        "b3f000b3ed1d48bb9c4f0a6935888b4c": {
          "model_module": "@jupyter-widgets/base",
          "model_module_version": "1.2.0",
          "model_name": "LayoutModel",
          "state": {
            "_model_module": "@jupyter-widgets/base",
            "_model_module_version": "1.2.0",
            "_model_name": "LayoutModel",
            "_view_count": null,
            "_view_module": "@jupyter-widgets/base",
            "_view_module_version": "1.2.0",
            "_view_name": "LayoutView",
            "align_content": null,
            "align_items": null,
            "align_self": null,
            "border": null,
            "bottom": null,
            "display": null,
            "flex": null,
            "flex_flow": null,
            "grid_area": null,
            "grid_auto_columns": null,
            "grid_auto_flow": null,
            "grid_auto_rows": null,
            "grid_column": null,
            "grid_gap": null,
            "grid_row": null,
            "grid_template_areas": null,
            "grid_template_columns": null,
            "grid_template_rows": null,
            "height": null,
            "justify_content": null,
            "justify_items": null,
            "left": null,
            "margin": null,
            "max_height": null,
            "max_width": null,
            "min_height": null,
            "min_width": null,
            "object_fit": null,
            "object_position": null,
            "order": null,
            "overflow": null,
            "overflow_x": null,
            "overflow_y": null,
            "padding": null,
            "right": null,
            "top": null,
            "visibility": null,
            "width": null
          }
        },
        "b47076b226284ae48a7e3725d92b8375": {
          "model_module": "@jupyter-widgets/controls",
          "model_module_version": "1.5.0",
          "model_name": "ProgressStyleModel",
          "state": {
            "_model_module": "@jupyter-widgets/controls",
            "_model_module_version": "1.5.0",
            "_model_name": "ProgressStyleModel",
            "_view_count": null,
            "_view_module": "@jupyter-widgets/base",
            "_view_module_version": "1.2.0",
            "_view_name": "StyleView",
            "bar_color": null,
            "description_width": ""
          }
        },
        "b68b64aa81e3429e8067ea9e150ffd80": {
          "model_module": "@jupyter-widgets/controls",
          "model_module_version": "1.5.0",
          "model_name": "DescriptionStyleModel",
          "state": {
            "_model_module": "@jupyter-widgets/controls",
            "_model_module_version": "1.5.0",
            "_model_name": "DescriptionStyleModel",
            "_view_count": null,
            "_view_module": "@jupyter-widgets/base",
            "_view_module_version": "1.2.0",
            "_view_name": "StyleView",
            "description_width": ""
          }
        },
        "b7fbde66905247809254250dc5aa4c58": {
          "model_module": "@jupyter-widgets/controls",
          "model_module_version": "1.5.0",
          "model_name": "HTMLModel",
          "state": {
            "_dom_classes": [],
            "_model_module": "@jupyter-widgets/controls",
            "_model_module_version": "1.5.0",
            "_model_name": "HTMLModel",
            "_view_count": null,
            "_view_module": "@jupyter-widgets/controls",
            "_view_module_version": "1.5.0",
            "_view_name": "HTMLView",
            "description": "",
            "description_tooltip": null,
            "layout": "IPY_MODEL_2574ed5663bf4ee6bdf793b147893eea",
            "placeholder": "​",
            "style": "IPY_MODEL_2adadb2d74fb44108d89dfe206be5f1a",
            "value": " 257M/257M [00:12&lt;00:00, 13.9MB/s]"
          }
        },
        "bb49256da0414bba91d9d9a248f53d0a": {
          "model_module": "@jupyter-widgets/controls",
          "model_module_version": "1.5.0",
          "model_name": "DescriptionStyleModel",
          "state": {
            "_model_module": "@jupyter-widgets/controls",
            "_model_module_version": "1.5.0",
            "_model_name": "DescriptionStyleModel",
            "_view_count": null,
            "_view_module": "@jupyter-widgets/base",
            "_view_module_version": "1.2.0",
            "_view_name": "StyleView",
            "description_width": ""
          }
        },
        "c31d757e760a450192618d5170913dae": {
          "model_module": "@jupyter-widgets/controls",
          "model_module_version": "1.5.0",
          "model_name": "HTMLModel",
          "state": {
            "_dom_classes": [],
            "_model_module": "@jupyter-widgets/controls",
            "_model_module_version": "1.5.0",
            "_model_name": "HTMLModel",
            "_view_count": null,
            "_view_module": "@jupyter-widgets/controls",
            "_view_module_version": "1.5.0",
            "_view_name": "HTMLView",
            "description": "",
            "description_tooltip": null,
            "layout": "IPY_MODEL_00ef7b60ffcb414d839132ca26942f31",
            "placeholder": "​",
            "style": "IPY_MODEL_dfead62964634d7b9c67fa08bbe8f33a",
            "value": "100%"
          }
        },
        "c44346ca9af145008153b36be31a4ef8": {
          "model_module": "@jupyter-widgets/controls",
          "model_module_version": "1.5.0",
          "model_name": "ProgressStyleModel",
          "state": {
            "_model_module": "@jupyter-widgets/controls",
            "_model_module_version": "1.5.0",
            "_model_name": "ProgressStyleModel",
            "_view_count": null,
            "_view_module": "@jupyter-widgets/base",
            "_view_module_version": "1.2.0",
            "_view_name": "StyleView",
            "bar_color": null,
            "description_width": ""
          }
        },
        "cc481b7552db4f56aa0c58f5beab7a15": {
          "model_module": "@jupyter-widgets/controls",
          "model_module_version": "1.5.0",
          "model_name": "FloatProgressModel",
          "state": {
            "_dom_classes": [],
            "_model_module": "@jupyter-widgets/controls",
            "_model_module_version": "1.5.0",
            "_model_name": "FloatProgressModel",
            "_view_count": null,
            "_view_module": "@jupyter-widgets/controls",
            "_view_module_version": "1.5.0",
            "_view_name": "ProgressView",
            "bar_style": "success",
            "description": "",
            "description_tooltip": null,
            "layout": "IPY_MODEL_ee110dbb5e644d73af09ae5c67bddbeb",
            "max": 3,
            "min": 0,
            "orientation": "horizontal",
            "style": "IPY_MODEL_0759b1dba2be400dae3587b4137aa532",
            "value": 3
          }
        },
        "d1169867e7044ed4b3e05a626a7e8ee5": {
          "model_module": "@jupyter-widgets/base",
          "model_module_version": "1.2.0",
          "model_name": "LayoutModel",
          "state": {
            "_model_module": "@jupyter-widgets/base",
            "_model_module_version": "1.2.0",
            "_model_name": "LayoutModel",
            "_view_count": null,
            "_view_module": "@jupyter-widgets/base",
            "_view_module_version": "1.2.0",
            "_view_name": "LayoutView",
            "align_content": null,
            "align_items": null,
            "align_self": null,
            "border": null,
            "bottom": null,
            "display": null,
            "flex": null,
            "flex_flow": null,
            "grid_area": null,
            "grid_auto_columns": null,
            "grid_auto_flow": null,
            "grid_auto_rows": null,
            "grid_column": null,
            "grid_gap": null,
            "grid_row": null,
            "grid_template_areas": null,
            "grid_template_columns": null,
            "grid_template_rows": null,
            "height": null,
            "justify_content": null,
            "justify_items": null,
            "left": null,
            "margin": null,
            "max_height": null,
            "max_width": null,
            "min_height": null,
            "min_width": null,
            "object_fit": null,
            "object_position": null,
            "order": null,
            "overflow": null,
            "overflow_x": null,
            "overflow_y": null,
            "padding": null,
            "right": null,
            "top": null,
            "visibility": null,
            "width": null
          }
        },
        "d358f63a61604a0e9af66d2fd9c2d78a": {
          "model_module": "@jupyter-widgets/controls",
          "model_module_version": "1.5.0",
          "model_name": "HBoxModel",
          "state": {
            "_dom_classes": [],
            "_model_module": "@jupyter-widgets/controls",
            "_model_module_version": "1.5.0",
            "_model_name": "HBoxModel",
            "_view_count": null,
            "_view_module": "@jupyter-widgets/controls",
            "_view_module_version": "1.5.0",
            "_view_name": "HBoxView",
            "box_style": "",
            "children": [
              "IPY_MODEL_993beb97de384bcaa2ca40510a18113b",
              "IPY_MODEL_6746382a70354f42a6c68163a109ed6a",
              "IPY_MODEL_2af3325570514baf9b3f5a66da752748"
            ],
            "layout": "IPY_MODEL_e2cf32ad617947c3a65ffc4ea0490ffc"
          }
        },
        "d40e89b7e02c4ff6b82a29bb0e498abf": {
          "model_module": "@jupyter-widgets/controls",
          "model_module_version": "1.5.0",
          "model_name": "HTMLModel",
          "state": {
            "_dom_classes": [],
            "_model_module": "@jupyter-widgets/controls",
            "_model_module_version": "1.5.0",
            "_model_name": "HTMLModel",
            "_view_count": null,
            "_view_module": "@jupyter-widgets/controls",
            "_view_module_version": "1.5.0",
            "_view_name": "HTMLView",
            "description": "",
            "description_tooltip": null,
            "layout": "IPY_MODEL_398924f5e5b84f51bfec520c2d37101b",
            "placeholder": "​",
            "style": "IPY_MODEL_d505adee401c47b081c371554b299711",
            "value": "Generating validation split:  95%"
          }
        },
        "d423f14253b849f9876b0219c2cc2cf0": {
          "model_module": "@jupyter-widgets/controls",
          "model_module_version": "1.5.0",
          "model_name": "FloatProgressModel",
          "state": {
            "_dom_classes": [],
            "_model_module": "@jupyter-widgets/controls",
            "_model_module_version": "1.5.0",
            "_model_name": "FloatProgressModel",
            "_view_count": null,
            "_view_module": "@jupyter-widgets/controls",
            "_view_module_version": "1.5.0",
            "_view_name": "ProgressView",
            "bar_style": "",
            "description": "",
            "description_tooltip": null,
            "layout": "IPY_MODEL_a02587280519433bb81ee0ae2eaab2c1",
            "max": 5622,
            "min": 0,
            "orientation": "horizontal",
            "style": "IPY_MODEL_b47076b226284ae48a7e3725d92b8375",
            "value": 5622
          }
        },
        "d4e332f377a240e0b926126bb3d1e8f2": {
          "model_module": "@jupyter-widgets/controls",
          "model_module_version": "1.5.0",
          "model_name": "HBoxModel",
          "state": {
            "_dom_classes": [],
            "_model_module": "@jupyter-widgets/controls",
            "_model_module_version": "1.5.0",
            "_model_name": "HBoxModel",
            "_view_count": null,
            "_view_module": "@jupyter-widgets/controls",
            "_view_module_version": "1.5.0",
            "_view_name": "HBoxView",
            "box_style": "",
            "children": [
              "IPY_MODEL_d40e89b7e02c4ff6b82a29bb0e498abf",
              "IPY_MODEL_d423f14253b849f9876b0219c2cc2cf0",
              "IPY_MODEL_150da5e284f3484b849c82db8f227fa5"
            ],
            "layout": "IPY_MODEL_b3f000b3ed1d48bb9c4f0a6935888b4c"
          }
        },
        "d505adee401c47b081c371554b299711": {
          "model_module": "@jupyter-widgets/controls",
          "model_module_version": "1.5.0",
          "model_name": "DescriptionStyleModel",
          "state": {
            "_model_module": "@jupyter-widgets/controls",
            "_model_module_version": "1.5.0",
            "_model_name": "DescriptionStyleModel",
            "_view_count": null,
            "_view_module": "@jupyter-widgets/base",
            "_view_module_version": "1.2.0",
            "_view_name": "StyleView",
            "description_width": ""
          }
        },
        "d5aa54b040214447ae1aed8be7c58904": {
          "model_module": "@jupyter-widgets/controls",
          "model_module_version": "1.5.0",
          "model_name": "ProgressStyleModel",
          "state": {
            "_model_module": "@jupyter-widgets/controls",
            "_model_module_version": "1.5.0",
            "_model_name": "ProgressStyleModel",
            "_view_count": null,
            "_view_module": "@jupyter-widgets/base",
            "_view_module_version": "1.2.0",
            "_view_name": "StyleView",
            "bar_color": null,
            "description_width": ""
          }
        },
        "d796f4492abb49afb34879eb12a3f097": {
          "model_module": "@jupyter-widgets/controls",
          "model_module_version": "1.5.0",
          "model_name": "HBoxModel",
          "state": {
            "_dom_classes": [],
            "_model_module": "@jupyter-widgets/controls",
            "_model_module_version": "1.5.0",
            "_model_name": "HBoxModel",
            "_view_count": null,
            "_view_module": "@jupyter-widgets/controls",
            "_view_module_version": "1.5.0",
            "_view_name": "HBoxView",
            "box_style": "",
            "children": [
              "IPY_MODEL_8b4b7210c0994527afd18fc301daaed6",
              "IPY_MODEL_ed3569bf77654746b7956090541ec314",
              "IPY_MODEL_f1dc626608de438c82e99bab3e5bbc11"
            ],
            "layout": "IPY_MODEL_155b6d0bf73d4d66ba8d32c6a083a367"
          }
        },
        "dfead62964634d7b9c67fa08bbe8f33a": {
          "model_module": "@jupyter-widgets/controls",
          "model_module_version": "1.5.0",
          "model_name": "DescriptionStyleModel",
          "state": {
            "_model_module": "@jupyter-widgets/controls",
            "_model_module_version": "1.5.0",
            "_model_name": "DescriptionStyleModel",
            "_view_count": null,
            "_view_module": "@jupyter-widgets/base",
            "_view_module_version": "1.2.0",
            "_view_name": "StyleView",
            "description_width": ""
          }
        },
        "e00346a7c8434dbc881f98cc30e4f1fb": {
          "model_module": "@jupyter-widgets/controls",
          "model_module_version": "1.5.0",
          "model_name": "HBoxModel",
          "state": {
            "_dom_classes": [],
            "_model_module": "@jupyter-widgets/controls",
            "_model_module_version": "1.5.0",
            "_model_name": "HBoxModel",
            "_view_count": null,
            "_view_module": "@jupyter-widgets/controls",
            "_view_module_version": "1.5.0",
            "_view_name": "HBoxView",
            "box_style": "",
            "children": [
              "IPY_MODEL_b065fc3ae2e148f7b63e7a0c510e4e93",
              "IPY_MODEL_9a96a67953fc4aabb3f59ca378ed5752",
              "IPY_MODEL_8b23027d0bb74f4a84a663e2e64faa53"
            ],
            "layout": "IPY_MODEL_862829f1b7ad42deb3e202142058bd7e"
          }
        },
        "e2cf32ad617947c3a65ffc4ea0490ffc": {
          "model_module": "@jupyter-widgets/base",
          "model_module_version": "1.2.0",
          "model_name": "LayoutModel",
          "state": {
            "_model_module": "@jupyter-widgets/base",
            "_model_module_version": "1.2.0",
            "_model_name": "LayoutModel",
            "_view_count": null,
            "_view_module": "@jupyter-widgets/base",
            "_view_module_version": "1.2.0",
            "_view_name": "LayoutView",
            "align_content": null,
            "align_items": null,
            "align_self": null,
            "border": null,
            "bottom": null,
            "display": null,
            "flex": null,
            "flex_flow": null,
            "grid_area": null,
            "grid_auto_columns": null,
            "grid_auto_flow": null,
            "grid_auto_rows": null,
            "grid_column": null,
            "grid_gap": null,
            "grid_row": null,
            "grid_template_areas": null,
            "grid_template_columns": null,
            "grid_template_rows": null,
            "height": null,
            "justify_content": null,
            "justify_items": null,
            "left": null,
            "margin": null,
            "max_height": null,
            "max_width": null,
            "min_height": null,
            "min_width": null,
            "object_fit": null,
            "object_position": null,
            "order": null,
            "overflow": null,
            "overflow_x": null,
            "overflow_y": null,
            "padding": null,
            "right": null,
            "top": null,
            "visibility": null,
            "width": null
          }
        },
        "ec7455280bff40bdaf9d6a5129d71f58": {
          "model_module": "@jupyter-widgets/base",
          "model_module_version": "1.2.0",
          "model_name": "LayoutModel",
          "state": {
            "_model_module": "@jupyter-widgets/base",
            "_model_module_version": "1.2.0",
            "_model_name": "LayoutModel",
            "_view_count": null,
            "_view_module": "@jupyter-widgets/base",
            "_view_module_version": "1.2.0",
            "_view_name": "LayoutView",
            "align_content": null,
            "align_items": null,
            "align_self": null,
            "border": null,
            "bottom": null,
            "display": null,
            "flex": null,
            "flex_flow": null,
            "grid_area": null,
            "grid_auto_columns": null,
            "grid_auto_flow": null,
            "grid_auto_rows": null,
            "grid_column": null,
            "grid_gap": null,
            "grid_row": null,
            "grid_template_areas": null,
            "grid_template_columns": null,
            "grid_template_rows": null,
            "height": null,
            "justify_content": null,
            "justify_items": null,
            "left": null,
            "margin": null,
            "max_height": null,
            "max_width": null,
            "min_height": null,
            "min_width": null,
            "object_fit": null,
            "object_position": null,
            "order": null,
            "overflow": null,
            "overflow_x": null,
            "overflow_y": null,
            "padding": null,
            "right": null,
            "top": null,
            "visibility": null,
            "width": null
          }
        },
        "ed3569bf77654746b7956090541ec314": {
          "model_module": "@jupyter-widgets/controls",
          "model_module_version": "1.5.0",
          "model_name": "FloatProgressModel",
          "state": {
            "_dom_classes": [],
            "_model_module": "@jupyter-widgets/controls",
            "_model_module_version": "1.5.0",
            "_model_name": "FloatProgressModel",
            "_view_count": null,
            "_view_module": "@jupyter-widgets/controls",
            "_view_module_version": "1.5.0",
            "_view_name": "ProgressView",
            "bar_style": "",
            "description": "",
            "description_tooltip": null,
            "layout": "IPY_MODEL_7b635a58f5a4406fa81d59e552b67180",
            "max": 44972,
            "min": 0,
            "orientation": "horizontal",
            "style": "IPY_MODEL_38322db69e394ffcb3dbb46a4c0db509",
            "value": 44972
          }
        },
        "eddb0df44b24477fb7de368057b55b68": {
          "model_module": "@jupyter-widgets/controls",
          "model_module_version": "1.5.0",
          "model_name": "HTMLModel",
          "state": {
            "_dom_classes": [],
            "_model_module": "@jupyter-widgets/controls",
            "_model_module_version": "1.5.0",
            "_model_name": "HTMLModel",
            "_view_count": null,
            "_view_module": "@jupyter-widgets/controls",
            "_view_module_version": "1.5.0",
            "_view_name": "HTMLView",
            "description": "",
            "description_tooltip": null,
            "layout": "IPY_MODEL_8565a51f99c44a9f97aebafbfb7bcfcf",
            "placeholder": "​",
            "style": "IPY_MODEL_978432b1fe0243a1ab816f400df16619",
            "value": " 1.86k/? [00:00&lt;00:00, 43.2kB/s]"
          }
        },
        "ee110dbb5e644d73af09ae5c67bddbeb": {
          "model_module": "@jupyter-widgets/base",
          "model_module_version": "1.2.0",
          "model_name": "LayoutModel",
          "state": {
            "_model_module": "@jupyter-widgets/base",
            "_model_module_version": "1.2.0",
            "_model_name": "LayoutModel",
            "_view_count": null,
            "_view_module": "@jupyter-widgets/base",
            "_view_module_version": "1.2.0",
            "_view_name": "LayoutView",
            "align_content": null,
            "align_items": null,
            "align_self": null,
            "border": null,
            "bottom": null,
            "display": null,
            "flex": null,
            "flex_flow": null,
            "grid_area": null,
            "grid_auto_columns": null,
            "grid_auto_flow": null,
            "grid_auto_rows": null,
            "grid_column": null,
            "grid_gap": null,
            "grid_row": null,
            "grid_template_areas": null,
            "grid_template_columns": null,
            "grid_template_rows": null,
            "height": null,
            "justify_content": null,
            "justify_items": null,
            "left": null,
            "margin": null,
            "max_height": null,
            "max_width": null,
            "min_height": null,
            "min_width": null,
            "object_fit": null,
            "object_position": null,
            "order": null,
            "overflow": null,
            "overflow_x": null,
            "overflow_y": null,
            "padding": null,
            "right": null,
            "top": null,
            "visibility": null,
            "width": null
          }
        },
        "f1dc626608de438c82e99bab3e5bbc11": {
          "model_module": "@jupyter-widgets/controls",
          "model_module_version": "1.5.0",
          "model_name": "HTMLModel",
          "state": {
            "_dom_classes": [],
            "_model_module": "@jupyter-widgets/controls",
            "_model_module_version": "1.5.0",
            "_model_name": "HTMLModel",
            "_view_count": null,
            "_view_module": "@jupyter-widgets/controls",
            "_view_module_version": "1.5.0",
            "_view_name": "HTMLView",
            "description": "",
            "description_tooltip": null,
            "layout": "IPY_MODEL_626404bda77a41d0ae1b27aef1479ea3",
            "placeholder": "​",
            "style": "IPY_MODEL_bb49256da0414bba91d9d9a248f53d0a",
            "value": " 44567/44972 [00:07&lt;00:00, 6277.88 examples/s]"
          }
        },
        "f2db89ce44144ba1b6c730bae386b3a0": {
          "model_module": "@jupyter-widgets/base",
          "model_module_version": "1.2.0",
          "model_name": "LayoutModel",
          "state": {
            "_model_module": "@jupyter-widgets/base",
            "_model_module_version": "1.2.0",
            "_model_name": "LayoutModel",
            "_view_count": null,
            "_view_module": "@jupyter-widgets/base",
            "_view_module_version": "1.2.0",
            "_view_name": "LayoutView",
            "align_content": null,
            "align_items": null,
            "align_self": null,
            "border": null,
            "bottom": null,
            "display": null,
            "flex": null,
            "flex_flow": null,
            "grid_area": null,
            "grid_auto_columns": null,
            "grid_auto_flow": null,
            "grid_auto_rows": null,
            "grid_column": null,
            "grid_gap": null,
            "grid_row": null,
            "grid_template_areas": null,
            "grid_template_columns": null,
            "grid_template_rows": null,
            "height": null,
            "justify_content": null,
            "justify_items": null,
            "left": null,
            "margin": null,
            "max_height": null,
            "max_width": null,
            "min_height": null,
            "min_width": null,
            "object_fit": null,
            "object_position": null,
            "order": null,
            "overflow": null,
            "overflow_x": null,
            "overflow_y": null,
            "padding": null,
            "right": null,
            "top": null,
            "visibility": null,
            "width": null
          }
        },
        "f5991f70f0b74f0d84440c0df9e6f510": {
          "model_module": "@jupyter-widgets/base",
          "model_module_version": "1.2.0",
          "model_name": "LayoutModel",
          "state": {
            "_model_module": "@jupyter-widgets/base",
            "_model_module_version": "1.2.0",
            "_model_name": "LayoutModel",
            "_view_count": null,
            "_view_module": "@jupyter-widgets/base",
            "_view_module_version": "1.2.0",
            "_view_name": "LayoutView",
            "align_content": null,
            "align_items": null,
            "align_self": null,
            "border": null,
            "bottom": null,
            "display": null,
            "flex": null,
            "flex_flow": null,
            "grid_area": null,
            "grid_auto_columns": null,
            "grid_auto_flow": null,
            "grid_auto_rows": null,
            "grid_column": null,
            "grid_gap": null,
            "grid_row": null,
            "grid_template_areas": null,
            "grid_template_columns": null,
            "grid_template_rows": null,
            "height": null,
            "justify_content": null,
            "justify_items": null,
            "left": null,
            "margin": null,
            "max_height": null,
            "max_width": null,
            "min_height": null,
            "min_width": null,
            "object_fit": null,
            "object_position": null,
            "order": null,
            "overflow": null,
            "overflow_x": null,
            "overflow_y": null,
            "padding": null,
            "right": null,
            "top": null,
            "visibility": null,
            "width": null
          }
        },
        "fd4a9d646f5b4227b8c0fc223f251110": {
          "model_module": "@jupyter-widgets/base",
          "model_module_version": "1.2.0",
          "model_name": "LayoutModel",
          "state": {
            "_model_module": "@jupyter-widgets/base",
            "_model_module_version": "1.2.0",
            "_model_name": "LayoutModel",
            "_view_count": null,
            "_view_module": "@jupyter-widgets/base",
            "_view_module_version": "1.2.0",
            "_view_name": "LayoutView",
            "align_content": null,
            "align_items": null,
            "align_self": null,
            "border": null,
            "bottom": null,
            "display": null,
            "flex": null,
            "flex_flow": null,
            "grid_area": null,
            "grid_auto_columns": null,
            "grid_auto_flow": null,
            "grid_auto_rows": null,
            "grid_column": null,
            "grid_gap": null,
            "grid_row": null,
            "grid_template_areas": null,
            "grid_template_columns": null,
            "grid_template_rows": null,
            "height": null,
            "justify_content": null,
            "justify_items": null,
            "left": null,
            "margin": null,
            "max_height": null,
            "max_width": null,
            "min_height": null,
            "min_width": null,
            "object_fit": null,
            "object_position": null,
            "order": null,
            "overflow": null,
            "overflow_x": null,
            "overflow_y": null,
            "padding": null,
            "right": null,
            "top": null,
            "visibility": null,
            "width": null
          }
        },
        "f68a55d6bc5944f3ac61d737cb667b86": {
          "model_module": "@jupyter-widgets/controls",
          "model_name": "HBoxModel",
          "model_module_version": "1.5.0",
          "state": {
            "_dom_classes": [],
            "_model_module": "@jupyter-widgets/controls",
            "_model_module_version": "1.5.0",
            "_model_name": "HBoxModel",
            "_view_count": null,
            "_view_module": "@jupyter-widgets/controls",
            "_view_module_version": "1.5.0",
            "_view_name": "HBoxView",
            "box_style": "",
            "children": [
              "IPY_MODEL_3128319a0a5843b18ac75c5a549dcffc",
              "IPY_MODEL_94e959f9da11421898e42cda9f7e4d62",
              "IPY_MODEL_c7380b160376443c8b15fe2a9fc6be28"
            ],
            "layout": "IPY_MODEL_ceceb7632e574d6f9402ffc22c5f9728"
          }
        },
        "3128319a0a5843b18ac75c5a549dcffc": {
          "model_module": "@jupyter-widgets/controls",
          "model_name": "HTMLModel",
          "model_module_version": "1.5.0",
          "state": {
            "_dom_classes": [],
            "_model_module": "@jupyter-widgets/controls",
            "_model_module_version": "1.5.0",
            "_model_name": "HTMLModel",
            "_view_count": null,
            "_view_module": "@jupyter-widgets/controls",
            "_view_module_version": "1.5.0",
            "_view_name": "HTMLView",
            "description": "",
            "description_tooltip": null,
            "layout": "IPY_MODEL_f96f5fd3622d4f8890ef7c5c27e85b45",
            "placeholder": "​",
            "style": "IPY_MODEL_05c2b5da56f44453a7ee5640feb17f38",
            "value": "Batches: 100%"
          }
        },
        "94e959f9da11421898e42cda9f7e4d62": {
          "model_module": "@jupyter-widgets/controls",
          "model_name": "FloatProgressModel",
          "model_module_version": "1.5.0",
          "state": {
            "_dom_classes": [],
            "_model_module": "@jupyter-widgets/controls",
            "_model_module_version": "1.5.0",
            "_model_name": "FloatProgressModel",
            "_view_count": null,
            "_view_module": "@jupyter-widgets/controls",
            "_view_module_version": "1.5.0",
            "_view_name": "ProgressView",
            "bar_style": "success",
            "description": "",
            "description_tooltip": null,
            "layout": "IPY_MODEL_f0722caf795a499cb8012454998acbb6",
            "max": 313,
            "min": 0,
            "orientation": "horizontal",
            "style": "IPY_MODEL_fad0dbc3316847c0b11ae74b8c9437a8",
            "value": 313
          }
        },
        "c7380b160376443c8b15fe2a9fc6be28": {
          "model_module": "@jupyter-widgets/controls",
          "model_name": "HTMLModel",
          "model_module_version": "1.5.0",
          "state": {
            "_dom_classes": [],
            "_model_module": "@jupyter-widgets/controls",
            "_model_module_version": "1.5.0",
            "_model_name": "HTMLModel",
            "_view_count": null,
            "_view_module": "@jupyter-widgets/controls",
            "_view_module_version": "1.5.0",
            "_view_name": "HTMLView",
            "description": "",
            "description_tooltip": null,
            "layout": "IPY_MODEL_4fc0607fb21d4b95b38b317eeb12a5ce",
            "placeholder": "​",
            "style": "IPY_MODEL_0956ef06b234443fbec6b1b14172daaa",
            "value": " 313/313 [01:43&lt;00:00,  7.90it/s]"
          }
        },
        "ceceb7632e574d6f9402ffc22c5f9728": {
          "model_module": "@jupyter-widgets/base",
          "model_name": "LayoutModel",
          "model_module_version": "1.2.0",
          "state": {
            "_model_module": "@jupyter-widgets/base",
            "_model_module_version": "1.2.0",
            "_model_name": "LayoutModel",
            "_view_count": null,
            "_view_module": "@jupyter-widgets/base",
            "_view_module_version": "1.2.0",
            "_view_name": "LayoutView",
            "align_content": null,
            "align_items": null,
            "align_self": null,
            "border": null,
            "bottom": null,
            "display": null,
            "flex": null,
            "flex_flow": null,
            "grid_area": null,
            "grid_auto_columns": null,
            "grid_auto_flow": null,
            "grid_auto_rows": null,
            "grid_column": null,
            "grid_gap": null,
            "grid_row": null,
            "grid_template_areas": null,
            "grid_template_columns": null,
            "grid_template_rows": null,
            "height": null,
            "justify_content": null,
            "justify_items": null,
            "left": null,
            "margin": null,
            "max_height": null,
            "max_width": null,
            "min_height": null,
            "min_width": null,
            "object_fit": null,
            "object_position": null,
            "order": null,
            "overflow": null,
            "overflow_x": null,
            "overflow_y": null,
            "padding": null,
            "right": null,
            "top": null,
            "visibility": null,
            "width": null
          }
        },
        "f96f5fd3622d4f8890ef7c5c27e85b45": {
          "model_module": "@jupyter-widgets/base",
          "model_name": "LayoutModel",
          "model_module_version": "1.2.0",
          "state": {
            "_model_module": "@jupyter-widgets/base",
            "_model_module_version": "1.2.0",
            "_model_name": "LayoutModel",
            "_view_count": null,
            "_view_module": "@jupyter-widgets/base",
            "_view_module_version": "1.2.0",
            "_view_name": "LayoutView",
            "align_content": null,
            "align_items": null,
            "align_self": null,
            "border": null,
            "bottom": null,
            "display": null,
            "flex": null,
            "flex_flow": null,
            "grid_area": null,
            "grid_auto_columns": null,
            "grid_auto_flow": null,
            "grid_auto_rows": null,
            "grid_column": null,
            "grid_gap": null,
            "grid_row": null,
            "grid_template_areas": null,
            "grid_template_columns": null,
            "grid_template_rows": null,
            "height": null,
            "justify_content": null,
            "justify_items": null,
            "left": null,
            "margin": null,
            "max_height": null,
            "max_width": null,
            "min_height": null,
            "min_width": null,
            "object_fit": null,
            "object_position": null,
            "order": null,
            "overflow": null,
            "overflow_x": null,
            "overflow_y": null,
            "padding": null,
            "right": null,
            "top": null,
            "visibility": null,
            "width": null
          }
        },
        "05c2b5da56f44453a7ee5640feb17f38": {
          "model_module": "@jupyter-widgets/controls",
          "model_name": "DescriptionStyleModel",
          "model_module_version": "1.5.0",
          "state": {
            "_model_module": "@jupyter-widgets/controls",
            "_model_module_version": "1.5.0",
            "_model_name": "DescriptionStyleModel",
            "_view_count": null,
            "_view_module": "@jupyter-widgets/base",
            "_view_module_version": "1.2.0",
            "_view_name": "StyleView",
            "description_width": ""
          }
        },
        "f0722caf795a499cb8012454998acbb6": {
          "model_module": "@jupyter-widgets/base",
          "model_name": "LayoutModel",
          "model_module_version": "1.2.0",
          "state": {
            "_model_module": "@jupyter-widgets/base",
            "_model_module_version": "1.2.0",
            "_model_name": "LayoutModel",
            "_view_count": null,
            "_view_module": "@jupyter-widgets/base",
            "_view_module_version": "1.2.0",
            "_view_name": "LayoutView",
            "align_content": null,
            "align_items": null,
            "align_self": null,
            "border": null,
            "bottom": null,
            "display": null,
            "flex": null,
            "flex_flow": null,
            "grid_area": null,
            "grid_auto_columns": null,
            "grid_auto_flow": null,
            "grid_auto_rows": null,
            "grid_column": null,
            "grid_gap": null,
            "grid_row": null,
            "grid_template_areas": null,
            "grid_template_columns": null,
            "grid_template_rows": null,
            "height": null,
            "justify_content": null,
            "justify_items": null,
            "left": null,
            "margin": null,
            "max_height": null,
            "max_width": null,
            "min_height": null,
            "min_width": null,
            "object_fit": null,
            "object_position": null,
            "order": null,
            "overflow": null,
            "overflow_x": null,
            "overflow_y": null,
            "padding": null,
            "right": null,
            "top": null,
            "visibility": null,
            "width": null
          }
        },
        "fad0dbc3316847c0b11ae74b8c9437a8": {
          "model_module": "@jupyter-widgets/controls",
          "model_name": "ProgressStyleModel",
          "model_module_version": "1.5.0",
          "state": {
            "_model_module": "@jupyter-widgets/controls",
            "_model_module_version": "1.5.0",
            "_model_name": "ProgressStyleModel",
            "_view_count": null,
            "_view_module": "@jupyter-widgets/base",
            "_view_module_version": "1.2.0",
            "_view_name": "StyleView",
            "bar_color": null,
            "description_width": ""
          }
        },
        "4fc0607fb21d4b95b38b317eeb12a5ce": {
          "model_module": "@jupyter-widgets/base",
          "model_name": "LayoutModel",
          "model_module_version": "1.2.0",
          "state": {
            "_model_module": "@jupyter-widgets/base",
            "_model_module_version": "1.2.0",
            "_model_name": "LayoutModel",
            "_view_count": null,
            "_view_module": "@jupyter-widgets/base",
            "_view_module_version": "1.2.0",
            "_view_name": "LayoutView",
            "align_content": null,
            "align_items": null,
            "align_self": null,
            "border": null,
            "bottom": null,
            "display": null,
            "flex": null,
            "flex_flow": null,
            "grid_area": null,
            "grid_auto_columns": null,
            "grid_auto_flow": null,
            "grid_auto_rows": null,
            "grid_column": null,
            "grid_gap": null,
            "grid_row": null,
            "grid_template_areas": null,
            "grid_template_columns": null,
            "grid_template_rows": null,
            "height": null,
            "justify_content": null,
            "justify_items": null,
            "left": null,
            "margin": null,
            "max_height": null,
            "max_width": null,
            "min_height": null,
            "min_width": null,
            "object_fit": null,
            "object_position": null,
            "order": null,
            "overflow": null,
            "overflow_x": null,
            "overflow_y": null,
            "padding": null,
            "right": null,
            "top": null,
            "visibility": null,
            "width": null
          }
        },
        "0956ef06b234443fbec6b1b14172daaa": {
          "model_module": "@jupyter-widgets/controls",
          "model_name": "DescriptionStyleModel",
          "model_module_version": "1.5.0",
          "state": {
            "_model_module": "@jupyter-widgets/controls",
            "_model_module_version": "1.5.0",
            "_model_name": "DescriptionStyleModel",
            "_view_count": null,
            "_view_module": "@jupyter-widgets/base",
            "_view_module_version": "1.2.0",
            "_view_name": "StyleView",
            "description_width": ""
          }
        }
      }
    }
  },
  "nbformat": 4,
  "nbformat_minor": 0
}